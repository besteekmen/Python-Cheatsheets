{
 "cells": [
  {
   "cell_type": "markdown",
   "id": "0e7c0a02",
   "metadata": {},
   "source": [
    "# Python Cheatsheets - DATA ANALYSIS"
   ]
  },
  {
   "cell_type": "markdown",
   "id": "af8b011c",
   "metadata": {},
   "source": [
    "## Data Manipulation\n",
    "\n",
    "### Pandas\n",
    "Pandas is a fast, powerful, flexible and easy to use open source data analysis and manipulation tool,\n",
    "built on top of the Python programming language. It provides high-performance, easy-to-use data structures and data analysis tools for Python. \n",
    "\n",
    "More information: https://pandas.pydata.org/"
   ]
  },
  {
   "cell_type": "code",
   "execution_count": 1,
   "id": "0adb20cd",
   "metadata": {},
   "outputs": [],
   "source": [
    "# import necessary libraries for plotting, and file reading\n",
    "import matplotlib.pyplot as plt\n",
    "import numpy as np\n",
    "import csv"
   ]
  },
  {
   "cell_type": "markdown",
   "id": "b069ac4a",
   "metadata": {},
   "source": [
    "Matplotlib provides many common plotting commands. Some of these plotting commands are shown below. For more types, please refer to the original matplotlib package sources (https://matplotlib.org/stable/plot_types).\n",
    "\n",
    "#### 1) Line Plot \n",
    "A line plot is a simple plot joining straight lines connecting data points where the x-axis and y-axis values intersect."
   ]
  },
  {
   "cell_type": "markdown",
   "id": "f85afaf1",
   "metadata": {},
   "source": [
    "#### 2) Scatter Plot \n",
    "A scatter plot is more suitable in cases such as assessing a correlation between two variables rather than observing a time data."
   ]
  },
  {
   "cell_type": "markdown",
   "id": "0fa799a5",
   "metadata": {},
   "source": [
    "#### 3) Histogram \n",
    "A histogram divides data into bins and counts the number of data points in each bin, where the height of each bar represents the count of data points within that bin. It is useful to explore the data and get an idea about the distribution. If not specified, by default Python sets the number of bins to 10. Too few bins will oversimplify, while too many bins will overcomplicate the reality."
   ]
  },
  {
   "cell_type": "code",
   "execution_count": null,
   "id": "3e9e26ae",
   "metadata": {},
   "outputs": [],
   "source": []
  }
 ],
 "metadata": {
  "kernelspec": {
   "display_name": "tf-gpu-coursera",
   "language": "python",
   "name": "python3"
  },
  "language_info": {
   "codemirror_mode": {
    "name": "ipython",
    "version": 3
   },
   "file_extension": ".py",
   "mimetype": "text/x-python",
   "name": "python",
   "nbconvert_exporter": "python",
   "pygments_lexer": "ipython3",
   "version": "3.10.4"
  }
 },
 "nbformat": 4,
 "nbformat_minor": 5
}
