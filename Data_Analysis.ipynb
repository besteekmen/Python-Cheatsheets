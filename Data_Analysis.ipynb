{
 "cells": [
  {
   "cell_type": "markdown",
   "id": "0e7c0a02",
   "metadata": {},
   "source": [
    "# Python Cheatsheets - DATA ANALYSIS"
   ]
  },
  {
   "cell_type": "markdown",
   "id": "af8b011c",
   "metadata": {},
   "source": [
    "## Data Visualization\n",
    "\n",
    "### Matplotlib\n",
    "Matplotlib is a Python package to create two-dimensional plots from data stored in a variety of data structures (i.e. lists, numpy arrays, pandas dataframes). It uses an object oriented approach for plotting to build plots step-by-step by adding new elements to the plot."
   ]
  },
  {
   "cell_type": "code",
   "execution_count": 1,
   "id": "0adb20cd",
   "metadata": {},
   "outputs": [],
   "source": [
    "# import necessary libraries for plotting, and file reading\n",
    "import matplotlib.pyplot as plt\n",
    "import numpy as np\n",
    "import csv"
   ]
  },
  {
   "cell_type": "markdown",
   "id": "b069ac4a",
   "metadata": {},
   "source": [
    "Matplotlib provides many common plotting commands. Some of these plotting commands are shown below. For more types, please refer to the original matplotlib package sources (https://matplotlib.org/stable/plot_types).\n",
    "\n",
    "#### 1) Line Plot \n",
    "A line plot is a simple plot joining straight lines connecting data points where the x-axis and y-axis values intersect."
   ]
  },
  {
   "cell_type": "code",
   "execution_count": 2,
   "id": "56e45772",
   "metadata": {},
   "outputs": [
    {
     "data": {
      "image/png": "[encoded data removed]",
      "text/plain": [
       "<Figure size 432x288 with 1 Axes>"
      ]
     },
     "metadata": {
      "needs_background": "light"
     },
     "output_type": "display_data"
    }
   ],
   "source": [
    "# Line Plot (world population extracted from https://databank.worldbank.org/)\n",
    "file = open(\"data/world_population.csv\", \"r\")\n",
    "[year, pop] = list(csv.reader(file, delimiter=\";\"))\n",
    "file.close()\n",
    "\n",
    "pop_int = int(pop)\n",
    "plt.plot(year, pop_int)\n",
    "plt.show()"
   ]
  },
  {
   "cell_type": "markdown",
   "id": "f85afaf1",
   "metadata": {},
   "source": [
    "#### 1) Scatter Plot \n",
    "A scatter plot is more suitable in cases such as assessing a correlation between two variables rather than observing a time data."
   ]
  },
  {
   "cell_type": "code",
   "execution_count": 3,
   "id": "d1750163",
   "metadata": {},
   "outputs": [],
   "source": [
    "# Scatter Plot (data extraxted from https://www.kaggle.com/datasets/lashagoch/life-expectancy-who-updated)\n",
    "file = open(\"data/life_expectancy.csv\", \"r\")\n",
    "[gdp_cap, life_exp] = list(csv.reader(file, delimiter=\";\"))\n",
    "file.close()"
   ]
  },
  {
   "cell_type": "code",
   "execution_count": 89,
   "id": "5f51a2c7",
   "metadata": {},
   "outputs": [
    {
     "data": {
      "text/plain": [
       "['43,83',\n",
       " '76,42',\n",
       " '72,30',\n",
       " '42,73',\n",
       " '75,32',\n",
       " '81,24',\n",
       " '79,83',\n",
       " '75,64',\n",
       " '64,06',\n",
       " '79,44',\n",
       " '56,73',\n",
       " '65,55',\n",
       " '74,85',\n",
       " '50,73',\n",
       " '72,39',\n",
       " '73,01',\n",
       " '52,30',\n",
       " '49,58',\n",
       " '59,72',\n",
       " '50,43',\n",
       " '80,65',\n",
       " '44,74',\n",
       " '50,65',\n",
       " '78,55',\n",
       " '72,96',\n",
       " '72,89',\n",
       " '65,15',\n",
       " '46,46',\n",
       " '55,32',\n",
       " '78,78',\n",
       " '48,33',\n",
       " '75,75',\n",
       " '78,27',\n",
       " '76,49',\n",
       " '78,33',\n",
       " '54,79',\n",
       " '72,24',\n",
       " '74,99',\n",
       " '71,34',\n",
       " '71,88',\n",
       " '51,58',\n",
       " '58,04',\n",
       " '52,95',\n",
       " '79,31',\n",
       " '80,66',\n",
       " '56,74',\n",
       " '59,45',\n",
       " '79,41',\n",
       " '60,02',\n",
       " '79,48',\n",
       " '70,26',\n",
       " '56,01',\n",
       " '46,39',\n",
       " '60,92',\n",
       " '70,20',\n",
       " '82,21',\n",
       " '73,34',\n",
       " '81,76',\n",
       " '64,70',\n",
       " '70,65',\n",
       " '70,96',\n",
       " '59,55',\n",
       " '78,89',\n",
       " '80,75',\n",
       " '80,55',\n",
       " '72,57',\n",
       " '82,60',\n",
       " '72,54',\n",
       " '54,11',\n",
       " '67,30',\n",
       " '78,62',\n",
       " '77,59',\n",
       " '71,99',\n",
       " '42,59',\n",
       " '45,68',\n",
       " '73,95',\n",
       " '59,44',\n",
       " '48,30',\n",
       " '74,24',\n",
       " '54,47',\n",
       " '64,16',\n",
       " '72,80',\n",
       " '76,20',\n",
       " '66,80',\n",
       " '74,54',\n",
       " '71,16',\n",
       " '42,08',\n",
       " '62,07',\n",
       " '52,91',\n",
       " '63,79',\n",
       " '79,76',\n",
       " '80,20',\n",
       " '72,90',\n",
       " '56,87',\n",
       " '46,86',\n",
       " '80,20',\n",
       " '75,64',\n",
       " '65,48',\n",
       " '75,54',\n",
       " '71,75',\n",
       " '71,42',\n",
       " '71,69',\n",
       " '75,56',\n",
       " '78,10',\n",
       " '78,75',\n",
       " '76,44',\n",
       " '72,48',\n",
       " '46,24',\n",
       " '65,53',\n",
       " '72,78',\n",
       " '63,06',\n",
       " '74,00',\n",
       " '42,57',\n",
       " '79,97',\n",
       " '74,66',\n",
       " '77,93',\n",
       " '48,16',\n",
       " '49,34',\n",
       " '80,94',\n",
       " '72,40',\n",
       " '58,56',\n",
       " '39,61',\n",
       " '80,88',\n",
       " '81,70',\n",
       " '74,14',\n",
       " '78,40',\n",
       " '52,52',\n",
       " '70,62',\n",
       " '58,42',\n",
       " '69,82',\n",
       " '73,92',\n",
       " '71,78',\n",
       " '51,54',\n",
       " '79,43',\n",
       " '78,24',\n",
       " '76,38',\n",
       " '73,75',\n",
       " '74,25',\n",
       " '73,42',\n",
       " '62,70',\n",
       " '42,38',\n",
       " '43,49']"
      ]
     },
     "execution_count": 89,
     "metadata": {},
     "output_type": "execute_result"
    }
   ],
   "source": [
    "life_exp"
   ]
  },
  {
   "cell_type": "code",
   "execution_count": 90,
   "id": "48a0b301",
   "metadata": {},
   "outputs": [
    {
     "data": {
      "image/png": "[encoded data removed]",
      "text/plain": [
       "<Figure size 432x288 with 1 Axes>"
      ]
     },
     "metadata": {
      "needs_background": "light"
     },
     "output_type": "display_data"
    }
   ],
   "source": [
    "# Change the line plot below to a scatter plot\n",
    "plt.scatter(gdp_cap, life_exp)\n",
    "\n",
    "# Put the x-axis on a logarithmic scale\n",
    "plt.xscale('log')\n",
    "\n",
    "# Show plot\n",
    "plt.show()"
   ]
  }
 ],
 "metadata": {
  "kernelspec": {
   "display_name": "tf-gpu-coursera",
   "language": "python",
   "name": "python3"
  },
  "language_info": {
   "codemirror_mode": {
    "name": "ipython",
    "version": 3
   },
   "file_extension": ".py",
   "mimetype": "text/x-python",
   "name": "python",
   "nbconvert_exporter": "python",
   "pygments_lexer": "ipython3",
   "version": "3.10.4"
  }
 },
 "nbformat": 4,
 "nbformat_minor": 5
}
