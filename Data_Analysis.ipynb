{
 "cells": [
  {
   "cell_type": "markdown",
   "id": "0e7c0a02",
   "metadata": {},
   "source": [
    "# Python Cheatsheets - DATA ANALYSIS"
   ]
  },
  {
   "cell_type": "markdown",
   "id": "af8b011c",
   "metadata": {},
   "source": [
    "## Data Manipulation\n",
    "\n",
    "### Pandas\n",
    "Pandas is a fast, powerful, flexible and easy to use open source data analysis and manipulation tool,\n",
    "built on top of the Python programming language. It provides high-performance, easy-to-use data structures and data analysis tools for Python. \n",
    "\n",
    "More information: https://pandas.pydata.org/"
   ]
  },
  {
   "cell_type": "code",
   "execution_count": null,
   "id": "fc6352ec",
   "metadata": {},
   "outputs": [],
   "source": [
    "# RUN IF PANDAS IS NOT INSTALLED\n",
    "\n",
    "# install pandas either with conda or with pip\n",
    "# conda install -c conda-forge pandas\n",
    "!pip install pandas\n",
    "\n",
    "# verify if pandas is installed\n",
    "# pip show pandas"
   ]
  },
  {
   "cell_type": "code",
   "execution_count": 15,
   "id": "0adb20cd",
   "metadata": {},
   "outputs": [],
   "source": [
    "# import necessary libraries for pandas and other necessary libraries\n",
    "import pandas as pd\n",
    "import numpy as np\n",
    "import csv"
   ]
  },
  {
   "cell_type": "markdown",
   "id": "b069ac4a",
   "metadata": {},
   "source": [
    "#### 1) Data Classes\n",
    "\n",
    "Pandas has two types of classes to handle data: __Series__ and __DataFrame__\n",
    "\n",
    "- __Series:__ A one-dimensional labeled array holding data of any type such as integers, strings, Python objects etc."
   ]
  },
  {
   "cell_type": "code",
   "execution_count": 21,
   "id": "5ba3a1b3",
   "metadata": {},
   "outputs": [
    {
     "name": "stdout",
     "output_type": "stream",
     "text": [
      "<class 'pandas.core.series.Series'>\n",
      "0    1.0\n",
      "1    3.0\n",
      "2    4.0\n",
      "3    NaN\n",
      "4    6.0\n",
      "5    9.0\n",
      "dtype: float64\n"
     ]
    }
   ],
   "source": [
    "# create a series by passing a list of values\n",
    "s = pd.Series([1, 3, 4, np.nan, 6, 9])\n",
    "print(type(s), end=\"\\n\")\n",
    "print(s)"
   ]
  },
  {
   "cell_type": "markdown",
   "id": "fedea56b",
   "metadata": {},
   "source": [
    "- __DataFrame:__ A two-dimensional data structure that holds data like a two-dimension array or a table with rows and columns.\n",
    "\n",
    "_DataFrame from a dictionary:_ A DataFrame can be created by passing a _dictionary_ of objects where the keys are the column labels and the values are the column values."
   ]
  },
  {
   "cell_type": "code",
   "execution_count": 20,
   "id": "da0e9c0b",
   "metadata": {},
   "outputs": [
    {
     "name": "stdout",
     "output_type": "stream",
     "text": [
      "<class 'pandas.core.frame.DataFrame'>\n",
      "           Country    Capital  Population\n",
      "DE         Germany     Berlin    84552242\n",
      "AU       Australia   Canberra    26713205\n",
      "JP           Japan      Tokyo   123753041\n",
      "IN           India  New Delhi  1450935791\n",
      "CN           China    Beijing  1419321278\n",
      "GB  United Kingdom     London    69138192\n"
     ]
    }
   ],
   "source": [
    "# create a DataFrame with a dictionary\n",
    "names = ['Germany', 'Australia', 'Japan', 'India', 'China', 'United Kingdom']\n",
    "cap =  ['Berlin', 'Canberra', 'Tokyo', 'New Delhi', 'Beijing', 'London']\n",
    "pop = [84552242, 26713205, 123753041, 1450935791, 1419321278, 69138192]\n",
    "codes = ['DE', 'AU', 'JP', 'IN', 'CN', 'GB']\n",
    "\n",
    "# create dictionary my_dict with three key:value pairs: my_dict\n",
    "my_dict = {\n",
    "    'Country':names,\n",
    "    'Capital':cap,\n",
    "    'Population':pop\n",
    "}\n",
    "\n",
    "# build a DataFrame countries from my_dict: countries\n",
    "countries = pd.DataFrame(my_dict)\n",
    "countries.index = codes\n",
    "\n",
    "# save the data as a csv file for the latter exercises\n",
    "countries.to_csv(\"data/countries.csv\")\n",
    "\n",
    "# print DataFrame\n",
    "print(type(countries), end=\"\\n\")\n",
    "print(countries)"
   ]
  },
  {
   "cell_type": "markdown",
   "id": "e017d732",
   "metadata": {},
   "source": [
    "_DataFrame from a source file:_ Putting data in a dictionary and then building a DataFrame is not very efficient while dealing with millions of observations. A DataFrame can also be created by reading data from a _source file_ where the data is typically available with a regular structure. An example is the CSV file, which is short for \"comma-separated values\"."
   ]
  },
  {
   "cell_type": "code",
   "execution_count": 23,
   "id": "fe14b33a",
   "metadata": {},
   "outputs": [
    {
     "name": "stdout",
     "output_type": "stream",
     "text": [
      "           Country    Capital  Population\n",
      "DE         Germany     Berlin    84552242\n",
      "AU       Australia   Canberra    26713205\n",
      "JP           Japan      Tokyo   123753041\n",
      "IN           India  New Delhi  1450935791\n",
      "CN           China    Beijing  1419321278\n",
      "GB  United Kingdom     London    69138192\n"
     ]
    }
   ],
   "source": [
    "# read the csv file\n",
    "df = pd.read_csv('data/countries.csv', index_col = 0)\n",
    "\n",
    "# print out the tabular data\n",
    "print(df)"
   ]
  },
  {
   "cell_type": "markdown",
   "id": "ec404e95",
   "metadata": {},
   "source": [
    "#### 2) Indexing and Selecting Data\n",
    "\n",
    "- __Square Brackets:__ The simplest, but not the most powerful way, to index and select is to use square brackets.\n",
    "\n",
    "    - Single square brackets ([]) return a Pandas Series.\n",
    "    - Double square brackets ([[]]) return a Pandas DataFrame."
   ]
  },
  {
   "cell_type": "code",
   "execution_count": 26,
   "id": "e1997382",
   "metadata": {},
   "outputs": [
    {
     "name": "stdout",
     "output_type": "stream",
     "text": [
      "Country column as a  <class 'pandas.core.series.Series'> :\n",
      " DE           Germany\n",
      "AU         Australia\n",
      "JP             Japan\n",
      "IN             India\n",
      "CN             China\n",
      "GB    United Kingdom\n",
      "Name: Country, dtype: object\n",
      "\n",
      "Country column as a  <class 'pandas.core.frame.DataFrame'> :\n",
      "            Country\n",
      "DE         Germany\n",
      "AU       Australia\n",
      "JP           Japan\n",
      "IN           India\n",
      "CN           China\n",
      "GB  United Kingdom\n"
     ]
    }
   ],
   "source": [
    "# read the countries data\n",
    "countries = pd.read_csv('data/countries.csv', index_col = 0)\n",
    "\n",
    "# print out country column as Pandas Series\n",
    "print(\"Country column as a \", type(countries['Country']), \":\\n\", countries['Country']) \n",
    "\n",
    "# print out country column as Pandas DataFrame\n",
    "print(\"\\nCountry column as a \", type(countries[['Country']]), \":\\n\", countries[['Country']]) "
   ]
  },
  {
   "cell_type": "markdown",
   "id": "811c96f2",
   "metadata": {},
   "source": [
    "- __Selecting Rows with Slicing:__ Use slices to select specific rows or observations. We can only select rows using square brackets if we specify a slice, like 0:4, using the integer indexes of the rows and not the row labels."
   ]
  },
  {
   "cell_type": "code",
   "execution_count": 28,
   "id": "be4e3856",
   "metadata": {},
   "outputs": [
    {
     "name": "stdout",
     "output_type": "stream",
     "text": [
      "      Country   Capital  Population\n",
      "DE    Germany    Berlin    84552242\n",
      "AU  Australia  Canberra    26713205\n",
      "JP      Japan     Tokyo   123753041\n",
      "\n",
      "           Country    Capital  Population\n",
      "IN           India  New Delhi  1450935791\n",
      "CN           China    Beijing  1419321278\n",
      "GB  United Kingdom     London    69138192\n"
     ]
    }
   ],
   "source": [
    "# read the countries data\n",
    "#countries = pd.read_csv('data/countries.csv', index_col = 0)\n",
    "\n",
    "# print out first 3 observations\n",
    "print(countries[:3], end=\"\\n\\n\")\n",
    "\n",
    "# print out fourth, fifth and sixth observation\n",
    "print(countries[3:6])"
   ]
  },
  {
   "cell_type": "markdown",
   "id": "3a38ab4e",
   "metadata": {},
   "source": [
    "- ```loc``` __and__ ```iloc```__:__\n",
    "\n",
    "    - ```loc``` is label-based, using row and column labels.\n",
    "    - ```iloc``` is index-based, using integer positions."
   ]
  },
  {
   "cell_type": "code",
   "execution_count": 33,
   "id": "b8f44cd2",
   "metadata": {},
   "outputs": [
    {
     "name": "stdout",
     "output_type": "stream",
     "text": [
      "Country           Japan\n",
      "Capital           Tokyo\n",
      "Population    123753041\n",
      "Name: JP, dtype: object\n",
      "\n",
      "      Country   Capital  Population\n",
      "AU  Australia  Canberra    26713205\n",
      "CN      China   Beijing  1419321278\n",
      "\n",
      "loc['JP'] results the same as iloc[2]:  True\n",
      "loc[['AU','CN']] results the same as iloc[[1, 4]]:  True\n"
     ]
    }
   ],
   "source": [
    "# read the countries data\n",
    "#countries = pd.read_csv('data/countries.csv', index_col = 0)\n",
    "\n",
    "# print out observation for Japan as Pandas Series\n",
    "print(countries.loc['JP'], end=\"\\n\\n\")\n",
    "\n",
    "# print out observations for Australia and China as Pandas DataFrame\n",
    "print(countries.loc[['AU','CN']], end=\"\\n\\n\")\n",
    "\n",
    "# check loc and iloc results the same for Pandas Series\n",
    "print(\"loc['JP'] results the same as iloc[2]: \", countries.loc['JP'].equals(countries.iloc[2]))\n",
    "\n",
    "# check loc and iloc results the same for Pandas DataFrame\n",
    "print(\"loc[['AU','CN']] results the same as iloc[[1, 4]]: \", countries.loc[['AU','CN']].equals(countries.iloc[[1,4]]))"
   ]
  },
  {
   "cell_type": "markdown",
   "id": "14783a37",
   "metadata": {},
   "source": [
    "- __Combining Rows and Columns:__ Use ```loc``` and ```iloc``` to select specific rows and columns simultaneously."
   ]
  },
  {
   "cell_type": "code",
   "execution_count": 40,
   "id": "690fb54c",
   "metadata": {},
   "outputs": [
    {
     "name": "stdout",
     "output_type": "stream",
     "text": [
      "Population of India:  1450935791\n",
      "\n",
      "DE      84552242\n",
      "AU      26713205\n",
      "JP     123753041\n",
      "IN    1450935791\n",
      "CN    1419321278\n",
      "GB      69138192\n",
      "Name: Population, dtype: int64\n",
      "\n",
      "   Capital\n",
      "DE  Berlin\n",
      "\n",
      "           Country  Population\n",
      "IN           India  1450935791\n",
      "GB  United Kingdom    69138192\n",
      "\n",
      "loc['IN', 'Population'] results the same as iloc[3, 2]:  True\n",
      "loc[:,'Population'] results the same as iloc[:, 2]:  True\n",
      "loc[['IN','GB'],['Country','Population']] results the same as iloc[[3, 5], [0, 2]]:  True\n"
     ]
    }
   ],
   "source": [
    "# read the countries data\n",
    "#countries = pd.read_csv('data/countries.csv', index_col = 0)\n",
    "\n",
    "# print out Population value of India\n",
    "print(\"Population of India: \", countries.loc['IN', 'Population'], end=\"\\n\\n\")\n",
    "\n",
    "# print out Population column as Pandas Series\n",
    "print(countries.loc[:,'Population'], end=\"\\n\\n\")\n",
    "\n",
    "# print out Capital value of Germany as Pandas DataFrame\n",
    "print(countries.loc[['DE'],['Capital']], end=\"\\n\\n\")\n",
    "\n",
    "# print sub-DataFrame as Pandas DataFrame\n",
    "print(countries.loc[['IN','GB'],['Country','Population']], end=\"\\n\\n\")\n",
    "\n",
    "# check loc and iloc results the same\n",
    "print(\"loc['IN', 'Population'] results the same as iloc[3, 2]: \", countries.loc['IN', 'Population'] == countries.iloc[3, 2])\n",
    "\n",
    "# check loc and iloc results the same for Pandas Series\n",
    "print(\"loc[:,'Population'] results the same as iloc[:, 2]: \", countries.loc[:,'Population'].equals(countries.iloc[:, 2]))\n",
    "\n",
    "# check loc and iloc results the same for Pandas DataFrame\n",
    "print(\"loc[['IN','GB'],['Country','Population']] results the same as iloc[[3, 5], [0, 2]]: \", countries.loc[['IN','GB'],['Country','Population']].equals(countries.iloc[[3, 5], [0, 2]]))"
   ]
  },
  {
   "cell_type": "code",
   "execution_count": null,
   "id": "f972d0fc",
   "metadata": {},
   "outputs": [],
   "source": []
  }
 ],
 "metadata": {
  "kernelspec": {
   "display_name": "tf-gpu-coursera",
   "language": "python",
   "name": "python3"
  },
  "language_info": {
   "codemirror_mode": {
    "name": "ipython",
    "version": 3
   },
   "file_extension": ".py",
   "mimetype": "text/x-python",
   "name": "python",
   "nbconvert_exporter": "python",
   "pygments_lexer": "ipython3",
   "version": "3.10.4"
  }
 },
 "nbformat": 4,
 "nbformat_minor": 5
}
