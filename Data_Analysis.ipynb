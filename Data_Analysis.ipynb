{
 "cells": [
  {
   "cell_type": "markdown",
   "id": "0e7c0a02",
   "metadata": {},
   "source": [
    "# Python Cheatsheets - DATA ANALYSIS"
   ]
  },
  {
   "cell_type": "markdown",
   "id": "af8b011c",
   "metadata": {},
   "source": [
    "## Data Manipulation\n",
    "\n",
    "### Pandas\n",
    "Pandas is a fast, powerful, flexible and easy to use open source data analysis and manipulation tool,\n",
    "built on top of the Python programming language. It provides high-performance, easy-to-use data structures and data analysis tools for Python. \n",
    "\n",
    "More information: https://pandas.pydata.org/"
   ]
  },
  {
   "cell_type": "code",
   "execution_count": null,
   "id": "fc6352ec",
   "metadata": {},
   "outputs": [],
   "source": [
    "# RUN IF PANDAS IS NOT INSTALLED\n",
    "\n",
    "# install pandas either with conda or with pip\n",
    "# conda install -c conda-forge pandas\n",
    "!pip install pandas\n",
    "\n",
    "# verify if pandas is installed\n",
    "# pip show pandas"
   ]
  },
  {
   "cell_type": "code",
   "execution_count": 6,
   "id": "0adb20cd",
   "metadata": {},
   "outputs": [],
   "source": [
    "# import necessary libraries for pandas and other necessary libraries\n",
    "import pandas as pd\n",
    "import numpy as np\n",
    "import csv"
   ]
  },
  {
   "cell_type": "markdown",
   "id": "b069ac4a",
   "metadata": {},
   "source": [
    "Pandas has two types of classes to handle data:\n",
    "\n",
    "- __Series__: a one-dimensional labeled array holding data of any type such as integers, strings, Python objects etc.\n",
    "\n",
    "- __DataFrame__: a two-dimensional data structure that holds data like a two-dimension array or a table with rows and columns."
   ]
  },
  {
   "cell_type": "code",
   "execution_count": 8,
   "id": "5ba3a1b3",
   "metadata": {},
   "outputs": [
    {
     "name": "stdout",
     "output_type": "stream",
     "text": [
      "0    1.0\n",
      "1    3.0\n",
      "2    4.0\n",
      "3    NaN\n",
      "4    6.0\n",
      "5    9.0\n",
      "dtype: float64\n"
     ]
    }
   ],
   "source": [
    "# creating a series by passing a list of values\n",
    "s = pd.Series([1, 3, 4, np.nan, 6, 9])\n",
    "print(s)"
   ]
  },
  {
   "cell_type": "markdown",
   "id": "f85afaf1",
   "metadata": {},
   "source": [
    "#### 2) Scatter Plot \n",
    "A scatter plot is more suitable in cases such as assessing a correlation between two variables rather than observing a time data."
   ]
  },
  {
   "cell_type": "markdown",
   "id": "0fa799a5",
   "metadata": {},
   "source": [
    "#### 3) Histogram \n",
    "A histogram divides data into bins and counts the number of data points in each bin, where the height of each bar represents the count of data points within that bin. It is useful to explore the data and get an idea about the distribution. If not specified, by default Python sets the number of bins to 10. Too few bins will oversimplify, while too many bins will overcomplicate the reality."
   ]
  },
  {
   "cell_type": "code",
   "execution_count": null,
   "id": "3e9e26ae",
   "metadata": {},
   "outputs": [],
   "source": []
  }
 ],
 "metadata": {
  "kernelspec": {
   "display_name": "tf-gpu-coursera",
   "language": "python",
   "name": "python3"
  },
  "language_info": {
   "codemirror_mode": {
    "name": "ipython",
    "version": 3
   },
   "file_extension": ".py",
   "mimetype": "text/x-python",
   "name": "python",
   "nbconvert_exporter": "python",
   "pygments_lexer": "ipython3",
   "version": "3.10.4"
  }
 },
 "nbformat": 4,
 "nbformat_minor": 5
}
