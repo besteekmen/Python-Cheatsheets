{
 "cells": [
  {
   "cell_type": "markdown",
   "metadata": {},
   "source": [
    "# Python Cheatsheets - EFFICIENT CODING\n",
    "\n",
    "While using Python, it is essential to code efficiently by;\n",
    "- Writing clean, readable, fast, and efficient Python code\n",
    "- Profiling the code for bottlenecks\n",
    "- Eliminating bottlenecks and bad design patterns\n",
    "The code should run with minimum possible completion time and with minimum possible resource consumption. The Zen of Pyrthon by Tim Peters is as below:"
   ]
  },
  {
   "cell_type": "code",
   "execution_count": 1,
   "metadata": {},
   "outputs": [
    {
     "name": "stdout",
     "output_type": "stream",
     "text": [
      "The Zen of Python, by Tim Peters\n",
      "\n",
      "Beautiful is better than ugly.\n",
      "Explicit is better than implicit.\n",
      "Simple is better than complex.\n",
      "Complex is better than complicated.\n",
      "Flat is better than nested.\n",
      "Sparse is better than dense.\n",
      "Readability counts.\n",
      "Special cases aren't special enough to break the rules.\n",
      "Although practicality beats purity.\n",
      "Errors should never pass silently.\n",
      "Unless explicitly silenced.\n",
      "In the face of ambiguity, refuse the temptation to guess.\n",
      "There should be one-- and preferably only one --obvious way to do it.\n",
      "Although that way may not be obvious at first unless you're Dutch.\n",
      "Now is better than never.\n",
      "Although never is often better than *right* now.\n",
      "If the implementation is hard to explain, it's a bad idea.\n",
      "If the implementation is easy to explain, it may be a good idea.\n",
      "Namespaces are one honking great idea -- let's do more of those!\n"
     ]
    }
   ],
   "source": [
    "import timeit\n",
    "import this\n",
    "import numpy"
   ]
  },
  {
   "cell_type": "markdown",
   "metadata": {},
   "source": [
    "---\n",
    "### 1) Timing and Profiling\n",
    "\n",
    "__Timing:__ When working in the IPython interactive shell or in a Jupyter notebook with a Python kernel, execution time of a Python statement or expression can be measured using the timeit module with magic command . It can be used both as a line and cell magic:\n",
    "\n",
    "```python\n",
    "%timeit [-n<N> -r<R> [-t|-c] -q -p<P> -o] statement\n",
    "```\n",
    "In line mode, a single-line statement is timed using the magic command with a single ```%``` mark. It is also possible to time multiple lines by using semicolons to chain expressions.\n",
    "\n",
    "```python\n",
    "%%timeit [-n<N> -r<R> [-t|-c] -q -p<P> -o] setup_code\n",
    "```\n",
    "In cell mode, the statement on the same line with the command will be executed as a setup and only be run once. It is not be timed, and the body of the cell is timed. The magic command is called with a double ```%``` mark. The cell body has access to any variables created in the setup code.\n",
    "\n",
    "More details on the magic command can be found on the IPython docs [here](https://ipython.readthedocs.io/en/stable/interactive/magics.html#magic-timeit). For command-line interface and Python interface, the library [here](https://docs.python.org/3/library/timeit.html) provides other methods than magic commands."
   ]
  },
  {
   "cell_type": "code",
   "execution_count": 5,
   "metadata": {},
   "outputs": [
    {
     "name": "stdout",
     "output_type": "stream",
     "text": [
      "344 ns ± 19.2 ns per loop (mean ± std. dev. of 7 runs, 1,000,000 loops each)\n"
     ]
    }
   ],
   "source": [
    "# in line mode\n",
    "%timeit x = [*range(5)]"
   ]
  },
  {
   "cell_type": "code",
   "execution_count": 8,
   "metadata": {},
   "outputs": [
    {
     "name": "stdout",
     "output_type": "stream",
     "text": [
      "704 ns ± 34.4 ns per loop (mean ± std. dev. of 7 runs, 1,000,000 loops each)\n"
     ]
    }
   ],
   "source": [
    "%%timeit\n",
    "# in cell mode\n",
    "x = []\n",
    "for i in range(5):\n",
    "    x.append(i)"
   ]
  },
  {
   "cell_type": "markdown",
   "metadata": {},
   "source": [
    "__Code Profiling:__ Detailed stats on frequency and duration of function calls can be obtained by code profiling. It allows to analyze the code and spot any bottlenecks. ```line_profiler``` package allows to perform line-by-line analysis and can be downloaded with using Python packaging tool ```pip```. Later, the IPython extension can be loaded by:\n",
    "```python\n",
    "%load_ext line_profiler\n",
    "```"
   ]
  },
  {
   "cell_type": "code",
   "execution_count": 17,
   "metadata": {},
   "outputs": [],
   "source": [
    "%load_ext line_profiler"
   ]
  },
  {
   "cell_type": "code",
   "execution_count": 23,
   "metadata": {},
   "outputs": [
    {
     "name": "stdout",
     "output_type": "stream",
     "text": [
      "Timer unit: 1e-07 s\n",
      "\n",
      "Total time: 0.0048406 s\n",
      "File: C:\\Users\\Public\\Documents\\Wondershare\\CreatorTemp\\ipykernel_3224\\3293575127.py\n",
      "Function: sum_of_list at line 1\n",
      "\n",
      "Line #      Hits         Time  Per Hit   % Time  Line Contents\n",
      "==============================================================\n",
      "     1                                           def sum_of_list(x):\n",
      "     2         1          8.0      8.0      0.0      sum = 0\n",
      "     3      5001      22675.0      4.5     46.8      for i in x:\n",
      "     4      5000      25717.0      5.1     53.1          sum += i\n",
      "     5         1          6.0      6.0      0.0      return sum"
     ]
    }
   ],
   "source": [
    "def sum_of_list(x):\n",
    "    sum = 0\n",
    "    for i in x:\n",
    "        sum += i\n",
    "    return sum\n",
    "\n",
    "%lprun -f sum_of_list sum_of_list(range(5000))"
   ]
  },
  {
   "cell_type": "markdown",
   "metadata": {},
   "source": [
    "__Memory Profiling:__ \n",
    "\n",
    "The amount of memory an operation uses can be evaluated with memory profiling. ```memory_profiler``` package contains two useful magic functions: the ```%memit``` (which offers a memory-measuring equivalent of ```%timeit```) and the ```%mprun``` magic functions (which offers a memory-measuring equivalent of ```%lprun```). It can be downloaded with using Python packaging tool ```pip``` and the IPython extension can be loaded by:\n",
    "```python\n",
    "%load_ext memory_profiler\n",
    "```"
   ]
  },
  {
   "cell_type": "code",
   "execution_count": 26,
   "metadata": {},
   "outputs": [],
   "source": [
    "%load_ext memory_profiler"
   ]
  },
  {
   "cell_type": "code",
   "execution_count": 27,
   "metadata": {},
   "outputs": [
    {
     "name": "stdout",
     "output_type": "stream",
     "text": [
      "peak memory: 145.53 MiB, increment: 0.34 MiB\n"
     ]
    }
   ],
   "source": [
    "def sum_of_list(x):\n",
    "    sum = 0\n",
    "    for i in x:\n",
    "        sum += i\n",
    "    return sum\n",
    "\n",
    "%memit sum_of_list(range(5000))"
   ]
  },
  {
   "cell_type": "markdown",
   "metadata": {},
   "source": [
    "The ```%memit``` magic function is used rather simple as within the same notebook, using the function name. It returns the peak memory usage. For a line-by-line description of memory use, ```%mprun``` magic is used. However, it works only for functions defined in separate modules rather than the notebook itself. Hence, it is efficient to use ```%%file``` magic to create a simple module including the function to be evaluated, and then importing the function and using the memory profiler. "
   ]
  },
  {
   "cell_type": "code",
   "execution_count": 32,
   "metadata": {},
   "outputs": [
    {
     "name": "stdout",
     "output_type": "stream",
     "text": [
      "Writing module/list_ops.py\n"
     ]
    }
   ],
   "source": [
    "%%file \"module/list_ops.py\" # create the module folder beforehand\n",
    "def sum_of_list(x):\n",
    "    sum = 0\n",
    "    for i in x:\n",
    "        sum += i\n",
    "    return sum"
   ]
  },
  {
   "cell_type": "code",
   "execution_count": 36,
   "metadata": {},
   "outputs": [
    {
     "name": "stdout",
     "output_type": "stream",
     "text": [
      "\n"
     ]
    },
    {
     "name": "stdout",
     "output_type": "stream",
     "text": [
      "Filename: d:\\Master\\Github\\Python-Cheatsheets\\module\\list_ops.py\n",
      "\n",
      "Line #    Mem usage    Increment  Occurrences   Line Contents\n",
      "=============================================================\n",
      "     1    158.8 MiB    158.8 MiB           1   def sum_of_list(x):\n",
      "     2    158.8 MiB      0.0 MiB           1       sum = 0\n",
      "     3    158.8 MiB      0.0 MiB        5001       for i in x:\n",
      "     4    158.8 MiB      0.0 MiB        5000           sum += i\n",
      "     5    158.8 MiB      0.0 MiB           1       return sum"
     ]
    }
   ],
   "source": [
    "from module.list_ops import sum_of_list\n",
    "%mprun -f sum_of_list sum_of_list(range(5000))"
   ]
  },
  {
   "cell_type": "markdown",
   "metadata": {},
   "source": [
    "Here the Increment column shows how much each line affects the total memory budget."
   ]
  },
  {
   "cell_type": "markdown",
   "metadata": {},
   "source": [
    "---\n",
    "### 2) Building with Built-ins\n",
    "\n",
    "Python provides various built-ins which should be preferred while performing basic operations.\n",
    "- Built-in types: ```list```, ```tuple```, ```set```, ```dict```, etc.\n",
    "- Built-in functions: ```print()```, ```len()```, ```range()```, ```round()```, ```enumerate()```, ```map()```, ```zip()```, etc.\n",
    "- Built-in modules: ```os```, ```sys```, ```itertools```, ```collections```, ```math```, etc.\n",
    "\n",
    "__Literal syntax:__ Python allows to create data structures using either a formal name (i.e. ```dict()```) or a literal syntax (i.e. ```{}```). Using a literal syntax for creating a data structure can become faster."
   ]
  },
  {
   "cell_type": "code",
   "execution_count": 13,
   "metadata": {},
   "outputs": [
    {
     "name": "stdout",
     "output_type": "stream",
     "text": [
      "Creating with formal name:\n",
      "60.5 ns ± 2.02 ns per loop (mean ± std. dev. of 7 runs, 10,000,000 loops each)\n",
      "Creating with literal syntax:\n",
      "27.9 ns ± 12.4 ns per loop (mean ± std. dev. of 7 runs, 10,000,000 loops each)\n"
     ]
    }
   ],
   "source": [
    "# a tuple created using the formal name\n",
    "print(\"Creating with formal name:\")\n",
    "%timeit formal_tuple = tuple()\n",
    "\n",
    "# a tuple created using the literal syntax\n",
    "print(\"Creating with literal syntax:\")\n",
    "%timeit literal_tuple = ()"
   ]
  },
  {
   "cell_type": "markdown",
   "metadata": {},
   "source": [
    "The output of the magic command can be saved into a variable with -o flag"
   ]
  },
  {
   "cell_type": "code",
   "execution_count": 15,
   "metadata": {},
   "outputs": [
    {
     "name": "stdout",
     "output_type": "stream",
     "text": [
      "345 ns ± 6.66 ns per loop (mean ± std. dev. of 7 runs, 1,000,000 loops each)\n",
      "The best time: 3.297941000200808e-07 / The worst time: 3.516030999599025e-07\n"
     ]
    }
   ],
   "source": [
    "# a list created by unpacking range\n",
    "times = %timeit -o nums_range = [*range(1,10)]\n",
    "\n",
    "print(\"The best time:\", times.best, \"/ The worst time:\", times.worst)"
   ]
  },
  {
   "cell_type": "markdown",
   "metadata": {},
   "source": [
    "__```range()``` function:__ For large sequence of numbers, using range is more practical."
   ]
  },
  {
   "cell_type": "code",
   "execution_count": 39,
   "metadata": {},
   "outputs": [
    {
     "name": "stdout",
     "output_type": "stream",
     "text": [
      "Lists are the same: [1, 2, 3, 4, 5, 6, 7, 8, 9]\n"
     ]
    }
   ],
   "source": [
    "# explicitly creating a list\n",
    "nums = [1, 2, 3, 4, 5, 6, 7, 8, 9]\n",
    "\n",
    "# creating a list by unpacking a range object\n",
    "nums_range = [*range(1,10)]\n",
    "\n",
    "# check if the results are same\n",
    "if(nums == nums_range):\n",
    "    print(\"Lists are the same:\", nums_range)"
   ]
  },
  {
   "cell_type": "markdown",
   "metadata": {},
   "source": [
    "__```enumerate()``` function:__ For obtaining an indexed list, enumerate is more efficient. Four different version of creating an indexed list is shown below for a given list."
   ]
  },
  {
   "cell_type": "code",
   "execution_count": 2,
   "metadata": {},
   "outputs": [
    {
     "name": "stdout",
     "output_type": "stream",
     "text": [
      "Basic loop is running:\n",
      "1.46 µs ± 84.3 ns per loop (mean ± std. dev. of 7 runs, 1,000,000 loops each)\n",
      "Enumerate loop is running:\n",
      "1.24 µs ± 24.4 ns per loop (mean ± std. dev. of 7 runs, 1,000,000 loops each)\n",
      "Enumerate list comprehension is running:\n",
      "936 ns ± 36 ns per loop (mean ± std. dev. of 7 runs, 1,000,000 loops each)\n",
      "Enumerate unpacking is running:\n",
      "401 ns ± 6.25 ns per loop (mean ± std. dev. of 7 runs, 1,000,000 loops each)\n"
     ]
    }
   ],
   "source": [
    "# generate a list to be indexed\n",
    "chapters = ['Introduction', 'Related Work', 'Methodology', 'Results', 'Discussion', 'Conclusion']\n",
    "\n",
    "# basic for loop\n",
    "indexed_chapters = []\n",
    "print(\"Basic loop is running:\")\n",
    "%timeit for i in range(len(chapters)): indexed_chapters.append((i, chapters[i]))\n",
    "\n",
    "# loop with enumerate\n",
    "indexed_chapters_enum = []\n",
    "print(\"Enumerate loop is running:\")\n",
    "%timeit for i, chapter in enumerate(chapters): indexed_chapters_enum.append((i,  chapter))\n",
    "\n",
    "# loop with enumerate using list comprehension\n",
    "indexed_chapters_comp = []\n",
    "print(\"Enumerate list comprehension is running:\")\n",
    "%timeit indexed_chapters_comp = [(i, chapter) for i, chapter in enumerate(chapters)]\n",
    "\n",
    "# unpacking enumerate object with a starting index of one (FASTEST)\n",
    "indexed_chapters_unpack = []\n",
    "print(\"Enumerate unpacking is running:\")\n",
    "%timeit indexed_chapters_unpack = [*enumerate(chapters, 1)]"
   ]
  },
  {
   "cell_type": "markdown",
   "metadata": {},
   "source": [
    "__```map()``` function:__ To apply a function to every element of an object, map is more efficient. Three different version of applying a function to an object's elements are shown below."
   ]
  },
  {
   "cell_type": "code",
   "execution_count": 3,
   "metadata": {},
   "outputs": [
    {
     "name": "stdout",
     "output_type": "stream",
     "text": [
      "Basic loop is running:\n",
      "1.28 µs ± 41.5 ns per loop (mean ± std. dev. of 7 runs, 1,000,000 loops each)\n",
      "Map is running:\n",
      "797 ns ± 9.45 ns per loop (mean ± std. dev. of 7 runs, 1,000,000 loops each)\n",
      "Unpacking map is running:\n",
      "762 ns ± 8.65 ns per loop (mean ± std. dev. of 7 runs, 1,000,000 loops each)\n"
     ]
    }
   ],
   "source": [
    "# generate a list to be changed\n",
    "chapters = ['Introduction', 'Related Work', 'Methodology', 'Results', 'Discussion', 'Conclusion']\n",
    "\n",
    "# basic for loop\n",
    "upper_chapters = []\n",
    "print(\"Basic loop is running:\")\n",
    "%timeit for chapter in chapters: upper_chapters.append(chapter.upper())\n",
    "\n",
    "# list with map\n",
    "print(\"Map is running:\")\n",
    "%timeit upper_chapters_map = list(map(str.upper, chapters))\n",
    "\n",
    "# unpacking map (FASTEST)\n",
    "print(\"Unpacking map is running:\")\n",
    "%timeit upper_chapters_unpack = [*map(str.upper, chapters)]"
   ]
  },
  {
   "cell_type": "markdown",
   "metadata": {},
   "source": [
    "__```NumPy``` library:__ It is a library for working with arrays and mathematical operations in Python, which provides support for large, multi-dimensional arrays and matrices. It has the __*broadcasting*__ ability which vectorizes operations, hence all operations are performed on all elements of an object at once. It is much more efficient than using lists."
   ]
  },
  {
   "cell_type": "code",
   "execution_count": 4,
   "metadata": {},
   "outputs": [
    {
     "name": "stdout",
     "output_type": "stream",
     "text": [
      "Basic loop is running:\n",
      "2.46 µs ± 139 ns per loop (mean ± std. dev. of 7 runs, 100,000 loops each)\n",
      "Map is running:\n",
      "2.5 µs ± 60.7 ns per loop (mean ± std. dev. of 7 runs, 100,000 loops each)\n",
      "List comprehension is running:\n",
      "2.07 µs ± 32.4 ns per loop (mean ± std. dev. of 7 runs, 100,000 loops each)\n",
      "NumPy is running:\n",
      "1.54 µs ± 16.5 ns per loop (mean ± std. dev. of 7 runs, 1,000,000 loops each)\n"
     ]
    }
   ],
   "source": [
    "# generate a list to be changed\n",
    "odds = [-5, -3, -1, 1, 3, 5]\n",
    "\n",
    "# basic for loop\n",
    "sqrd_odds = []\n",
    "print(\"Basic loop is running:\")\n",
    "%timeit for odd in odds: sqrd_odds.append(odd ** 2)\n",
    "\n",
    "# list with map\n",
    "def sqr(i):\n",
    "    return i ** 2\n",
    "print(\"Map is running:\")\n",
    "%timeit sqrd_odds_map = list(map(sqr, odds))\n",
    "\n",
    "# list comprehension \n",
    "print(\"List comprehension is running:\")\n",
    "%timeit sqrd_odds_comp  = [odd ** 2 for odd in odds]\n",
    "\n",
    "# numpy (FASTEST)\n",
    "print(\"NumPy is running:\")\n",
    "%timeit sqrd_odds_np = np.array(odds) ** 2"
   ]
  },
  {
   "cell_type": "markdown",
   "metadata": {},
   "source": [
    "__```zip()``` function:__ It takes zero or more iterables (user-defined variables or built-in iterables like list, string, dict), aggregates them in a tuple, and returns it. When no parameter is passed, it returns an empty iterator. When a single parameter is passed, it returns an iterator of tuples with each having only one element, while multiple iterables as poarameters returns an iterator of tuples with each tuple having elements from all the iterables."
   ]
  },
  {
   "cell_type": "code",
   "execution_count": 43,
   "metadata": {},
   "outputs": [
    {
     "name": "stdout",
     "output_type": "stream",
     "text": [
      "English numbers: (1, 'One') (2, 'Two') (3, 'Three') (4, 'Four') (5, 'Five') (6, 'Six')\n",
      "All numbers: ('One', 'Eins', 'Uno') ('Two', 'Zwei', 'Dos') ('Three', 'Drei', 'Tres') ('Four', 'Vier', 'Cuatro')\n",
      "Spanish numbers: (1, 'Uno') (2, 'Dos') (3, 'Tres')\n"
     ]
    }
   ],
   "source": [
    "# generate lists to be zipped\n",
    "numeric = [1, 2, 3, 4, 5, 6]\n",
    "str_en = ['One', 'Two', 'Three', 'Four', 'Five', 'Six']\n",
    "str_de = ['Eins', 'Zwei', 'Drei', 'Vier', 'Fünf', 'Sechs']\n",
    "str_es = ['Uno', 'Dos', 'Tres', 'Cuatro', 'Cinco', 'Seis']\n",
    "\n",
    "# combine string and number lists\n",
    "num_en = [*zip(numeric, str_en)]\n",
    "print(\"English numbers:\", *num_en) # * is used to extract the list elements from num_en\n",
    "\n",
    "# combine string lists in all languages\n",
    "str_full = [*zip(str_en[:4], str_de[:4], str_es[:4])]\n",
    "print(\"All numbers:\", *str_full)\n",
    "\n",
    "# combine five items from numeric and three items from spanish\n",
    "num_es = [*zip(numeric[:5], str_es[:3])]\n",
    "print(\"Spanish numbers:\", *num_es)"
   ]
  },
  {
   "cell_type": "code",
   "execution_count": null,
   "metadata": {},
   "outputs": [],
   "source": []
  }
 ],
 "metadata": {
  "kernelspec": {
   "display_name": "tf-gpu-coursera",
   "language": "python",
   "name": "python3"
  },
  "language_info": {
   "codemirror_mode": {
    "name": "ipython",
    "version": 3
   },
   "file_extension": ".py",
   "mimetype": "text/x-python",
   "name": "python",
   "nbconvert_exporter": "python",
   "pygments_lexer": "ipython3",
   "version": "3.10.4"
  }
 },
 "nbformat": 4,
 "nbformat_minor": 2
}
