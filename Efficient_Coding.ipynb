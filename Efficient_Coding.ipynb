{
 "cells": [
  {
   "cell_type": "markdown",
   "metadata": {},
   "source": [
    "# Python Cheatsheets - EFFICIENT CODING\n",
    "\n",
    "While using Python, it is essential to code efficiently by;\n",
    "- Writing clean, readable, fast, and efficient Python code\n",
    "- Profiling the code for bottlenecks\n",
    "- Eliminating bottlenecks and bad design patterns\n",
    "The code should run with minimum possible completion time and with minimum possible resource consumption. The Zen of Pyrthon by Tim Peters is as below:"
   ]
  },
  {
   "cell_type": "code",
   "execution_count": 1,
   "metadata": {},
   "outputs": [
    {
     "name": "stdout",
     "output_type": "stream",
     "text": [
      "The Zen of Python, by Tim Peters\n",
      "\n",
      "Beautiful is better than ugly.\n",
      "Explicit is better than implicit.\n",
      "Simple is better than complex.\n",
      "Complex is better than complicated.\n",
      "Flat is better than nested.\n",
      "Sparse is better than dense.\n",
      "Readability counts.\n",
      "Special cases aren't special enough to break the rules.\n",
      "Although practicality beats purity.\n",
      "Errors should never pass silently.\n",
      "Unless explicitly silenced.\n",
      "In the face of ambiguity, refuse the temptation to guess.\n",
      "There should be one-- and preferably only one --obvious way to do it.\n",
      "Although that way may not be obvious at first unless you're Dutch.\n",
      "Now is better than never.\n",
      "Although never is often better than *right* now.\n",
      "If the implementation is hard to explain, it's a bad idea.\n",
      "If the implementation is easy to explain, it may be a good idea.\n",
      "Namespaces are one honking great idea -- let's do more of those!\n"
     ]
    }
   ],
   "source": [
    "import timeit\n",
    "import this"
   ]
  },
  {
   "cell_type": "markdown",
   "metadata": {},
   "source": [
    "---\n",
    "### 1) Build with Built-ins\n",
    "\n",
    "Python provides various built-ins which should be preferred while performing basic operations.\n",
    "- Built-in types: ```list```, ```tuple```, ```set```, ```dict```, etc.\n",
    "- Built-in functions: ```print()```, ```len()```, ```range()```, ```round()```, ```enumerate()```, ```map()```, ```zip()```, etc.\n",
    "- Built-in modules: ```os```, ```sys```, ```itertools```, ```collections```, ```math```, etc.\n",
    "\n",
    "__```range()``` function:__ For large sequence of numbers, using range is more practical."
   ]
  },
  {
   "cell_type": "code",
   "execution_count": 8,
   "metadata": {},
   "outputs": [
    {
     "name": "stdout",
     "output_type": "stream",
     "text": [
      "Lists are same: [1, 2, 3, 4, 5, 6, 7, 8, 9]\n"
     ]
    }
   ],
   "source": [
    "# explicitly creating a list\n",
    "nums = [1, 2, 3, 4, 5, 6, 7, 8, 9]\n",
    "\n",
    "# creating a list by unpacking a range object\n",
    "nums_range = [*range(1,10)]\n",
    "\n",
    "if(nums == nums_range):\n",
    "    print(\"Lists are same:\", nums_range)"
   ]
  },
  {
   "cell_type": "markdown",
   "metadata": {},
   "source": [
    "__```enumerate()``` function:__ For obtaining an indexed list, enumerate is more efficient. Four different version of creating an indexed list is shown below for a given list."
   ]
  },
  {
   "cell_type": "code",
   "execution_count": 35,
   "metadata": {},
   "outputs": [
    {
     "name": "stdout",
     "output_type": "stream",
     "text": [
      "Basic loop is running:\n",
      "1.56 µs ± 112 ns per loop (mean ± std. dev. of 7 runs, 100,000 loops each)\n",
      "Enumerate loop is running:\n",
      "1.3 µs ± 26.3 ns per loop (mean ± std. dev. of 7 runs, 1,000,000 loops each)\n",
      "Enumerate list comprehension is running:\n",
      "1.03 µs ± 58.2 ns per loop (mean ± std. dev. of 7 runs, 1,000,000 loops each)\n",
      "Enumerate unpacking is running:\n",
      "415 ns ± 15.3 ns per loop (mean ± std. dev. of 7 runs, 1,000,000 loops each)\n"
     ]
    }
   ],
   "source": [
    "# generate a list to be indexed\n",
    "chapters = ['Introduction', 'Related Work', 'Methodology', 'Results', 'Discussion', 'Conclusion']\n",
    "\n",
    "# write with a basic for loop\n",
    "indexed_chapters = []\n",
    "print(\"Basic loop is running:\")\n",
    "%timeit for i in range(len(chapters)): indexed_chapters.append((i, chapters[i]))\n",
    "\n",
    "# loop with enumerate\n",
    "indexed_chapters_enum = []\n",
    "print(\"Enumerate loop is running:\")\n",
    "%timeit for i, chapter in enumerate(chapters): indexed_chapters_enum.append((i,  chapter))\n",
    "\n",
    "# loop with enumerate using list comprehension\n",
    "print(\"Enumerate list comprehension is running:\")\n",
    "%timeit indexed_chapters_comp = [(i, chapter) for i, chapter in enumerate(chapters)]\n",
    "\n",
    "# unpacking enumerate object with a starting index of one (FASTEST)\n",
    "print(\"Enumerate unpacking is running:\")\n",
    "%timeit indexed_chapters_unpack = [*enumerate(chapters, 1)]"
   ]
  },
  {
   "cell_type": "code",
   "execution_count": null,
   "metadata": {},
   "outputs": [],
   "source": []
  }
 ],
 "metadata": {
  "kernelspec": {
   "display_name": "tf-gpu-coursera",
   "language": "python",
   "name": "python3"
  },
  "language_info": {
   "codemirror_mode": {
    "name": "ipython",
    "version": 3
   },
   "file_extension": ".py",
   "mimetype": "text/x-python",
   "name": "python",
   "nbconvert_exporter": "python",
   "pygments_lexer": "ipython3",
   "version": "3.10.4"
  }
 },
 "nbformat": 4,
 "nbformat_minor": 2
}
