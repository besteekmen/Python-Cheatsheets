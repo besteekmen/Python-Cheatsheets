{
 "cells": [
  {
   "cell_type": "markdown",
   "metadata": {
    "id": "98X5maPf-VGn"
   },
   "source": [
    "# PYTHON CHEATSHEET\n",
    "\n",
    "## Table of Contents:\n",
    "* [Import](#import)\n",
    "* [Variables](#variables)\n",
    "* [Functions](#functions)"
   ]
  },
  {
   "cell_type": "markdown",
   "metadata": {
    "id": "AkWi7R-0-ZWc"
   },
   "source": [
    "## Import <a class=\"anchor\" id=\"import\"></a>\n",
    "Modules can be imported with three different options: \n",
    "- generic (`import ___`)\n",
    "- selective (`from ___ import ___`)\n",
    "- universal (`from ___ import *`)\n",
    "\n",
    "Generic import is preferred over selective (ref:DataCamp) and universal imports should be avoided for a clear namespace. These import statements can be followed by some aliases. Some common aliases are: \n",
    "\n",
    "`numpy as np`, `statsmodel as sm`, `seaborn as sns`, `pyplot as plt`, `pandas as pd`"
   ]
  },
  {
   "cell_type": "code",
   "execution_count": 27,
   "metadata": {
    "colab": {
     "base_uri": "https://localhost:8080/"
    },
    "id": "Q54c48PK-UXd",
    "outputId": "77263b85-0afc-4e42-f623-006c6d5e9de4"
   },
   "outputs": [
    {
     "name": "stdout",
     "output_type": "stream",
     "text": [
      "\u001b[1mGeneric w/o alias:\u001b[0m     os.getcwd()          D:\\Courses\\Integrify\\00_Guides\n",
      "\u001b[1mGeneric w alias:\u001b[0m       np.array([0,1])      [0 1]     \n",
      "\u001b[1mUniversal w/o alias:\u001b[0m   sqrt(25)             5.0       \n",
      "\u001b[1mSelective w/o alias:\u001b[0m   datetime             2022-03-30 23:11:24.979654\n",
      "\u001b[1mSelective w alias:\u001b[0m     plt.plot([1, 2])               \n"
     ]
    }
   ],
   "source": [
    "# generic import without alias (call function with module name)\n",
    "import os\n",
    "# generic import with alias (call function with module name)\n",
    "import numpy as np\n",
    "# selective import without alias (call function without module name)\n",
    "from datetime import datetime\n",
    "# selective import with alias (call function without module name)\n",
    "from matplotlib import pyplot as plt\n",
    "# universal import without alias (call function without module name)\n",
    "from math import *\n",
    "\n",
    "print(\"{:<30} {:<20} {:<10}\".format('\\033[1m' + 'Generic w/o alias:' + '\\033[0m','os.getcwd()', os.getcwd()))\n",
    "print(\"{:<30} {:<20} {:<10}\".format('\\033[1m' + 'Generic w alias:' + '\\033[0m',\"np.array([0,1])\", str(np.array([0,1]))))\n",
    "print(\"{:<30} {:<20} {:<10}\".format('\\033[1m' + 'Universal w/o alias:' + '\\033[0m','sqrt(25)', sqrt(25)))\n",
    "print(\"{:<30} {:<20} {:<10}\".format('\\033[1m' + 'Selective w/o alias:' + '\\033[0m','datetime', str(datetime.today())))\n",
    "print(\"{:<30} {:<20} {:<10}\".format('\\033[1m' + 'Selective w alias:' + '\\033[0m','plt.plot([1, 2])', ''))"
   ]
  },
  {
   "cell_type": "markdown",
   "metadata": {
    "id": "k7Q4bAxNGt3M"
   },
   "source": [
    "---\n",
    "# Variables <a class=\"anchor\" id=\"variables\"></a>\n",
    "While defining variables, Python enforces some rules: \n",
    "must start with a letter. You can use a capital letter, but we usually use \n",
    "\n",
    "* Must start with a letter (usually lowercase)\n",
    "* After first letter, can use letters/numbers/underscores\n",
    "* No spaces or special characters (/-!: etc.)\n",
    "* Case sensitive (`my_var` is different from `MY_VAR`)\n"
   ]
  },
  {
   "cell_type": "code",
   "execution_count": 28,
   "metadata": {
    "colab": {
     "base_uri": "https://localhost:8080/"
    },
    "id": "fNRpYsvuEY3m",
    "outputId": "8a63c52e-5b56-4bad-9402-672851080f9c"
   },
   "outputs": [
    {
     "name": "stdout",
     "output_type": "stream",
     "text": [
      "24 <class 'int'>\n",
      "75.5 <class 'float'>\n",
      "Bayes <class 'str'>\n",
      "Golden Retriever <class 'str'>\n",
      "True <class 'bool'>\n"
     ]
    }
   ],
   "source": [
    "height = 24                   # integer represents integer numbers\n",
    "weight = 75.5                 # float represents real numbers\n",
    "name = 'Bayes'                # string represent text (double or single quotes)\n",
    "breed = \"Golden Retriever\"\n",
    "isDog = True                  # boolean keeps True or False\n",
    "\n",
    "# display variable and variable type\n",
    "print(height, type(height))\n",
    "print(weight, type(weight))\n",
    "print(name, type(name))\n",
    "print(breed, type(breed))\n",
    "print(isDog, type(isDog))"
   ]
  },
  {
   "cell_type": "markdown",
   "metadata": {
    "id": "lfmuMnEsKSpP"
   },
   "source": [
    "---\n",
    "# Functions <a class=\"anchor\" id=\"functions\"></a>\n",
    "\n",
    "**Define** a function: `def function_name(positional_argument, keyword_argument=default_value)` \\\n",
    "**Call** a function: `function_name(positional_argument, keyword_argument)` \\\n",
    "**Methods** are object functions and are called: `object_name.function_name(positional_argument, keyword_argument)`\n",
    "\n",
    "*Keyword arguments can be passed with keywords as assignment if the order is not preserved.*"
   ]
  },
  {
   "cell_type": "code",
   "execution_count": 29,
   "metadata": {
    "colab": {
     "base_uri": "https://localhost:8080/"
    },
    "id": "966Ej85RKQ_l",
    "outputId": "7289b6fa-8d6a-4ce9-96e5-8aa42ebfd253"
   },
   "outputs": [
    {
     "name": "stdout",
     "output_type": "stream",
     "text": [
      "Joe is a female at age 24 and is not a student.\n",
      "John is a male at age 25 and is not a student.\n"
     ]
    }
   ],
   "source": [
    "def display_info(name, age, gender=\"female\", isStudent=True):\n",
    "    print(name, \"is a\", gender, \"at age\", age, \"and is\", end=\"\")\n",
    "    if(isStudent): print(\"a student.\")\n",
    "    else: print(\" not a student.\")\n",
    "\n",
    "display_info(\"Joe\", 24, isStudent=False)\n",
    "display_info(\"John\", 25, \"male\", False)"
   ]
  },
  {
   "cell_type": "markdown",
   "metadata": {
    "id": "tZ2gmFEDgzQE"
   },
   "source": [
    "Call a function with `help(function_name)` or `?funcion_name` to display function info."
   ]
  },
  {
   "cell_type": "code",
   "execution_count": null,
   "metadata": {
    "colab": {
     "base_uri": "https://localhost:8080/"
    },
    "id": "X7MlMqrng-f_",
    "outputId": "8c381dad-4525-434d-9005-ac8c1716ceb1"
   },
   "outputs": [
    {
     "name": "stdout",
     "output_type": "stream",
     "text": [
      "Help on built-in function max in module builtins:\n",
      "\n",
      "max(...)\n",
      "    max(iterable, *[, default=obj, key=func]) -> value\n",
      "    max(arg1, arg2, *args, *[, key=func]) -> value\n",
      "    \n",
      "    With a single iterable argument, return its biggest item. The\n",
      "    default keyword-only argument specifies an object to return if\n",
      "    the provided iterable is empty.\n",
      "    With two or more arguments, return the largest argument.\n",
      "\n"
     ]
    }
   ],
   "source": [
    "help(max)"
   ]
  },
  {
   "cell_type": "markdown",
   "metadata": {
    "id": "TNPJmZO7XOxv"
   },
   "source": [
    "### Arbitrary Arguments, *args\n",
    "If the number of arguments is unknown, add a * before the parameter name. The function will receive a *tuple* of arguments and used for *positional arguments*. \"args\" is a name which can be replaced by any.\n"
   ]
  },
  {
   "cell_type": "code",
   "execution_count": 30,
   "metadata": {
    "colab": {
     "base_uri": "https://localhost:8080/"
    },
    "id": "kJdsSHmHXQ0Q",
    "outputId": "6c435402-c831-4b8f-b3d0-5139bc219ac2"
   },
   "outputs": [
    {
     "data": {
      "text/plain": [
       "15"
      ]
     },
     "execution_count": 30,
     "metadata": {},
     "output_type": "execute_result"
    }
   ],
   "source": [
    "# define function with arbitrary arguments\n",
    "def my_sum(*args):\n",
    "    result = 0\n",
    "    # iterate over the args tuple\n",
    "    for x in args:\n",
    "        result += x\n",
    "    return result\n",
    "\n",
    "# call function with arbitrary arguments\n",
    "my_sum(1,2,3,4,5)"
   ]
  },
  {
   "cell_type": "code",
   "execution_count": 31,
   "metadata": {
    "colab": {
     "base_uri": "https://localhost:8080/"
    },
    "id": "LFDjwEqwd5ui",
    "outputId": "fce39f4d-9906-4047-e487-53e44eed2810"
   },
   "outputs": [
    {
     "name": "stdout",
     "output_type": "stream",
     "text": [
      "None\n"
     ]
    }
   ],
   "source": [
    "s = set([3, 1, 5, 0])\n",
    "print(s.add(0))"
   ]
  },
  {
   "cell_type": "markdown",
   "metadata": {
    "id": "TwPTRYICXRON"
   },
   "source": [
    "\n",
    "### Arbitrary Keyword Arguments, **kwargs\n",
    "If the number of keyword (named) arguments is unknown, add a double ** before the parameter name. The function will receive a *dictionary* of arguments and used to replace *keyword arguments*. \"kwargs\" is a name which can be replaced by any and should always be defined after args."
   ]
  },
  {
   "cell_type": "code",
   "execution_count": 32,
   "metadata": {
    "colab": {
     "base_uri": "https://localhost:8080/",
     "height": 34
    },
    "id": "Qbt0_Q_kXR2V",
    "outputId": "9a93ce0a-ef31-4c8f-8ccb-8fc2ed480503"
   },
   "outputs": [
    {
     "data": {
      "text/plain": [
       "'This is a function!'"
      ]
     },
     "execution_count": 32,
     "metadata": {},
     "output_type": "execute_result"
    }
   ],
   "source": [
    "# define function with arbitrary keyword arguments\n",
    "def my_concat(**kwargs):\n",
    "    result = \"\"\n",
    "    # iterate over the kwargs dictionary\n",
    "    for arg in kwargs.values():\n",
    "        result += arg\n",
    "    return result\n",
    "\n",
    "my_concat(a=\"This \", b=\"is \", c=\"a \", d=\"function\", e=\"!\")"
   ]
  },
  {
   "cell_type": "code",
   "execution_count": null,
   "metadata": {
    "id": "UCHDNleUY8_5"
   },
   "outputs": [],
   "source": []
  }
 ],
 "metadata": {
  "colab": {
   "collapsed_sections": [],
   "name": "Python.ipynb",
   "provenance": []
  },
  "kernelspec": {
   "display_name": "Python 3 (ipykernel)",
   "language": "python",
   "name": "python3"
  },
  "language_info": {
   "codemirror_mode": {
    "name": "ipython",
    "version": 3
   },
   "file_extension": ".py",
   "mimetype": "text/x-python",
   "name": "python",
   "nbconvert_exporter": "python",
   "pygments_lexer": "ipython3",
   "version": "3.9.7"
  }
 },
 "nbformat": 4,
 "nbformat_minor": 1
}
