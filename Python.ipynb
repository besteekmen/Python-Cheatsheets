{
  "nbformat": 4,
  "nbformat_minor": 0,
  "metadata": {
    "colab": {
      "name": "Python.ipynb",
      "provenance": [],
      "collapsed_sections": []
    },
    "kernelspec": {
      "name": "python3",
      "display_name": "Python 3"
    },
    "language_info": {
      "name": "python"
    }
  },
  "cells": [
    {
      "cell_type": "markdown",
      "source": [
        "# PYTHON CHEATSHEET"
      ],
      "metadata": {
        "id": "98X5maPf-VGn"
      }
    },
    {
      "cell_type": "markdown",
      "source": [
        "## Import\n",
        "Modules can be imported in a generic (`import ___`), selective (`from ___ import ___`) and universal (`from ___ import *`) way with or without defining an alias (`___ as ___`). Generic import is preferred over selective (ref:DataCamp) and universal imports should be avoided for a clear namespace. Some common aliases are: \n",
        "> `numpy as np`, `statsmodel as sm`, `seaborn as sns`, `pyplot as plt`, `pandas as pd`"
      ],
      "metadata": {
        "id": "AkWi7R-0-ZWc"
      }
    },
    {
      "cell_type": "code",
      "source": [
        "# generic import without alias (call function with module name)\n",
        "import os\n",
        "# generic import with alias (call function with module name)\n",
        "import numpy as np\n",
        "# selective import without alias (call function without module name)\n",
        "from datetime import datetime\n",
        "# selective import with alias (call function without module name)\n",
        "from matplotlib import pyplot as plt\n",
        "# universal import without alias (call function without module name)\n",
        "from math import *\n",
        "\n",
        "print(\"Generic w/o alias:\", os.getcwd(), \"\\nGeneric w alias:\", np.array([0,1,2,3]), \"\\nUniversal w/o alias:\", sqrt(25), \"\\nSelective w/o alias:\", datetime.today(), \"\\nSelective w alias:\", plt.plot([1, 2]))"
      ],
      "metadata": {
        "colab": {
          "base_uri": "https://localhost:8080/",
          "height": 352
        },
        "id": "Q54c48PK-UXd",
        "outputId": "1fb09296-c9d3-4455-d36c-02fd5d415acf"
      },
      "execution_count": null,
      "outputs": [
        {
          "output_type": "stream",
          "name": "stdout",
          "text": [
            "Generic w/o alias: /content \n",
            "Generic w alias: [0 1 2 3] \n",
            "Universal w/o alias: 5.0 \n",
            "Selective w/o alias: 2022-03-25 03:44:17.650214 \n",
            "Selective w alias: [<matplotlib.lines.Line2D object at 0x7f6fc4f46a50>]\n"
          ]
        },
        {
          "output_type": "display_data",
          "data": {
            "text/plain": [
              "<Figure size 432x288 with 1 Axes>"
            ],
            "image/png": "[encoded data removed]"
          },
          "metadata": {
            "needs_background": "light"
          }
        }
      ]
    },
    {
      "cell_type": "markdown",
      "source": [
        "---\n",
        "# Variables\n",
        "While defining variables, Python enforces some rules: \n",
        "must start with a letter. You can use a capital letter, but we usually use \n",
        "\n",
        "* Must start with a letter (usually lowercase)\n",
        "* After first letter, can use letters/numbers/underscores\n",
        "* No spaces or special characters (/-!: etc.)\n",
        "* Case sensitive (`my_var` is different from `MY_VAR`)\n"
      ],
      "metadata": {
        "id": "k7Q4bAxNGt3M"
      }
    },
    {
      "cell_type": "code",
      "source": [
        "height = 24                   # integer represents integer numbers\n",
        "weight = 75.5                 # float represents real numbers\n",
        "name = 'Bayes'                # string represent text (double or single quotes)\n",
        "breed = \"Golden Retriever\"\n",
        "isDog = True                  # boolean keeps True or False\n",
        "\n",
        "# display variable and variable type\n",
        "print(height, type(height))\n",
        "print(weight, type(weight))\n",
        "print(name, type(name))\n",
        "print(breed, type(breed))\n",
        "print(isDog, type(isDog))"
      ],
      "metadata": {
        "colab": {
          "base_uri": "https://localhost:8080/"
        },
        "id": "fNRpYsvuEY3m",
        "outputId": "8a63c52e-5b56-4bad-9402-672851080f9c"
      },
      "execution_count": null,
      "outputs": [
        {
          "output_type": "stream",
          "name": "stdout",
          "text": [
            "24 <class 'int'>\n",
            "75.5 <class 'float'>\n",
            "Bayes <class 'str'>\n",
            "Golden Retriever <class 'str'>\n",
            "True <class 'bool'>\n"
          ]
        }
      ]
    },
    {
      "cell_type": "markdown",
      "source": [
        "---\n",
        "# Functions\n",
        "\n",
        "**Define** a function: `def function_name(positional_argument, keyword_argument=default_value)`\n",
        "\n",
        "**Call** a function: `function_name(positional_argument, keyword_argument)`\n",
        "\n",
        "**Methods** are object functions and are called: `object_name.function_name(positional_argument, keyword_argument)`\n",
        "\n",
        "\n",
        "> Keyword arguments can be passed with keywords as assignment if the order is not preserved.\n",
        "\n"
      ],
      "metadata": {
        "id": "lfmuMnEsKSpP"
      }
    },
    {
      "cell_type": "code",
      "source": [
        "def display_info(name, age, gender=\"female\", isStudent=True):\n",
        "  print(name, \"is a\", gender, \"at age\", age, \"and is\", end=\"\")\n",
        "  if(isStudent): print(\"a student.\")\n",
        "  else: print(\" not a student.\")\n",
        "\n",
        "display_info(\"Joe\", 24, isStudent=False)\n",
        "display_info(\"John\", 25, \"male\", False)"
      ],
      "metadata": {
        "id": "966Ej85RKQ_l",
        "colab": {
          "base_uri": "https://localhost:8080/"
        },
        "outputId": "7289b6fa-8d6a-4ce9-96e5-8aa42ebfd253"
      },
      "execution_count": null,
      "outputs": [
        {
          "output_type": "stream",
          "name": "stdout",
          "text": [
            "Joe is a female at age 24 and is not a student.\n",
            "John is a male at age 25 and is not a student.\n"
          ]
        }
      ]
    },
    {
      "cell_type": "markdown",
      "source": [
        "Call a function with `help(function_name)` or `?funcion_name` to display function info."
      ],
      "metadata": {
        "id": "tZ2gmFEDgzQE"
      }
    },
    {
      "cell_type": "code",
      "source": [
        "help(max)"
      ],
      "metadata": {
        "colab": {
          "base_uri": "https://localhost:8080/"
        },
        "id": "X7MlMqrng-f_",
        "outputId": "8c381dad-4525-434d-9005-ac8c1716ceb1"
      },
      "execution_count": null,
      "outputs": [
        {
          "output_type": "stream",
          "name": "stdout",
          "text": [
            "Help on built-in function max in module builtins:\n",
            "\n",
            "max(...)\n",
            "    max(iterable, *[, default=obj, key=func]) -> value\n",
            "    max(arg1, arg2, *args, *[, key=func]) -> value\n",
            "    \n",
            "    With a single iterable argument, return its biggest item. The\n",
            "    default keyword-only argument specifies an object to return if\n",
            "    the provided iterable is empty.\n",
            "    With two or more arguments, return the largest argument.\n",
            "\n"
          ]
        }
      ]
    },
    {
      "cell_type": "markdown",
      "source": [
        "## Arbitrary Arguments, *args\n",
        "If the number of arguments is unknown, add a * before the parameter name. The function will receive a *tuple* of arguments and used for *positional arguments*. \"args\" is a name which can be replaced by any.\n"
      ],
      "metadata": {
        "id": "TNPJmZO7XOxv"
      }
    },
    {
      "cell_type": "code",
      "source": [
        "# define function with arbitrary arguments\n",
        "def my_sum(*args):\n",
        "    result = 0\n",
        "    # iterate over the args tuple\n",
        "    for x in args:\n",
        "        result += x\n",
        "    return result\n",
        "\n",
        "# call function with arbitrary arguments\n",
        "my_sum(1,2,3,4,5)"
      ],
      "metadata": {
        "colab": {
          "base_uri": "https://localhost:8080/"
        },
        "id": "kJdsSHmHXQ0Q",
        "outputId": "6c435402-c831-4b8f-b3d0-5139bc219ac2"
      },
      "execution_count": null,
      "outputs": [
        {
          "output_type": "execute_result",
          "data": {
            "text/plain": [
              "15"
            ]
          },
          "metadata": {},
          "execution_count": 12
        }
      ]
    },
    {
      "cell_type": "code",
      "source": [
        "s = set([3, 1, 5, 0])\n",
        "print(s.add(0))"
      ],
      "metadata": {
        "colab": {
          "base_uri": "https://localhost:8080/"
        },
        "id": "LFDjwEqwd5ui",
        "outputId": "fce39f4d-9906-4047-e487-53e44eed2810"
      },
      "execution_count": null,
      "outputs": [
        {
          "output_type": "stream",
          "name": "stdout",
          "text": [
            "None\n"
          ]
        }
      ]
    },
    {
      "cell_type": "markdown",
      "source": [
        "\n",
        "## Arbitrary Keyword Arguments, **kwargs\n",
        "If the number of keyword (named) arguments is unknown, add a double ** before the parameter name. The function will receive a *dictionary* of arguments and used to replace *keyword arguments*. \"kwargs\" is a name which can be replaced by any and should always be defined after args."
      ],
      "metadata": {
        "id": "TwPTRYICXRON"
      }
    },
    {
      "cell_type": "code",
      "source": [
        "# define function with arbitrary keyword arguments\n",
        "def my_concat(**kwargs):\n",
        "    result = \"\"\n",
        "    # iterate over the kwargs dictionary\n",
        "    for arg in kwargs.values():\n",
        "        result += arg\n",
        "    return result\n",
        "\n",
        "my_concat(a=\"This \", b=\"is \", c=\"a \", d=\"function\", e=\"!\")"
      ],
      "metadata": {
        "colab": {
          "base_uri": "https://localhost:8080/",
          "height": 34
        },
        "id": "Qbt0_Q_kXR2V",
        "outputId": "9a93ce0a-ef31-4c8f-8ccb-8fc2ed480503"
      },
      "execution_count": null,
      "outputs": [
        {
          "output_type": "execute_result",
          "data": {
            "text/plain": [
              "'This is a function!'"
            ],
            "application/vnd.google.colaboratory.intrinsic+json": {
              "type": "string"
            }
          },
          "metadata": {},
          "execution_count": 14
        }
      ]
    },
    {
      "cell_type": "code",
      "source": [
        ""
      ],
      "metadata": {
        "id": "UCHDNleUY8_5"
      },
      "execution_count": null,
      "outputs": []
    }
  ]
}