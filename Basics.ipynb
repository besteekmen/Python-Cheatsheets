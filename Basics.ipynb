{
 "cells": [
  {
   "cell_type": "markdown",
   "metadata": {
    "id": "98X5maPf-VGn"
   },
   "source": [
    "# Python Cheatsheets - BASICS"
   ]
  },
  {
   "cell_type": "markdown",
   "metadata": {
    "id": "AkWi7R-0-ZWc"
   },
   "source": [
    "## Import \n",
    "Modules can be imported with three different options: \n",
    "- generic (`import ___`)\n",
    "- selective (`from ___ import ___`)\n",
    "- universal (`from ___ import *`)\n",
    "\n",
    "Generic import is preferred over selective (ref:DataCamp) and universal imports should be avoided for a clear namespace. These import statements can be followed by some aliases. Some common aliases are: \n",
    "\n",
    "`numpy as np`, `statsmodel as sm`, `seaborn as sns`, `pyplot as plt`, `pandas as pd`"
   ]
  },
  {
   "cell_type": "code",
   "execution_count": 2,
   "metadata": {
    "colab": {
     "base_uri": "https://localhost:8080/"
    },
    "id": "Q54c48PK-UXd",
    "outputId": "77263b85-0afc-4e42-f623-006c6d5e9de4"
   },
   "outputs": [
    {
     "name": "stdout",
     "output_type": "stream",
     "text": [
      "\u001b[1mGeneric w/o alias:\u001b[0m     os.getcwd()          d:\\Master\\Github\\Python-Cheatsheets\n",
      "\u001b[1mGeneric w alias:\u001b[0m       np.array([0,1])      [0 1]     \n",
      "\u001b[1mUniversal w/o alias:\u001b[0m   sqrt(25)             5.0       \n",
      "\u001b[1mSelective w/o alias:\u001b[0m   datetime             2024-11-17 15:57:57.814337\n",
      "\u001b[1mSelective w alias:\u001b[0m     plt.plot([1, 2])               \n"
     ]
    }
   ],
   "source": [
    "# generic import without alias (call function with module name)\n",
    "import os\n",
    "# generic import with alias (call function with module name)\n",
    "import numpy as np\n",
    "# selective import without alias (call function without module name)\n",
    "from datetime import datetime\n",
    "# selective import with alias (call function without module name)\n",
    "from matplotlib import pyplot as plt\n",
    "# universal import without alias (call function without module name)\n",
    "from math import *\n",
    "\n",
    "print(\"{:<30} {:<20} {:<10}\".format('\\033[1m' + 'Generic w/o alias:' + '\\033[0m','os.getcwd()', os.getcwd()))\n",
    "print(\"{:<30} {:<20} {:<10}\".format('\\033[1m' + 'Generic w alias:' + '\\033[0m',\"np.array([0,1])\", str(np.array([0,1]))))\n",
    "print(\"{:<30} {:<20} {:<10}\".format('\\033[1m' + 'Universal w/o alias:' + '\\033[0m','sqrt(25)', sqrt(25)))\n",
    "print(\"{:<30} {:<20} {:<10}\".format('\\033[1m' + 'Selective w/o alias:' + '\\033[0m','datetime', str(datetime.today())))\n",
    "print(\"{:<30} {:<20} {:<10}\".format('\\033[1m' + 'Selective w alias:' + '\\033[0m','plt.plot([1, 2])', ''))"
   ]
  },
  {
   "cell_type": "markdown",
   "metadata": {
    "id": "k7Q4bAxNGt3M"
   },
   "source": [
    "---\n",
    "## Variable\n",
    "While defining variables, Python enforces some rules: \n",
    "\n",
    "* Must start with a letter (usually lowercase)\n",
    "* After first letter, one can use letters/numbers/underscores\n",
    "* No spaces or special characters (/-!: etc.)\n",
    "* Case sensitive (`my_var` is different from `MY_VAR`)\n",
    "* PEP suggests using `lower_case_with_underscores` naming for variables (ref:[PEP](https://peps.python.org/pep-0008/#function-and-variable-names))"
   ]
  },
  {
   "cell_type": "code",
   "execution_count": 2,
   "metadata": {
    "colab": {
     "base_uri": "https://localhost:8080/"
    },
    "id": "fNRpYsvuEY3m",
    "outputId": "8a63c52e-5b56-4bad-9402-672851080f9c"
   },
   "outputs": [
    {
     "name": "stdout",
     "output_type": "stream",
     "text": [
      "24 <class 'int'>\n",
      "75.5 <class 'float'>\n",
      "Bayes <class 'str'>\n",
      "Golden Retriever <class 'str'>\n",
      "True <class 'bool'>\n"
     ]
    }
   ],
   "source": [
    "height = 24                   # integer represents integer numbers\n",
    "weight = 75.5                 # float represents real numbers\n",
    "name = 'Bayes'                # string represent text (single quotes)\n",
    "breed = \"Golden Retriever\"    # string (double quotes)\n",
    "is_dog = True                 # boolean keeps True or False\n",
    "\n",
    "# display variable and variable type\n",
    "print(height, type(height))\n",
    "print(weight, type(weight))\n",
    "print(name, type(name))\n",
    "print(breed, type(breed))\n",
    "print(is_dog, type(is_dog))"
   ]
  },
  {
   "cell_type": "markdown",
   "metadata": {},
   "source": [
    "---\n",
    "## Syntax\n",
    "Same line commands are placed with *;* sign. The following two chunks are equivalent:"
   ]
  },
  {
   "cell_type": "code",
   "execution_count": 3,
   "metadata": {},
   "outputs": [
    {
     "name": "stdout",
     "output_type": "stream",
     "text": [
      "Command 1\n",
      "Command 2\n",
      "Command 1\n",
      "Command 2\n"
     ]
    }
   ],
   "source": [
    "# Same line\n",
    "print(\"Command 1\"); print(\"Command 2\")\n",
    "\n",
    "# Separate lines\n",
    "print(\"Command 1\")\n",
    "print(\"Command 2\")"
   ]
  },
  {
   "cell_type": "markdown",
   "metadata": {},
   "source": [
    "---\n",
    "## Logic, Control Flow and Loops\n",
    "### Comparison Operators \n",
    "They are used to check how Python values relate. Comparison operators are ```<``` (strictly less than), ```<=``` (less than or equal), ```>``` (strictly greater than), ```>=``` (greater than or equal), ```==``` (equal), and ```!=``` (not equal)."
   ]
  },
  {
   "cell_type": "code",
   "execution_count": 6,
   "metadata": {},
   "outputs": [
    {
     "name": "stdout",
     "output_type": "stream",
     "text": [
      "False True\n",
      "False True\n",
      "False True\n",
      "False True\n"
     ]
    }
   ],
   "source": [
    "# comparison of booleans\n",
    "print(False == True, True > False)\n",
    "\n",
    "# comparison of strings\n",
    "print(\"String\" == \"string\", \"string\" >= \"string\")\n",
    "\n",
    "# comparison of integers\n",
    "print(-5 != -1 * 5, -5 * 2 > -15)\n",
    "\n",
    "# compare a boolean with an integer\n",
    "print(False >= 1, True == 1)"
   ]
  },
  {
   "cell_type": "markdown",
   "metadata": {},
   "source": [
    "### Boolean Operators\n",
    "Boolean logic is the foundation of decision-making in Python programs. A boolean is either ```1``` or ```0```, ```True``` or ```False```. Boolean operators ```and```, ```or``` and ```not``` can be combined to perform more advanced queries on data."
   ]
  },
  {
   "cell_type": "code",
   "execution_count": 10,
   "metadata": {},
   "outputs": [
    {
     "name": "stdout",
     "output_type": "stream",
     "text": [
      "True\n",
      "True\n",
      "True\n"
     ]
    }
   ],
   "source": [
    "# define variables\n",
    "x, y = 7, 13\n",
    "\n",
    "# boolean and operator \n",
    "print(x < 10 and y > 10)\n",
    "\n",
    "# boolean or operator\n",
    "print(x < 6 or y > 12)\n",
    "\n",
    "# boolean not operator\n",
    "print(not(not(x < 0) and not(y > 14 or y > 10)))"
   ]
  },
  {
   "cell_type": "markdown",
   "metadata": {},
   "source": [
    "### Conditional Statements\n",
    "Conditional statements in Python are ```if```, ```elif``` (short for \"else if\"), and ```else```. They are important in directing the flow of Python programs, and allow more dynamic and responsive code by spesifying different blocks of code to be executed under different conditions. When a condition is met, Python executes the corresponding code and leaves the control structure. Python relies on indentation to define scope in the code. The ```else``` statement is optional and can be omitted if you only want to execute code based on certain conditions without a fallback condition."
   ]
  },
  {
   "cell_type": "code",
   "execution_count": 17,
   "metadata": {},
   "outputs": [
    {
     "name": "stdout",
     "output_type": "stream",
     "text": [
      "z is divisible by both 2 and 3\n"
     ]
    }
   ],
   "source": [
    "z = 6\n",
    "if (z % 2 == 0 and z % 3 == 0):\n",
    "    print(\"z is divisible by both 2 and 3\")    # True\n",
    "elif z % 2 == 0:\n",
    "    print(\"z is divisible by 2\")    # Never reached\n",
    "elif z % 3 == 0:\n",
    "    print(\"z is divisible by 3\")\n",
    "else:\n",
    "    print(\"z is neither divisible by 2 nor by 3\")"
   ]
  },
  {
   "cell_type": "markdown",
   "metadata": {},
   "source": [
    "### Loops\n",
    "\n",
    "A ```while``` loop is used for repeating an action until a particular condition is met. When the condition becomes false, the line immediately after the loop in the program is executed. The Python ```pass``` statement allows to write empty loops by avoiding the ```IndentationError```. ```break``` statement allows to exit the loop immediately regardless of the condition, while ```continue``` statement skips the rest of the code inside the loop for the current iteration and jumps back to the beginning to re-evaluate the condition. The basic syntax is:\n",
    "\n",
    "```python  \n",
    "while expression:\n",
    "    statement(s)\n",
    "```"
   ]
  },
  {
   "cell_type": "code",
   "execution_count": 18,
   "metadata": {},
   "outputs": [
    {
     "name": "stdout",
     "output_type": "stream",
     "text": [
      "correcting... -4\n",
      "correcting... -3\n",
      "correcting... -2\n",
      "correcting... -1\n",
      "correcting... 0\n"
     ]
    }
   ],
   "source": [
    "# initialize offset for an inverted pendulum\n",
    "offset = -5\n",
    "\n",
    "# set the while loop to terminate at zero offset\n",
    "while offset != 0:\n",
    "    if offset > 0:\n",
    "      offset = offset - 1\n",
    "    else: \n",
    "      offset = offset + 1    \n",
    "    print(\"correcting...\", offset)"
   ]
  },
  {
   "cell_type": "markdown",
   "metadata": {},
   "source": [
    "A ```for``` loop tells Python to iterate over a collection of objects and gives access to every object in each run, one after the other. ```enumerate()``` is used to access the index information, where the current object being iterating over is located. ```break``` allows to exit a loop entirely when an external condition is met, while ```continue``` allows to skip over a specific part of the loop when an external condition is triggered. The ```range()``` is also useful to loop over an interval. The basic syntax is: \n",
    "\n",
    "```python  \n",
    "for object in collection_of_objects:\n",
    "    # code to execute on each object\n",
    "```"
   ]
  },
  {
   "cell_type": "code",
   "execution_count": 25,
   "metadata": {},
   "outputs": [
    {
     "name": "stdout",
     "output_type": "stream",
     "text": [
      "Planet 1: Jupiter with 69.911 km radii\n",
      "Planet 2: Saturn with 58.232 km radii\n",
      "Planet 3: Uranus with 25.362 km radii\n",
      "Planet 4: Neptune with 24.622 km radii\n",
      "Planet 5: Earth with 6.371 km radii\n",
      "Planet 6: Venus with 6.052 km radii\n",
      "Planet 7: Mars with 3.39 km radii\n",
      "Planet 8: Mercury with 2.44 km radii\n"
     ]
    }
   ],
   "source": [
    "# planets list of lists ordered by radii\n",
    "planets = [[\"Jupiter\", 69.911],\n",
    "           [\"Saturn\", 58.232],\n",
    "           [\"Uranus\", 25.362],\n",
    "           [\"Neptune\", 24.622],\n",
    "           [\"Earth\", 6.371],\n",
    "           [\"Venus\", 6.052],\n",
    "           [\"Mars\", 3.390],\n",
    "           [\"Mercury\", 2.440]]\n",
    "\n",
    "# code the for loop with enumarate\n",
    "for index, planet in enumerate(planets) :\n",
    "    print(\"Planet\", str(index + 1) + \":\", planet[0], \"with\", planet[1], \"km radii\")"
   ]
  },
  {
   "cell_type": "markdown",
   "metadata": {},
   "source": [
    "---\n",
    "## List\n",
    "Lists are collection of values and they may\n",
    "\n",
    "* Contain any type\n",
    "* Contain different (mixed) types\n",
    "\n",
    "List slicing to select multiple elements: __my_list[*start*:*end*]__ (*start* is inclusive and *end* is exclusive)"
   ]
  },
  {
   "cell_type": "code",
   "execution_count": 4,
   "metadata": {},
   "outputs": [
    {
     "name": "stdout",
     "output_type": "stream",
     "text": [
      "Body measures: [24, 75.5] ( <class 'list'> )\n",
      "Similar brands: ['FCR', 'TWS', 'RS', 'LAB'] ( <class 'list'> )\n",
      "Color: cream ( <class 'str'> )\n",
      "Bayes: [24, 75.5, 'Bayes', 'Golden Retriever', ['FCR', 'TWS'], {'color': 'cream', 'age': 2}] ( <class 'list'> )\n",
      "Heather: [24, 70.2, 'Heather', 'Golden Retriever', ['FCR', 'TWS'], {'color': 'cream', 'age': 2}] ( <class 'list'> )\n",
      "Heather_Ref: [24, 70.2, 'Heather', 'Golden Retriever', ['FCR', 'TWS'], {'color': 'cream', 'age': 2}] ( <class 'list'> )\n"
     ]
    }
   ],
   "source": [
    "bayes = [24, 75.5, 'Bayes', \"Golden Retriever\", True, [\"FCR\", \"TWS\"], {'color':'cream', 'age':2}]\n",
    "body_measures = bayes[:2]           # slicing \n",
    "color = bayes[-1]['color']          # subsetting\n",
    "similar_brands = bayes[5] + [\"RS\"]  # manipulating (add element)\n",
    "similar_brands.append(\"LAB\")        # manipulating (add element)\n",
    "del(bayes[4])                       # manipulating (remove element)\n",
    "\n",
    "heather = list(bayes) # bayes[:]    # copy with NO reference\n",
    "heather[2] = 'Heather'              # change is NOT reflected\n",
    "\n",
    "heather_ref = heather               # copy with reference\n",
    "heather[1] = 70.2                   # change is reflected\n",
    "\n",
    "# display lists\n",
    "print(\"Body measures:\", body_measures, \"(\", type(body_measures),\")\")\n",
    "print(\"Similar brands:\", similar_brands, \"(\", type(similar_brands),\")\")\n",
    "print(\"Color:\", color, \"(\", type(color),\")\")\n",
    "print(\"Bayes:\", bayes, \"(\", type(bayes),\")\")\n",
    "print(\"Heather:\", heather, \"(\", type(heather),\")\")\n",
    "print(\"Heather_Ref:\", heather_ref, \"(\", type(heather_ref),\")\")"
   ]
  },
  {
   "cell_type": "markdown",
   "metadata": {},
   "source": [
    "Some of the widely used list methods (functions that belong to lists) are:\n",
    "* __index()__ : to get the index of the first element of a list that matches its input\n",
    "* __count()__ : to get the number of times an element appears in a list\n",
    "* __append()__ : to add an element to the list it is called on\n",
    "* __remove()__ : to remove the first element of a list that matches the input\n",
    "* __reverse()__ : to reverse the order of the elements in the list it is called on"
   ]
  },
  {
   "cell_type": "markdown",
   "metadata": {},
   "source": [
    "### NumPy\n",
    "NumPy (Numerical Python) is the fundamental package for scientific computing in Python. It provides a multidimensional array object, various derived objects (such as masked arrays and matrices), and an assortment of routines for __fast operations__ on arrays. NumPy arrays contain __only one type__."
   ]
  },
  {
   "cell_type": "code",
   "execution_count": 14,
   "metadata": {},
   "outputs": [
    {
     "name": "stdout",
     "output_type": "stream",
     "text": [
      "[1.000e+00 5.000e-01 1.000e+00 0.000e+00 3.456e+03] <class 'numpy.ndarray'> (5,)\n"
     ]
    }
   ],
   "source": [
    "# import numpy as np\n",
    "np_array = np.array([1, 0.5, True, False, 3456])\n",
    "print(np_array, type(np_array), np_array.shape)  # Output: <class 'numpy.ndarray'>"
   ]
  },
  {
   "cell_type": "code",
   "execution_count": 16,
   "metadata": {},
   "outputs": [
    {
     "name": "stdout",
     "output_type": "stream",
     "text": [
      "BMI Light: [19.3125306  17.62132174 20.96159188 12.06332718 18.1355102 ]\n",
      "Measures: (5000, 3)\n",
      "Weights: [74.95 61.62 83.01 62.71 69.4 ]\n",
      "Person 0 height: 1.97\n",
      "Person 1 weight: 74.95\n",
      "BMI Mean: 1.7514079999999999\n",
      "BMI Median: 1.76\n",
      "BMI Corr: [[1.         0.00376614]\n",
      " [0.00376614 1.        ]]\n",
      "BMI Std: 0.20198291397046433\n",
      "Underweight: [False False False ... False False False]\n"
     ]
    }
   ],
   "source": [
    "# import numpy as np\n",
    "height = np.round(np.random.normal(1.75, 0.20, 5000), 2)\n",
    "weight = np.round(np.random.normal(60.32, 15, 5000), 2)\n",
    "\n",
    "bmi = weight / height ** 2          # element-wise and fast operation\n",
    "measures = np.column_stack((height, weight, bmi))\n",
    "\n",
    "# display numpy arrays\n",
    "print(\"BMI Light:\", bmi[bmi < 21][:5])    # subsetting\n",
    "print(\"Measures:\", measures.shape)        # shape\n",
    "print(\"Weights:\", measures[:,1][:5])      # slicing\n",
    "print(\"Person 0 height:\", measures[0,0])  # subsetting\n",
    "print(\"Person 1 weight:\", measures[0][1]) # subsetting\n",
    "\n",
    "# data analysis\n",
    "print(\"BMI Mean:\", np.mean(measures[:,0]))                       # mean\n",
    "print(\"BMI Median:\", np.median(measures[:,0]))                   # median\n",
    "print(\"BMI Corr:\", np.corrcoef(measures[:,0], measures[:,1]))    # correlation coefficient\n",
    "print(\"BMI Std:\", np.std(measures[:,0]))                         # standard deviation\n",
    "print(\"Underweight:\", np.logical_and(height < 1.52,              # logical and operator (for or: np.logical_or)\n",
    "                                     weight < 50)) "
   ]
  },
  {
   "cell_type": "markdown",
   "metadata": {},
   "source": [
    "- __nditer:__ While dealing with a 1D NumPy array, looping over all elements is as the usual. But a multi-dimensional array is more complicated. To explicitly iterate over all separate elements of a multi-dimensional array, ```.nditer()``` is used."
   ]
  },
  {
   "cell_type": "code",
   "execution_count": 40,
   "metadata": {},
   "outputs": [
    {
     "name": "stdout",
     "output_type": "stream",
     "text": [
      "The array is 3D\n",
      "1 2 3 4 5 6 7 8 "
     ]
    }
   ],
   "source": [
    "m = np.array([[[1, 2], [3, 4]], [[5, 6], [7, 8]]])\n",
    "\n",
    "# print the dimension of the array\n",
    "print(\"The array is \" + str(m.ndim) + \"D\")\n",
    "\n",
    "# for loop call with nditer\n",
    "for x in np.nditer(m):\n",
    "    # print without a new line at the end\n",
    "    print(x, end=' ')"
   ]
  },
  {
   "cell_type": "markdown",
   "metadata": {},
   "source": [
    "- __random:__ A sub-package of NumPy, ```random```, provides useful functions to generate a random number. The two main functionalities are ```.seed()``` and ```.rand()```. ```.seed()``` sets the random seed, so that the results are reproducible between simulations. Tt takes an integer as an argument. ```.rand()``` generates a random float between zero and one, if no arguments are specified. The ```.randint()``` method returns an integer number from a specified range with start and stop values as two arguments, where the start value is inclusive and stop value is exclusive."
   ]
  },
  {
   "cell_type": "code",
   "execution_count": 42,
   "metadata": {},
   "outputs": [
    {
     "name": "stdout",
     "output_type": "stream",
     "text": [
      "0.08734964290217506\n",
      "6\n"
     ]
    }
   ],
   "source": [
    "# set the seed\n",
    "np.random.seed(57)\n",
    "\n",
    "# generate and print random float\n",
    "print(np.random.rand())\n",
    "\n",
    "# generate and print random integer\n",
    "print(np.random.randint(1, 9))"
   ]
  },
  {
   "cell_type": "markdown",
   "metadata": {},
   "source": [
    "---\n",
    "## Statistics\n",
    "When randomness is included, to get the same result at each run for reproducibility, numpy library allows to set a seed using the ```np.random.seed()``` function with a number parameter. Using the seed, the same outcome can be obtained with random activities such as sampling. ```scipy.stats``` library provides various functions for statistical operations.\n",
    "\n",
    "- __Uniform Distribution:__\n",
    "\n",
    "The ```uniform.rvs``` function from ```scipy.stats``` generates random variables following a uniform distribution. By default, it generates a uniform distribution on ```[0, 1]```. With __loc__ and __scale__ parameters, a uniform distribution on ```[loc, loc + scale]``` is obtained. __size__ parameter determines the number of variates to generate within the distribution range. ```uniform.cdf``` is the cumulative distribution function with uniform distribution, and calculates the probability of up to a certain upper boundary with the uniform distribution."
   ]
  },
  {
   "cell_type": "code",
   "execution_count": null,
   "metadata": {},
   "outputs": [
    {
     "name": "stdout",
     "output_type": "stream",
     "text": [
      "Waiting less than 5 mins with uniform distribution: 0.75\n"
     ]
    },
    {
     "data": {
      "image/png": "[encoded data removed]",
      "text/plain": [
       "<Figure size 432x288 with 1 Axes>"
      ]
     },
     "metadata": {
      "needs_background": "light"
     },
     "output_type": "display_data"
    }
   ],
   "source": [
    "# set random seed to 426\n",
    "np.random.seed(426)\n",
    "\n",
    "# import uniform\n",
    "from scipy.stats import uniform\n",
    "\n",
    "# generate 2000 wait times between 0 and 20 mins\n",
    "times = uniform.rvs(0, 20, size=2000)\n",
    "\n",
    "# calculate probability of waiting less than 5 mins\n",
    "times_less5 = 1 - uniform.cdf(5, 0, 20)\n",
    "print(\"Waiting less than 5 mins with uniform distribution:\", times_less5)\n",
    "\n",
    "# plot a histogram of simulated times (see data visualization section for more about plots)\n",
    "plt.hist(times)\n",
    "plt.show()"
   ]
  },
  {
   "cell_type": "markdown",
   "metadata": {},
   "source": [
    "- __Binomial Distribution:__\n",
    "\n",
    "Binomial distribution models events with binary outcomes, such as success/failure, win/loss, or heads/tails, and these can be represented numerically (1 or 0). The ```binom.rvs``` function from ```scipy.stats``` simulates random variables following a binomial distribution. It requires the number of trials (n) of discrete events, the probability of success (p), and the size, which determines how many times the experiment is run, as parameters.\n",
    "\n",
    "```python\n",
    "binom.rvs(num_of_trial, prob_of_success, size=num_of_runs) \n",
    "```\n",
    "Adjusting the probability of success (p) models biased outcomes, such as a weighted coin. ```binom.pmf``` calculates the probability of a specific number of successes with the binomial distribution. ```binom.cdf``` calculates the probability of up to a certain number of successes with the binomial distribution. The expected value of a binomial distribution, which is the average number of successes over many trials, calculated with the number of trials (n) * (p) the probability of success."
   ]
  },
  {
   "cell_type": "code",
   "execution_count": 7,
   "metadata": {},
   "outputs": [
    {
     "name": "stdout",
     "output_type": "stream",
     "text": [
      "1 fair coin flip 1 time: [0]\n",
      "1 fair coin flip 8 times: [0 1 0 1 1 0 0 0]\n",
      "8 fair coin flips 1 time: [2]\n",
      "3 fair coin flips 10 times: [1 1 1 3 3 2 2 3 2 0]\n",
      "3 weighted coin flips 10 times: [3 3 2 3 3 1 3 2 3 3]\n",
      "Probability of 7 heads from fair coin flips 10 times: 0.11718749999999999\n",
      "Probability of 7 or fewer heads from fair coin flips 10 times: 0.9453125\n"
     ]
    }
   ],
   "source": [
    "from scipy.stats import binom\n",
    "\n",
    "# single flip\n",
    "print(\"1 fair coin flip 1 time:\", binom.rvs(1, 0.5, size=1))\n",
    "\n",
    "# one flip many times\n",
    "print(\"1 fair coin flip 8 times:\", binom.rvs(1, 0.5, size=8))\n",
    "\n",
    "# many flips one time\n",
    "print(\"8 fair coin flips 1 time:\", binom.rvs(8, 0.5, size=1))\n",
    "\n",
    "# many flips many times\n",
    "print(\"3 fair coin flips 10 times:\", binom.rvs(3, 0.5, size=10))\n",
    "\n",
    "# many flips many times with weighted coin\n",
    "print(\"3 weighted coin flips 10 times:\", binom.rvs(3, 0.8, size=10))\n",
    "\n",
    "# probability of 7 heads from 10 times fair coin flip\n",
    "print(\"Probability of 7 heads from fair coin flips 10 times:\", binom.pmf(7, 10, 0.5))\n",
    "\n",
    "# probability of 7 or fewer heads from 10 times fair coin flip\n",
    "print(\"Probability of 7 or fewer heads from fair coin flips 10 times:\", binom.cdf(7, 10, 0.5))"
   ]
  },
  {
   "cell_type": "markdown",
   "metadata": {},
   "source": [
    "- __Normal Distribution:__\n",
    "\n",
    "The ```norm.rvs``` function from ```scipy.stats``` generates random variables following a normal distribution. By default, it generates a normal distribution with mean __loc__ and standard deviation __scale__ parameters. __size__ parameter determines the number of variates to generate. ```norm.cdf``` is the cumulative distribution function with normal distribution, and calculates the probability of up to a certain upper boundary with the normal distribution. The central limit theorem states that the sampling distribution of a sample statistic approaches the normal distribution with more samples, regardless of the original distribution being sampled from."
   ]
  },
  {
   "cell_type": "code",
   "execution_count": 13,
   "metadata": {},
   "outputs": [
    {
     "name": "stdout",
     "output_type": "stream",
     "text": [
      "Probability of weight less than 75: 0.7475074624530771\n",
      "Probability of weight more than 55: 0.7475074624530771\n",
      "Probability of weight more than 55: 0.13055865981823633\n",
      "The weight that 25% are less than: 54.882653747058775\n"
     ]
    },
    {
     "data": {
      "image/png": "[encoded data removed]",
      "text/plain": [
       "<Figure size 432x288 with 1 Axes>"
      ]
     },
     "metadata": {
      "needs_background": "light"
     },
     "output_type": "display_data"
    }
   ],
   "source": [
    "from scipy.stats import norm\n",
    "\n",
    "# generate 1000 weight data by normal distribution\n",
    "weights = norm.rvs(65, 15, size=1000)\n",
    "\n",
    "# probability of weight < 75\n",
    "print(\"Probability of weight less than 75:\", norm.cdf(75, 65, 15))\n",
    "\n",
    "# probability of weight > 55\n",
    "print(\"Probability of weight more than 55:\", 1 - norm.cdf(55, 65, 15))\n",
    "\n",
    "# probability of weight > 60 and weight < 65\n",
    "print(\"Probability of weight more than 55:\", norm.cdf(65, 65, 15) - norm.cdf(60, 65, 15))\n",
    "\n",
    "# calculate the weight that 25% of weights will be less than\n",
    "print(\"The weight that 25% are less than:\", norm.ppf(0.25, 65, 15))\n",
    "\n",
    "# fit a normal distribution to weights and get mean and standard deviation\n",
    "mu, std = norm.fit(weights) \n",
    "\n",
    "# create the histogram of weights\n",
    "plt.hist(weights, bins=15, density=True, alpha=0.6, color='b')\n",
    "\n",
    "# plot the normal distribution\n",
    "xmin, xmax = plt.xlim()\n",
    "x = np.linspace(xmin, xmax, 100)\n",
    "pdf = norm.pdf(x, mu, std)\n",
    "\n",
    "plt.plot(x, pdf, 'k', linewidth=2)\n",
    "plt.title(\"Fit Values: {:.2f} and {:.2f}\".format(mu, std))\n",
    "\n",
    "# show the combined plot\n",
    "plt.show()"
   ]
  },
  {
   "cell_type": "markdown",
   "metadata": {},
   "source": [
    "---\n",
    "## Dictionary\n",
    "Dictionaries are lookup tables of key:value pairs which contains major operational properties of lists where\n",
    "\n",
    "* Keys have to be \"immutable\" and unique objects\n",
    "* Values can be any type (including dictionaries)\n",
    "\n",
    "Dictionaries are efficient for data lookups, even with large datasets."
   ]
  },
  {
   "cell_type": "code",
   "execution_count": 26,
   "metadata": {},
   "outputs": [
    {
     "name": "stdout",
     "output_type": "stream",
     "text": [
      "Europe Countries: dict_keys(['spain', 'france', 'germany', 'norway', 'italy', 'poland', 'austria', 'portugal'])\n",
      "Europe Capitals: dict_values(['madrid', 'paris', 'berlin', 'oslo', 'rome', 'warsaw', 'vienna', 'lisbon'])\n",
      "Is Morocco in Europe: False\n"
     ]
    }
   ],
   "source": [
    "europe = {'spain':'madrid', 'france':'paris', 'germany':'bonn',\n",
    "          'norway':'oslo', 'italy':'rome', 'poland':'warsaw',\n",
    "          'austria':'vienna', 'australia':'canberra'}\n",
    "\n",
    "europe['portugal'] = 'lisbon' # adding new element\n",
    "europe['germany'] = 'berlin'  # editing existing element\n",
    "del(europe['australia'])      # delete existing element\n",
    "\n",
    "print(\"Europe Countries:\", europe.keys())           # observe keys of a dictionary\n",
    "print(\"Europe Capitals:\", europe.values())          # observe values of a dictionary\n",
    "print(\"Is Morocco in Europe:\", 'morocco' in europe) # observe existing of a key in dictionary"
   ]
  },
  {
   "cell_type": "markdown",
   "metadata": {},
   "source": [
    "Using a dictionary directly in a for loop allows an iterator that goes over its keys. With this approach along with the ```[key]``` operator, ìt ispossible to access the values of the dictionary while looping through the keys. The ```.items()``` method allows to iterate over both keys and values at the same time."
   ]
  },
  {
   "cell_type": "code",
   "execution_count": 30,
   "metadata": {},
   "outputs": [
    {
     "name": "stdout",
     "output_type": "stream",
     "text": [
      "The capital of Spain is Madrid\n",
      "The capital of France is Paris\n",
      "The capital of Germany is Berlin\n",
      "The capital of Norway is Oslo\n",
      "The capital of Italy is Rome\n",
      "The capital of Poland is Warsaw\n",
      "The capital of Austria is Vienna\n",
      "The capital of Portugal is Lisbon\n"
     ]
    }
   ],
   "source": [
    "# use the same europe dictionary to iterate over key value pairs\n",
    "for key, value in europe.items():\n",
    "    print(\"The capital of\", key.capitalize(), \"is\", value.capitalize())"
   ]
  },
  {
   "cell_type": "markdown",
   "metadata": {},
   "source": [
    "Dictionaries can contain key:value pairs where the values are also dictionaries."
   ]
  },
  {
   "cell_type": "code",
   "execution_count": 11,
   "metadata": {},
   "outputs": [
    {
     "name": "stdout",
     "output_type": "stream",
     "text": [
      "Number of moons Earth has: 1\n",
      "Distance of Saturn to Sun in AU: 9.5\n"
     ]
    }
   ],
   "source": [
    "planets = {'mercury': {'distance':0.4, 'moons':0, 'rings':0},\n",
    "          'venus': {'distance':0.72, 'moons':0, 'rings':0},\n",
    "          'earth': {'distance':1, 'moons':1, 'rings':0},\n",
    "          'neptune': {'distance':30, 'moons':16, 'rings':9}}\n",
    "\n",
    "data = {'distance':9.5, 'moons':146, 'rings':7} # creating sub-dictionary data\n",
    "planets['saturn'] = data                                    # adding a new element\n",
    "\n",
    "print(\"Number of moons Earth has:\",planets['earth']['moons']) # observe a sub-dictionary element\n",
    "print(\"Distance of Saturn to Sun in AU:\",planets['saturn']['distance']) # observe a sub-dictionary element"
   ]
  },
  {
   "cell_type": "markdown",
   "metadata": {
    "id": "lfmuMnEsKSpP"
   },
   "source": [
    "---\n",
    "## Function\n",
    "\n",
    "**Define** a function: `def function_name(positional_argument, keyword_argument=default_value)` \\\n",
    "**Call** a function: `function_name(positional_argument, keyword_argument)` \\\n",
    "**Methods** are object functions and are called: `object_name.function_name(positional_argument, keyword_argument)`\n",
    "\n",
    "*Keyword arguments can be passed with keywords as assignment if the order is not preserved.*"
   ]
  },
  {
   "cell_type": "code",
   "execution_count": null,
   "metadata": {
    "colab": {
     "base_uri": "https://localhost:8080/"
    },
    "id": "966Ej85RKQ_l",
    "outputId": "7289b6fa-8d6a-4ce9-96e5-8aa42ebfd253"
   },
   "outputs": [],
   "source": [
    "def display_info(name, age, gender=\"female\", is_student=True):\n",
    "    print(name, \"is a\", gender, \"at age\", age, \"and is\", end=\"\")\n",
    "    if(is_student): print(\"a student.\")\n",
    "    else: print(\" not a student.\")\n",
    "\n",
    "display_info(\"Joe\", 24, is_student=False)\n",
    "display_info(\"John\", 25, \"male\", False)"
   ]
  },
  {
   "cell_type": "markdown",
   "metadata": {
    "id": "tZ2gmFEDgzQE"
   },
   "source": [
    "Call a function with `help(function_name)` or `?funcion_name` to display function info."
   ]
  },
  {
   "cell_type": "code",
   "execution_count": null,
   "metadata": {
    "colab": {
     "base_uri": "https://localhost:8080/"
    },
    "id": "X7MlMqrng-f_",
    "outputId": "8c381dad-4525-434d-9005-ac8c1716ceb1"
   },
   "outputs": [],
   "source": [
    "help(round)"
   ]
  },
  {
   "cell_type": "markdown",
   "metadata": {
    "id": "TNPJmZO7XOxv"
   },
   "source": [
    "### Arbitrary Arguments, *args\n",
    "If the number of arguments is unknown, add a * before the parameter name. The function will receive a *tuple* of arguments and used for *positional arguments*. \"args\" is a name which can be replaced by any."
   ]
  },
  {
   "cell_type": "code",
   "execution_count": null,
   "metadata": {
    "colab": {
     "base_uri": "https://localhost:8080/"
    },
    "id": "kJdsSHmHXQ0Q",
    "outputId": "6c435402-c831-4b8f-b3d0-5139bc219ac2"
   },
   "outputs": [],
   "source": [
    "# define function with arbitrary arguments\n",
    "def my_sum(*args):\n",
    "    result = 0\n",
    "    # iterate over the args tuple\n",
    "    for x in args:\n",
    "        result += x\n",
    "    return result\n",
    "\n",
    "# call function with arbitrary arguments\n",
    "my_sum(1,2,3,4,5)"
   ]
  },
  {
   "cell_type": "code",
   "execution_count": null,
   "metadata": {
    "colab": {
     "base_uri": "https://localhost:8080/"
    },
    "id": "LFDjwEqwd5ui",
    "outputId": "fce39f4d-9906-4047-e487-53e44eed2810"
   },
   "outputs": [],
   "source": [
    "s = set([3, 1, 5, 0])\n",
    "print(s.add(0))"
   ]
  },
  {
   "cell_type": "markdown",
   "metadata": {
    "id": "TwPTRYICXRON"
   },
   "source": [
    "### Arbitrary Keyword Arguments, **kwargs\n",
    "If the number of keyword (named) arguments is unknown, add a double ** before the parameter name. The function will receive a *dictionary* of arguments and used to replace *keyword arguments*. \"kwargs\" is a name which can be replaced by any and should always be defined after args."
   ]
  },
  {
   "cell_type": "code",
   "execution_count": null,
   "metadata": {
    "colab": {
     "base_uri": "https://localhost:8080/",
     "height": 34
    },
    "id": "Qbt0_Q_kXR2V",
    "outputId": "9a93ce0a-ef31-4c8f-8ccb-8fc2ed480503"
   },
   "outputs": [],
   "source": [
    "# define function with arbitrary keyword arguments\n",
    "def my_concat(**kwargs):\n",
    "    result = \"\"\n",
    "    # iterate over the kwargs dictionary\n",
    "    for arg in kwargs.values():\n",
    "        result += arg\n",
    "    return result\n",
    "\n",
    "my_concat(a=\"This \", b=\"is \", c=\"a \", d=\"function\", e=\"!\")"
   ]
  },
  {
   "cell_type": "markdown",
   "metadata": {},
   "source": [
    "## Object Oriented Programming\n",
    "In comparison to **procedural programming** applying code as a sequence of steps, **object oriented programming** handles the code as interactions of objects and generates *maintainable and reusable* code. Objects and classes consist of **attributes (state)** and **methods (behavior)**. Classes are blueprints of objects outlining possible states and behaviors. In Python everything is an object and `type(object_name)` can be used to see the class or `isinstance(child_class_name)` can be used to chack if the object is an instance of a particular class. Some descriptions:\n",
    "- **Encapsulation:** Bundles data with methods operating on data\n",
    "- **Polymorphism:** Creates a unified interface\n",
    "- **Inheritance:** Customize and extends functionality of existing code (*parent* class) with new (*child* class, or *subclass*)\n",
    "- **Constructor:** `__init__()` method which is called everytime an object is created\n",
    "- **Self:** `self` is the stand-in for a particular object, should be the first argument of any method\n",
    "- **Class attributes:** Shared among all class instances, referred as `ClassName.` rather than `self.`, 'global' variable within the class\n",
    "- **Class methods:** Uses `@classmethod` decorator and the first argument `cls`\n",
    "\n",
    "Best practices:\n",
    "- *Initialize attributes in `__init__()`*\n",
    "- *Use `CamelCase` naming for classes and `lower_snake_case` for functions and attributes.*\n",
    "- *Keep `self` as `self`*\n",
    "- *Use docstrings*"
   ]
  },
  {
   "cell_type": "code",
   "execution_count": 53,
   "metadata": {
    "id": "UCHDNleUY8_5"
   },
   "outputs": [],
   "source": [
    "class Employee:\n",
    "    # Class attributes which are shared among all instances\n",
    "    VACATION_DAYS = 14\n",
    "    MIN_SALARY = 3000\n",
    "    \n",
    "    # Constructor of the parent class\n",
    "    def __init__(self, name, salary=3000):\n",
    "        self.name = name\n",
    "        # Use class attribute to confirm attribute salary\n",
    "        if salary >= Employee.MIN_SALARY: self.salary = salary\n",
    "        else: self.salary = Employee.MIN_SALARY\n",
    "\n",
    "    def give_raise(self, amount):\n",
    "        self.salary += amount\n",
    "        \n",
    "    def display(self):\n",
    "        print(\"Employee:\", self.name, end=\"\")\n",
    "        print(\" | Salary:\", self.salary, end=\"\")\n",
    "        \n",
    "    # Class method to create instance(s) from file\n",
    "    @classmethod\n",
    "    def from_file(cls, filename):\n",
    "        # empty list to hold read employees\n",
    "        employees = []\n",
    "        with open(filename, \"r\") as f:\n",
    "            names = f.readlines()\n",
    "            for name in names:\n",
    "                employees.append(cls(name.strip()))\n",
    "        # Return the employees\n",
    "        return employees\n",
    "        \n",
    "class Manager(Employee):\n",
    "    # Constructor of the child class\n",
    "    def __init__(self, name, salary=5000, project=None):\n",
    "        # Call the parent's constructor   \n",
    "        Employee.__init__(self, name, salary)\n",
    "        # Additional attributes\n",
    "        self.project = project \n",
    "    \n",
    "    # Extension of inherited functionality\n",
    "    def display(self):\n",
    "        Employee.display(self)\n",
    "        print(\" | Project:\", self.project, end=\"\")\n",
    "        \n",
    "    # Class method to create instance from str\n",
    "    @classmethod\n",
    "    def from_str(cls, infostr):\n",
    "        parts = infostr.split(\",\")\n",
    "        name, salary, project = parts\n",
    "        salary = int(salary) if salary else 0\n",
    "        # Return the class instance\n",
    "        return cls(name, salary, project)"
   ]
  },
  {
   "cell_type": "code",
   "execution_count": null,
   "metadata": {},
   "outputs": [],
   "source": [
    "# Create objects\n",
    "software_engineer = Employee(\"Jane Doe\")\n",
    "finance_manager = Manager.from_str(\"Joe Doe,,Influencer\")\n",
    "employees = Employee.from_file(\"employees.txt\")\n",
    "\n",
    "# Assign new value to class attribute\n",
    "finance_manager.VACATION_DAYS = 21\n",
    "\n",
    "# Call object methods\n",
    "software_engineer.give_raise(1000)\n",
    "employees.extend([software_engineer,finance_manager])\n",
    "for i in employees:\n",
    "    i.display()\n",
    "    print(\"\")\n",
    "\n",
    "print(\"VACATION_DAYS of software engineer\", software_engineer.name, \":\", software_engineer.VACATION_DAYS)\n",
    "print(\"VACATION_DAYS of finance manager\", finance_manager.name, \":\", finance_manager.VACATION_DAYS)"
   ]
  },
  {
   "cell_type": "code",
   "execution_count": null,
   "metadata": {},
   "outputs": [],
   "source": []
  }
 ],
 "metadata": {
  "colab": {
   "collapsed_sections": [],
   "name": "Python.ipynb",
   "provenance": []
  },
  "kernelspec": {
   "display_name": "tf-gpu-coursera",
   "language": "python",
   "name": "python3"
  },
  "language_info": {
   "codemirror_mode": {
    "name": "ipython",
    "version": 3
   },
   "file_extension": ".py",
   "mimetype": "text/x-python",
   "name": "python",
   "nbconvert_exporter": "python",
   "pygments_lexer": "ipython3",
   "version": "3.10.4"
  }
 },
 "nbformat": 4,
 "nbformat_minor": 1
}
