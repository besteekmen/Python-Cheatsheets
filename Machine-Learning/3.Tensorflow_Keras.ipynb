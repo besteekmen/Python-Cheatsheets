{
 "cells": [
  {
   "cell_type": "markdown",
   "metadata": {},
   "source": [
    "# Deep Learning with TensorFlow and Keras\n",
    "\n",
    "Keras is a high-level API of the TensorFlow, which provides approachable and highly-productive interface for solving machine learning (ML) problems. It covers the whole ML workflow from data processing to hyperparameter tuning to deployment and enables fast experimentation.\n",
    "\n",
    "### 1) Set Up TensorFlow and Keras"
   ]
  },
  {
   "cell_type": "code",
   "execution_count": 1,
   "metadata": {},
   "outputs": [
    {
     "name": "stdout",
     "output_type": "stream",
     "text": [
      "2.9.0\n"
     ]
    }
   ],
   "source": [
    "import tensorflow as tf\n",
    "import numpy as np\n",
    "import matplotlib.pyplot as plt\n",
    "import matplotlib.image as mpimg\n",
    "from tensorflow import keras\n",
    "import zipfile, os, signal\n",
    "\n",
    "print(tf.__version__)"
   ]
  },
  {
   "cell_type": "markdown",
   "metadata": {},
   "source": [
    "### 2) Simple (1 layer, 1 neuron) Neural Network\n",
    "\n",
    "The simplest possible neural network is one with only a single layer with one neuron and has the input shape of a single value as shown in the figure below:\n",
    "\n",
    "<img src=\"../image/nn_1_1.png\" alt=\"one layer one neuron neural network\" width=\"600\">\n",
    "\n",
    "Let's assume we are given two sets of data:\n",
    "```python\n",
    "x = [-2.0, -1.0, 0.0, 1.0, 2.0, 3.0]\n",
    "y = [-4.0, -1.0, 2.0, 5.0, 8.0, 11.0]\n",
    "```\n",
    "and we want to find the rule behind them which is:\n",
    "```python\n",
    "y = 3x + 2\n",
    "```\n",
    "#### a) Define the Model and Compile the Neural Network\n",
    "\n",
    "Keras [Sequential](https://keras.io/api/models/sequential/) class allows to group a linear sequence of layers into a model. The simplest neural network with a single layer can be built with a single [dense](https://keras.io/api/layers/core_layers/dense/) layer, which is the densely-connected neural network layer.\n"
   ]
  },
  {
   "cell_type": "code",
   "execution_count": 15,
   "metadata": {},
   "outputs": [],
   "source": [
    "# build a simple sequential model with a dense layer\n",
    "model = tf.keras.Sequential([keras.layers.Dense(units=1, input_shape=[1])])"
   ]
  },
  {
   "cell_type": "markdown",
   "metadata": {},
   "source": [
    "To compile the neural network, a __loss__ function and an __optimizer__ are needed. During the training process, the __loss__ function calculates the loss by comparing the actual values to the predicted values. On the other hand, the __optimizer__ updates the weights of the neural network for a new prediction to minimize the loss. They work in turns for the selected number of __epochs__. Keras API provides a list of available [loss](https://keras.io/api/losses/) functions and [optimizer](https://keras.io/api/optimizers/)s."
   ]
  },
  {
   "cell_type": "code",
   "execution_count": 16,
   "metadata": {},
   "outputs": [],
   "source": [
    "# compile the model with sgd optimizer and MSE loss function\n",
    "model.compile(optimizer='sgd', loss='mean_squared_error')"
   ]
  },
  {
   "cell_type": "markdown",
   "metadata": {},
   "source": [
    "#### b) Train the Neural Network\n",
    "\n",
    "To train the model, labeled data is prepared in pairs as input and output values. The values, which are float number in this case, are prepared as numpy arrays."
   ]
  },
  {
   "cell_type": "code",
   "execution_count": 17,
   "metadata": {},
   "outputs": [],
   "source": [
    "# inputs and outputs for model training\n",
    "x = np.array([-2.0, -1.0, 0.0, 1.0, 2.0, 3.0], dtype=float)\n",
    "y = np.array([-4.0, -1.0, 2.0, 5.0, 8.0, 11.0], dtype=float)"
   ]
  },
  {
   "cell_type": "markdown",
   "metadata": {},
   "source": [
    "The ```.fit()``` function is called over the model to train the neural network. By going through the training turns, the model learns the relationship between input and output values. The training loops depends on the number of epochs, which is set by the __epoch__ parameter."
   ]
  },
  {
   "cell_type": "code",
   "execution_count": 21,
   "metadata": {},
   "outputs": [
    {
     "name": "stdout",
     "output_type": "stream",
     "text": [
      "Epoch 1/300\n",
      "1/1 [==============================] - 0s 373ms/step - loss: 41.6561\n",
      "Epoch 2/300\n",
      "1/1 [==============================] - 0s 10ms/step - loss: 36.5087\n",
      "Epoch 3/300\n",
      "1/1 [==============================] - 0s 11ms/step - loss: 32.0090\n",
      "Epoch 4/300\n",
      "1/1 [==============================] - 0s 10ms/step - loss: 28.0752\n",
      "Epoch 5/300\n",
      "1/1 [==============================] - 0s 10ms/step - loss: 24.6357\n",
      "Epoch 6/300\n",
      "1/1 [==============================] - 0s 11ms/step - loss: 21.6280\n",
      "Epoch 7/300\n",
      "1/1 [==============================] - 0s 11ms/step - loss: 18.9975\n",
      "Epoch 8/300\n",
      "1/1 [==============================] - 0s 10ms/step - loss: 16.6966\n",
      "Epoch 9/300\n",
      "1/1 [==============================] - 0s 11ms/step - loss: 14.6835\n",
      "Epoch 10/300\n",
      "1/1 [==============================] - 0s 8ms/step - loss: 12.9220\n",
      "Epoch 11/300\n",
      "1/1 [==============================] - 0s 9ms/step - loss: 11.3802\n",
      "Epoch 12/300\n",
      "1/1 [==============================] - 0s 8ms/step - loss: 10.0305\n",
      "Epoch 13/300\n",
      "1/1 [==============================] - 0s 9ms/step - loss: 8.8486\n",
      "Epoch 14/300\n",
      "1/1 [==============================] - 0s 9ms/step - loss: 7.8134\n",
      "Epoch 15/300\n",
      "1/1 [==============================] - 0s 9ms/step - loss: 6.9063\n",
      "Epoch 16/300\n",
      "1/1 [==============================] - 0s 8ms/step - loss: 6.1113\n",
      "Epoch 17/300\n",
      "1/1 [==============================] - 0s 7ms/step - loss: 5.4142\n",
      "Epoch 18/300\n",
      "1/1 [==============================] - 0s 9ms/step - loss: 4.8028\n",
      "Epoch 19/300\n",
      "1/1 [==============================] - 0s 10ms/step - loss: 4.2662\n",
      "Epoch 20/300\n",
      "1/1 [==============================] - 0s 8ms/step - loss: 3.7951\n",
      "Epoch 21/300\n",
      "1/1 [==============================] - 0s 9ms/step - loss: 3.3812\n",
      "Epoch 22/300\n",
      "1/1 [==============================] - 0s 9ms/step - loss: 3.0175\n",
      "Epoch 23/300\n",
      "1/1 [==============================] - 0s 10ms/step - loss: 2.6975\n",
      "Epoch 24/300\n",
      "1/1 [==============================] - 0s 8ms/step - loss: 2.4160\n",
      "Epoch 25/300\n",
      "1/1 [==============================] - 0s 9ms/step - loss: 2.1679\n",
      "Epoch 26/300\n",
      "1/1 [==============================] - 0s 9ms/step - loss: 1.9493\n",
      "Epoch 27/300\n",
      "1/1 [==============================] - 0s 9ms/step - loss: 1.7564\n",
      "Epoch 28/300\n",
      "1/1 [==============================] - 0s 7ms/step - loss: 1.5860\n",
      "Epoch 29/300\n",
      "1/1 [==============================] - 0s 14ms/step - loss: 1.4354\n",
      "Epoch 30/300\n",
      "1/1 [==============================] - 0s 28ms/step - loss: 1.3021\n",
      "Epoch 31/300\n",
      "1/1 [==============================] - 0s 17ms/step - loss: 1.1840\n",
      "Epoch 32/300\n",
      "1/1 [==============================] - 0s 16ms/step - loss: 1.0792\n",
      "Epoch 33/300\n",
      "1/1 [==============================] - 0s 11ms/step - loss: 0.9861\n",
      "Epoch 34/300\n",
      "1/1 [==============================] - 0s 10ms/step - loss: 0.9032\n",
      "Epoch 35/300\n",
      "1/1 [==============================] - 0s 10ms/step - loss: 0.8294\n",
      "Epoch 36/300\n",
      "1/1 [==============================] - 0s 9ms/step - loss: 0.7635\n",
      "Epoch 37/300\n",
      "1/1 [==============================] - 0s 9ms/step - loss: 0.7045\n",
      "Epoch 38/300\n",
      "1/1 [==============================] - 0s 9ms/step - loss: 0.6517\n",
      "Epoch 39/300\n",
      "1/1 [==============================] - 0s 8ms/step - loss: 0.6043\n",
      "Epoch 40/300\n",
      "1/1 [==============================] - 0s 9ms/step - loss: 0.5617\n",
      "Epoch 41/300\n",
      "1/1 [==============================] - 0s 9ms/step - loss: 0.5233\n",
      "Epoch 42/300\n",
      "1/1 [==============================] - 0s 8ms/step - loss: 0.4885\n",
      "Epoch 43/300\n",
      "1/1 [==============================] - 0s 8ms/step - loss: 0.4571\n",
      "Epoch 44/300\n",
      "1/1 [==============================] - 0s 10ms/step - loss: 0.4286\n",
      "Epoch 45/300\n",
      "1/1 [==============================] - 0s 10ms/step - loss: 0.4027\n",
      "Epoch 46/300\n",
      "1/1 [==============================] - 0s 8ms/step - loss: 0.3790\n",
      "Epoch 47/300\n",
      "1/1 [==============================] - 0s 8ms/step - loss: 0.3574\n",
      "Epoch 48/300\n",
      "1/1 [==============================] - 0s 9ms/step - loss: 0.3376\n",
      "Epoch 49/300\n",
      "1/1 [==============================] - 0s 8ms/step - loss: 0.3194\n",
      "Epoch 50/300\n",
      "1/1 [==============================] - 0s 9ms/step - loss: 0.3026\n",
      "Epoch 51/300\n",
      "1/1 [==============================] - 0s 9ms/step - loss: 0.2871\n",
      "Epoch 52/300\n",
      "1/1 [==============================] - 0s 9ms/step - loss: 0.2728\n",
      "Epoch 53/300\n",
      "1/1 [==============================] - 0s 8ms/step - loss: 0.2595\n",
      "Epoch 54/300\n",
      "1/1 [==============================] - 0s 9ms/step - loss: 0.2472\n",
      "Epoch 55/300\n",
      "1/1 [==============================] - 0s 7ms/step - loss: 0.2356\n",
      "Epoch 56/300\n",
      "1/1 [==============================] - 0s 9ms/step - loss: 0.2249\n",
      "Epoch 57/300\n",
      "1/1 [==============================] - 0s 10ms/step - loss: 0.2148\n",
      "Epoch 58/300\n",
      "1/1 [==============================] - 0s 9ms/step - loss: 0.2054\n",
      "Epoch 59/300\n",
      "1/1 [==============================] - 0s 9ms/step - loss: 0.1965\n",
      "Epoch 60/300\n",
      "1/1 [==============================] - 0s 8ms/step - loss: 0.1882\n",
      "Epoch 61/300\n",
      "1/1 [==============================] - 0s 10ms/step - loss: 0.1803\n",
      "Epoch 62/300\n",
      "1/1 [==============================] - 0s 10ms/step - loss: 0.1728\n",
      "Epoch 63/300\n",
      "1/1 [==============================] - 0s 10ms/step - loss: 0.1658\n",
      "Epoch 64/300\n",
      "1/1 [==============================] - 0s 10ms/step - loss: 0.1591\n",
      "Epoch 65/300\n",
      "1/1 [==============================] - 0s 10ms/step - loss: 0.1528\n",
      "Epoch 66/300\n",
      "1/1 [==============================] - 0s 9ms/step - loss: 0.1468\n",
      "Epoch 67/300\n",
      "1/1 [==============================] - 0s 9ms/step - loss: 0.1410\n",
      "Epoch 68/300\n",
      "1/1 [==============================] - 0s 9ms/step - loss: 0.1356\n",
      "Epoch 69/300\n",
      "1/1 [==============================] - 0s 9ms/step - loss: 0.1304\n",
      "Epoch 70/300\n",
      "1/1 [==============================] - 0s 15ms/step - loss: 0.1254\n",
      "Epoch 71/300\n",
      "1/1 [==============================] - 0s 28ms/step - loss: 0.1207\n",
      "Epoch 72/300\n",
      "1/1 [==============================] - 0s 26ms/step - loss: 0.1161\n",
      "Epoch 73/300\n",
      "1/1 [==============================] - 0s 13ms/step - loss: 0.1118\n",
      "Epoch 74/300\n",
      "1/1 [==============================] - 0s 16ms/step - loss: 0.1076\n",
      "Epoch 75/300\n",
      "1/1 [==============================] - 0s 8ms/step - loss: 0.1037\n",
      "Epoch 76/300\n",
      "1/1 [==============================] - 0s 9ms/step - loss: 0.0998\n",
      "Epoch 77/300\n",
      "1/1 [==============================] - 0s 9ms/step - loss: 0.0962\n",
      "Epoch 78/300\n",
      "1/1 [==============================] - 0s 9ms/step - loss: 0.0927\n",
      "Epoch 79/300\n",
      "1/1 [==============================] - 0s 9ms/step - loss: 0.0893\n",
      "Epoch 80/300\n",
      "1/1 [==============================] - 0s 9ms/step - loss: 0.0860\n",
      "Epoch 81/300\n",
      "1/1 [==============================] - 0s 9ms/step - loss: 0.0829\n",
      "Epoch 82/300\n",
      "1/1 [==============================] - 0s 8ms/step - loss: 0.0799\n",
      "Epoch 83/300\n",
      "1/1 [==============================] - 0s 8ms/step - loss: 0.0770\n",
      "Epoch 84/300\n",
      "1/1 [==============================] - 0s 9ms/step - loss: 0.0743\n",
      "Epoch 85/300\n",
      "1/1 [==============================] - 0s 8ms/step - loss: 0.0716\n",
      "Epoch 86/300\n",
      "1/1 [==============================] - 0s 8ms/step - loss: 0.0690\n",
      "Epoch 87/300\n",
      "1/1 [==============================] - 0s 9ms/step - loss: 0.0666\n",
      "Epoch 88/300\n",
      "1/1 [==============================] - 0s 8ms/step - loss: 0.0642\n",
      "Epoch 89/300\n",
      "1/1 [==============================] - 0s 8ms/step - loss: 0.0619\n",
      "Epoch 90/300\n",
      "1/1 [==============================] - 0s 9ms/step - loss: 0.0597\n",
      "Epoch 91/300\n",
      "1/1 [==============================] - 0s 10ms/step - loss: 0.0575\n",
      "Epoch 92/300\n",
      "1/1 [==============================] - 0s 8ms/step - loss: 0.0555\n",
      "Epoch 93/300\n",
      "1/1 [==============================] - 0s 8ms/step - loss: 0.0535\n",
      "Epoch 94/300\n",
      "1/1 [==============================] - 0s 9ms/step - loss: 0.0516\n",
      "Epoch 95/300\n",
      "1/1 [==============================] - 0s 9ms/step - loss: 0.0498\n",
      "Epoch 96/300\n",
      "1/1 [==============================] - 0s 9ms/step - loss: 0.0480\n",
      "Epoch 97/300\n",
      "1/1 [==============================] - 0s 9ms/step - loss: 0.0463\n",
      "Epoch 98/300\n",
      "1/1 [==============================] - 0s 9ms/step - loss: 0.0447\n",
      "Epoch 99/300\n",
      "1/1 [==============================] - 0s 10ms/step - loss: 0.0431\n",
      "Epoch 100/300\n",
      "1/1 [==============================] - 0s 10ms/step - loss: 0.0416\n",
      "Epoch 101/300\n",
      "1/1 [==============================] - 0s 9ms/step - loss: 0.0401\n",
      "Epoch 102/300\n",
      "1/1 [==============================] - 0s 32ms/step - loss: 0.0387\n",
      "Epoch 103/300\n",
      "1/1 [==============================] - 0s 7ms/step - loss: 0.0373\n",
      "Epoch 104/300\n",
      "1/1 [==============================] - 0s 8ms/step - loss: 0.0360\n",
      "Epoch 105/300\n",
      "1/1 [==============================] - 0s 9ms/step - loss: 0.0347\n",
      "Epoch 106/300\n",
      "1/1 [==============================] - 0s 10ms/step - loss: 0.0335\n",
      "Epoch 107/300\n",
      "1/1 [==============================] - 0s 8ms/step - loss: 0.0323\n",
      "Epoch 108/300\n",
      "1/1 [==============================] - 0s 10ms/step - loss: 0.0312\n",
      "Epoch 109/300\n",
      "1/1 [==============================] - 0s 8ms/step - loss: 0.0301\n",
      "Epoch 110/300\n",
      "1/1 [==============================] - 0s 7ms/step - loss: 0.0290\n",
      "Epoch 111/300\n",
      "1/1 [==============================] - 0s 9ms/step - loss: 0.0280\n",
      "Epoch 112/300\n",
      "1/1 [==============================] - 0s 11ms/step - loss: 0.0270\n",
      "Epoch 113/300\n",
      "1/1 [==============================] - 0s 35ms/step - loss: 0.0260\n",
      "Epoch 114/300\n",
      "1/1 [==============================] - 0s 36ms/step - loss: 0.0251\n",
      "Epoch 115/300\n",
      "1/1 [==============================] - 0s 9ms/step - loss: 0.0242\n",
      "Epoch 116/300\n",
      "1/1 [==============================] - 0s 20ms/step - loss: 0.0234\n",
      "Epoch 117/300\n",
      "1/1 [==============================] - 0s 10ms/step - loss: 0.0225\n",
      "Epoch 118/300\n",
      "1/1 [==============================] - 0s 9ms/step - loss: 0.0217\n",
      "Epoch 119/300\n",
      "1/1 [==============================] - 0s 9ms/step - loss: 0.0210\n",
      "Epoch 120/300\n",
      "1/1 [==============================] - 0s 8ms/step - loss: 0.0202\n",
      "Epoch 121/300\n",
      "1/1 [==============================] - 0s 9ms/step - loss: 0.0195\n",
      "Epoch 122/300\n",
      "1/1 [==============================] - 0s 9ms/step - loss: 0.0188\n",
      "Epoch 123/300\n",
      "1/1 [==============================] - 0s 8ms/step - loss: 0.0182\n",
      "Epoch 124/300\n",
      "1/1 [==============================] - 0s 9ms/step - loss: 0.0175\n",
      "Epoch 125/300\n",
      "1/1 [==============================] - 0s 9ms/step - loss: 0.0169\n",
      "Epoch 126/300\n",
      "1/1 [==============================] - 0s 9ms/step - loss: 0.0163\n",
      "Epoch 127/300\n",
      "1/1 [==============================] - 0s 9ms/step - loss: 0.0157\n",
      "Epoch 128/300\n",
      "1/1 [==============================] - 0s 10ms/step - loss: 0.0152\n",
      "Epoch 129/300\n",
      "1/1 [==============================] - 0s 10ms/step - loss: 0.0146\n",
      "Epoch 130/300\n",
      "1/1 [==============================] - 0s 9ms/step - loss: 0.0141\n",
      "Epoch 131/300\n",
      "1/1 [==============================] - 0s 8ms/step - loss: 0.0136\n",
      "Epoch 132/300\n",
      "1/1 [==============================] - 0s 10ms/step - loss: 0.0131\n",
      "Epoch 133/300\n",
      "1/1 [==============================] - 0s 9ms/step - loss: 0.0127\n",
      "Epoch 134/300\n",
      "1/1 [==============================] - 0s 9ms/step - loss: 0.0122\n",
      "Epoch 135/300\n",
      "1/1 [==============================] - 0s 8ms/step - loss: 0.0118\n",
      "Epoch 136/300\n",
      "1/1 [==============================] - 0s 8ms/step - loss: 0.0114\n",
      "Epoch 137/300\n",
      "1/1 [==============================] - 0s 8ms/step - loss: 0.0110\n",
      "Epoch 138/300\n",
      "1/1 [==============================] - 0s 10ms/step - loss: 0.0106\n",
      "Epoch 139/300\n",
      "1/1 [==============================] - 0s 7ms/step - loss: 0.0102\n",
      "Epoch 140/300\n",
      "1/1 [==============================] - 0s 8ms/step - loss: 0.0099\n",
      "Epoch 141/300\n",
      "1/1 [==============================] - 0s 10ms/step - loss: 0.0095\n",
      "Epoch 142/300\n",
      "1/1 [==============================] - 0s 8ms/step - loss: 0.0092\n",
      "Epoch 143/300\n",
      "1/1 [==============================] - 0s 10ms/step - loss: 0.0089\n",
      "Epoch 144/300\n",
      "1/1 [==============================] - 0s 8ms/step - loss: 0.0085\n",
      "Epoch 145/300\n",
      "1/1 [==============================] - 0s 10ms/step - loss: 0.0082\n",
      "Epoch 146/300\n",
      "1/1 [==============================] - 0s 9ms/step - loss: 0.0079\n",
      "Epoch 147/300\n",
      "1/1 [==============================] - 0s 9ms/step - loss: 0.0077\n",
      "Epoch 148/300\n",
      "1/1 [==============================] - 0s 8ms/step - loss: 0.0074\n",
      "Epoch 149/300\n",
      "1/1 [==============================] - 0s 10ms/step - loss: 0.0071\n",
      "Epoch 150/300\n",
      "1/1 [==============================] - 0s 9ms/step - loss: 0.0069\n",
      "Epoch 151/300\n",
      "1/1 [==============================] - 0s 8ms/step - loss: 0.0066\n",
      "Epoch 152/300\n",
      "1/1 [==============================] - 0s 16ms/step - loss: 0.0064\n",
      "Epoch 153/300\n",
      "1/1 [==============================] - 0s 18ms/step - loss: 0.0062\n",
      "Epoch 154/300\n",
      "1/1 [==============================] - 0s 11ms/step - loss: 0.0060\n",
      "Epoch 155/300\n",
      "1/1 [==============================] - 0s 18ms/step - loss: 0.0058\n",
      "Epoch 156/300\n",
      "1/1 [==============================] - 0s 8ms/step - loss: 0.0055\n",
      "Epoch 157/300\n",
      "1/1 [==============================] - 0s 16ms/step - loss: 0.0054\n",
      "Epoch 158/300\n",
      "1/1 [==============================] - 0s 8ms/step - loss: 0.0052\n",
      "Epoch 159/300\n",
      "1/1 [==============================] - 0s 8ms/step - loss: 0.0050\n",
      "Epoch 160/300\n",
      "1/1 [==============================] - 0s 9ms/step - loss: 0.0048\n",
      "Epoch 161/300\n",
      "1/1 [==============================] - 0s 9ms/step - loss: 0.0046\n",
      "Epoch 162/300\n",
      "1/1 [==============================] - 0s 8ms/step - loss: 0.0045\n",
      "Epoch 163/300\n",
      "1/1 [==============================] - 0s 8ms/step - loss: 0.0043\n",
      "Epoch 164/300\n",
      "1/1 [==============================] - 0s 9ms/step - loss: 0.0042\n",
      "Epoch 165/300\n",
      "1/1 [==============================] - 0s 8ms/step - loss: 0.0040\n",
      "Epoch 166/300\n",
      "1/1 [==============================] - 0s 8ms/step - loss: 0.0039\n",
      "Epoch 167/300\n",
      "1/1 [==============================] - 0s 16ms/step - loss: 0.0037\n",
      "Epoch 168/300\n",
      "1/1 [==============================] - 0s 9ms/step - loss: 0.0036\n",
      "Epoch 169/300\n",
      "1/1 [==============================] - 0s 8ms/step - loss: 0.0035\n",
      "Epoch 170/300\n",
      "1/1 [==============================] - 0s 9ms/step - loss: 0.0034\n",
      "Epoch 171/300\n",
      "1/1 [==============================] - 0s 9ms/step - loss: 0.0032\n",
      "Epoch 172/300\n",
      "1/1 [==============================] - 0s 9ms/step - loss: 0.0031\n",
      "Epoch 173/300\n",
      "1/1 [==============================] - 0s 9ms/step - loss: 0.0030\n",
      "Epoch 174/300\n",
      "1/1 [==============================] - 0s 8ms/step - loss: 0.0029\n",
      "Epoch 175/300\n",
      "1/1 [==============================] - 0s 10ms/step - loss: 0.0028\n",
      "Epoch 176/300\n",
      "1/1 [==============================] - 0s 8ms/step - loss: 0.0027\n",
      "Epoch 177/300\n",
      "1/1 [==============================] - 0s 7ms/step - loss: 0.0026\n",
      "Epoch 178/300\n",
      "1/1 [==============================] - 0s 11ms/step - loss: 0.0025\n",
      "Epoch 179/300\n",
      "1/1 [==============================] - 0s 9ms/step - loss: 0.0024\n",
      "Epoch 180/300\n",
      "1/1 [==============================] - 0s 9ms/step - loss: 0.0023\n",
      "Epoch 181/300\n",
      "1/1 [==============================] - 0s 7ms/step - loss: 0.0023\n",
      "Epoch 182/300\n",
      "1/1 [==============================] - 0s 10ms/step - loss: 0.0022\n",
      "Epoch 183/300\n",
      "1/1 [==============================] - 0s 10ms/step - loss: 0.0021\n",
      "Epoch 184/300\n",
      "1/1 [==============================] - 0s 9ms/step - loss: 0.0020\n",
      "Epoch 185/300\n",
      "1/1 [==============================] - 0s 9ms/step - loss: 0.0020\n",
      "Epoch 186/300\n",
      "1/1 [==============================] - 0s 10ms/step - loss: 0.0019\n",
      "Epoch 187/300\n",
      "1/1 [==============================] - 0s 9ms/step - loss: 0.0018\n",
      "Epoch 188/300\n",
      "1/1 [==============================] - 0s 9ms/step - loss: 0.0018\n",
      "Epoch 189/300\n",
      "1/1 [==============================] - 0s 8ms/step - loss: 0.0017\n",
      "Epoch 190/300\n",
      "1/1 [==============================] - 0s 8ms/step - loss: 0.0016\n",
      "Epoch 191/300\n",
      "1/1 [==============================] - 0s 9ms/step - loss: 0.0016\n",
      "Epoch 192/300\n",
      "1/1 [==============================] - 0s 19ms/step - loss: 0.0015\n",
      "Epoch 193/300\n",
      "1/1 [==============================] - 0s 37ms/step - loss: 0.0015\n",
      "Epoch 194/300\n",
      "1/1 [==============================] - 0s 9ms/step - loss: 0.0014\n",
      "Epoch 195/300\n",
      "1/1 [==============================] - 0s 12ms/step - loss: 0.0014\n",
      "Epoch 196/300\n",
      "1/1 [==============================] - 0s 9ms/step - loss: 0.0013\n",
      "Epoch 197/300\n",
      "1/1 [==============================] - 0s 8ms/step - loss: 0.0013\n",
      "Epoch 198/300\n",
      "1/1 [==============================] - 0s 8ms/step - loss: 0.0012\n",
      "Epoch 199/300\n",
      "1/1 [==============================] - 0s 9ms/step - loss: 0.0012\n",
      "Epoch 200/300\n",
      "1/1 [==============================] - 0s 9ms/step - loss: 0.0011\n",
      "Epoch 201/300\n",
      "1/1 [==============================] - 0s 8ms/step - loss: 0.0011\n",
      "Epoch 202/300\n",
      "1/1 [==============================] - 0s 9ms/step - loss: 0.0011\n",
      "Epoch 203/300\n",
      "1/1 [==============================] - 0s 9ms/step - loss: 0.0010\n",
      "Epoch 204/300\n",
      "1/1 [==============================] - 0s 8ms/step - loss: 9.8919e-04\n",
      "Epoch 205/300\n",
      "1/1 [==============================] - 0s 9ms/step - loss: 9.5429e-04\n",
      "Epoch 206/300\n",
      "1/1 [==============================] - 0s 9ms/step - loss: 9.2060e-04\n",
      "Epoch 207/300\n",
      "1/1 [==============================] - 0s 9ms/step - loss: 8.8812e-04\n",
      "Epoch 208/300\n",
      "1/1 [==============================] - 0s 8ms/step - loss: 8.5678e-04\n",
      "Epoch 209/300\n",
      "1/1 [==============================] - 0s 8ms/step - loss: 8.2654e-04\n",
      "Epoch 210/300\n",
      "1/1 [==============================] - 0s 9ms/step - loss: 7.9738e-04\n",
      "Epoch 211/300\n",
      "1/1 [==============================] - 0s 7ms/step - loss: 7.6924e-04\n",
      "Epoch 212/300\n",
      "1/1 [==============================] - 0s 7ms/step - loss: 7.4209e-04\n",
      "Epoch 213/300\n",
      "1/1 [==============================] - 0s 9ms/step - loss: 7.1590e-04\n",
      "Epoch 214/300\n",
      "1/1 [==============================] - 0s 8ms/step - loss: 6.9064e-04\n",
      "Epoch 215/300\n",
      "1/1 [==============================] - 0s 9ms/step - loss: 6.6626e-04\n",
      "Epoch 216/300\n",
      "1/1 [==============================] - 0s 9ms/step - loss: 6.4275e-04\n",
      "Epoch 217/300\n",
      "1/1 [==============================] - 0s 9ms/step - loss: 6.2007e-04\n",
      "Epoch 218/300\n",
      "1/1 [==============================] - 0s 9ms/step - loss: 5.9819e-04\n",
      "Epoch 219/300\n",
      "1/1 [==============================] - 0s 7ms/step - loss: 5.7707e-04\n",
      "Epoch 220/300\n",
      "1/1 [==============================] - 0s 10ms/step - loss: 5.5671e-04\n",
      "Epoch 221/300\n",
      "1/1 [==============================] - 0s 9ms/step - loss: 5.3707e-04\n",
      "Epoch 222/300\n",
      "1/1 [==============================] - 0s 8ms/step - loss: 5.1812e-04\n",
      "Epoch 223/300\n",
      "1/1 [==============================] - 0s 8ms/step - loss: 4.9983e-04\n",
      "Epoch 224/300\n",
      "1/1 [==============================] - 0s 9ms/step - loss: 4.8219e-04\n",
      "Epoch 225/300\n",
      "1/1 [==============================] - 0s 8ms/step - loss: 4.6517e-04\n",
      "Epoch 226/300\n",
      "1/1 [==============================] - 0s 8ms/step - loss: 4.4876e-04\n",
      "Epoch 227/300\n",
      "1/1 [==============================] - 0s 9ms/step - loss: 4.3292e-04\n",
      "Epoch 228/300\n",
      "1/1 [==============================] - 0s 8ms/step - loss: 4.1764e-04\n",
      "Epoch 229/300\n",
      "1/1 [==============================] - 0s 22ms/step - loss: 4.0291e-04\n",
      "Epoch 230/300\n",
      "1/1 [==============================] - 0s 12ms/step - loss: 3.8869e-04\n",
      "Epoch 231/300\n",
      "1/1 [==============================] - 0s 29ms/step - loss: 3.7497e-04\n",
      "Epoch 232/300\n",
      "1/1 [==============================] - 0s 15ms/step - loss: 3.6173e-04\n",
      "Epoch 233/300\n",
      "1/1 [==============================] - 0s 8ms/step - loss: 3.4897e-04\n",
      "Epoch 234/300\n",
      "1/1 [==============================] - 0s 8ms/step - loss: 3.3665e-04\n",
      "Epoch 235/300\n",
      "1/1 [==============================] - 0s 12ms/step - loss: 3.2477e-04\n",
      "Epoch 236/300\n",
      "1/1 [==============================] - 0s 9ms/step - loss: 3.1331e-04\n",
      "Epoch 237/300\n",
      "1/1 [==============================] - 0s 8ms/step - loss: 3.0225e-04\n",
      "Epoch 238/300\n",
      "1/1 [==============================] - 0s 9ms/step - loss: 2.9159e-04\n",
      "Epoch 239/300\n",
      "1/1 [==============================] - 0s 9ms/step - loss: 2.8130e-04\n",
      "Epoch 240/300\n",
      "1/1 [==============================] - 0s 9ms/step - loss: 2.7137e-04\n",
      "Epoch 241/300\n",
      "1/1 [==============================] - 0s 9ms/step - loss: 2.6179e-04\n",
      "Epoch 242/300\n",
      "1/1 [==============================] - 0s 9ms/step - loss: 2.5255e-04\n",
      "Epoch 243/300\n",
      "1/1 [==============================] - 0s 16ms/step - loss: 2.4364e-04\n",
      "Epoch 244/300\n",
      "1/1 [==============================] - 0s 8ms/step - loss: 2.3504e-04\n",
      "Epoch 245/300\n",
      "1/1 [==============================] - 0s 8ms/step - loss: 2.2675e-04\n",
      "Epoch 246/300\n",
      "1/1 [==============================] - 0s 9ms/step - loss: 2.1875e-04\n",
      "Epoch 247/300\n",
      "1/1 [==============================] - 0s 9ms/step - loss: 2.1103e-04\n",
      "Epoch 248/300\n",
      "1/1 [==============================] - 0s 9ms/step - loss: 2.0358e-04\n",
      "Epoch 249/300\n",
      "1/1 [==============================] - 0s 8ms/step - loss: 1.9639e-04\n",
      "Epoch 250/300\n",
      "1/1 [==============================] - 0s 9ms/step - loss: 1.8946e-04\n",
      "Epoch 251/300\n",
      "1/1 [==============================] - 0s 8ms/step - loss: 1.8278e-04\n",
      "Epoch 252/300\n",
      "1/1 [==============================] - 0s 9ms/step - loss: 1.7633e-04\n",
      "Epoch 253/300\n",
      "1/1 [==============================] - 0s 9ms/step - loss: 1.7010e-04\n",
      "Epoch 254/300\n",
      "1/1 [==============================] - 0s 8ms/step - loss: 1.6410e-04\n",
      "Epoch 255/300\n",
      "1/1 [==============================] - 0s 7ms/step - loss: 1.5831e-04\n",
      "Epoch 256/300\n",
      "1/1 [==============================] - 0s 10ms/step - loss: 1.5273e-04\n",
      "Epoch 257/300\n",
      "1/1 [==============================] - 0s 9ms/step - loss: 1.4733e-04\n",
      "Epoch 258/300\n",
      "1/1 [==============================] - 0s 9ms/step - loss: 1.4213e-04\n",
      "Epoch 259/300\n",
      "1/1 [==============================] - 0s 9ms/step - loss: 1.3712e-04\n",
      "Epoch 260/300\n",
      "1/1 [==============================] - 0s 8ms/step - loss: 1.3228e-04\n",
      "Epoch 261/300\n",
      "1/1 [==============================] - 0s 7ms/step - loss: 1.2761e-04\n",
      "Epoch 262/300\n",
      "1/1 [==============================] - 0s 9ms/step - loss: 1.2311e-04\n",
      "Epoch 263/300\n",
      "1/1 [==============================] - 0s 9ms/step - loss: 1.1876e-04\n",
      "Epoch 264/300\n",
      "1/1 [==============================] - 0s 8ms/step - loss: 1.1457e-04\n",
      "Epoch 265/300\n",
      "1/1 [==============================] - 0s 10ms/step - loss: 1.1053e-04\n",
      "Epoch 266/300\n",
      "1/1 [==============================] - 0s 41ms/step - loss: 1.0663e-04\n",
      "Epoch 267/300\n",
      "1/1 [==============================] - 0s 11ms/step - loss: 1.0287e-04\n",
      "Epoch 268/300\n",
      "1/1 [==============================] - 0s 9ms/step - loss: 9.9236e-05\n",
      "Epoch 269/300\n",
      "1/1 [==============================] - 0s 10ms/step - loss: 9.5735e-05\n",
      "Epoch 270/300\n",
      "1/1 [==============================] - 0s 9ms/step - loss: 9.2356e-05\n",
      "Epoch 271/300\n",
      "1/1 [==============================] - 0s 8ms/step - loss: 8.9095e-05\n",
      "Epoch 272/300\n",
      "1/1 [==============================] - 0s 11ms/step - loss: 8.5954e-05\n",
      "Epoch 273/300\n",
      "1/1 [==============================] - 0s 10ms/step - loss: 8.2921e-05\n",
      "Epoch 274/300\n",
      "1/1 [==============================] - 0s 9ms/step - loss: 7.9993e-05\n",
      "Epoch 275/300\n",
      "1/1 [==============================] - 0s 8ms/step - loss: 7.7171e-05\n",
      "Epoch 276/300\n",
      "1/1 [==============================] - 0s 9ms/step - loss: 7.4448e-05\n",
      "Epoch 277/300\n",
      "1/1 [==============================] - 0s 9ms/step - loss: 7.1818e-05\n",
      "Epoch 278/300\n",
      "1/1 [==============================] - 0s 9ms/step - loss: 6.9286e-05\n",
      "Epoch 279/300\n",
      "1/1 [==============================] - 0s 9ms/step - loss: 6.6840e-05\n",
      "Epoch 280/300\n",
      "1/1 [==============================] - 0s 10ms/step - loss: 6.4481e-05\n",
      "Epoch 281/300\n",
      "1/1 [==============================] - 0s 10ms/step - loss: 6.2207e-05\n",
      "Epoch 282/300\n",
      "1/1 [==============================] - 0s 10ms/step - loss: 6.0012e-05\n",
      "Epoch 283/300\n",
      "1/1 [==============================] - 0s 8ms/step - loss: 5.7894e-05\n",
      "Epoch 284/300\n",
      "1/1 [==============================] - 0s 9ms/step - loss: 5.5852e-05\n",
      "Epoch 285/300\n",
      "1/1 [==============================] - 0s 9ms/step - loss: 5.3881e-05\n",
      "Epoch 286/300\n",
      "1/1 [==============================] - 0s 11ms/step - loss: 5.1979e-05\n",
      "Epoch 287/300\n",
      "1/1 [==============================] - 0s 10ms/step - loss: 5.0143e-05\n",
      "Epoch 288/300\n",
      "1/1 [==============================] - 0s 8ms/step - loss: 4.8375e-05\n",
      "Epoch 289/300\n",
      "1/1 [==============================] - 0s 9ms/step - loss: 4.6669e-05\n",
      "Epoch 290/300\n",
      "1/1 [==============================] - 0s 10ms/step - loss: 4.5022e-05\n",
      "Epoch 291/300\n",
      "1/1 [==============================] - 0s 10ms/step - loss: 4.3433e-05\n",
      "Epoch 292/300\n",
      "1/1 [==============================] - 0s 9ms/step - loss: 4.1899e-05\n",
      "Epoch 293/300\n",
      "1/1 [==============================] - 0s 9ms/step - loss: 4.0421e-05\n",
      "Epoch 294/300\n",
      "1/1 [==============================] - 0s 10ms/step - loss: 3.8995e-05\n",
      "Epoch 295/300\n",
      "1/1 [==============================] - 0s 11ms/step - loss: 3.7619e-05\n",
      "Epoch 296/300\n",
      "1/1 [==============================] - 0s 11ms/step - loss: 3.6292e-05\n",
      "Epoch 297/300\n",
      "1/1 [==============================] - 0s 9ms/step - loss: 3.5012e-05\n",
      "Epoch 298/300\n",
      "1/1 [==============================] - 0s 10ms/step - loss: 3.3777e-05\n",
      "Epoch 299/300\n",
      "1/1 [==============================] - 0s 11ms/step - loss: 3.2582e-05\n",
      "Epoch 300/300\n",
      "1/1 [==============================] - 0s 25ms/step - loss: 3.1434e-05\n"
     ]
    },
    {
     "data": {
      "text/plain": [
       "<keras.callbacks.History at 0x1b48f9c6d70>"
      ]
     },
     "execution_count": 21,
     "metadata": {},
     "output_type": "execute_result"
    }
   ],
   "source": [
    "# train the model\n",
    "model.fit(x, y, epochs=300)"
   ]
  },
  {
   "cell_type": "markdown",
   "metadata": {},
   "source": [
    "When the model is trained with the labeled data, ```.predict()``` method is used to make new predictions for unlabeled data."
   ]
  },
  {
   "cell_type": "code",
   "execution_count": 22,
   "metadata": {},
   "outputs": [
    {
     "name": "stdout",
     "output_type": "stream",
     "text": [
      "1/1 [==============================] - 0s 132ms/step\n",
      "[[62.019344]]\n"
     ]
    }
   ],
   "source": [
    "# make a prediction\n",
    "print(model.predict([20.0]))"
   ]
  },
  {
   "cell_type": "markdown",
   "metadata": {},
   "source": [
    "Using the formula below:\n",
    "```python\n",
    "y = 3(20) + 2\n",
    "```\n",
    "The expected answer would be 62 for the input value 20. Neural networks work with probabilities and the data size as well as other criteria (number of epochs, optimizer, loss function) in this example resulted in model prediction close to true value, but not the exact value. With neural networks, not certainties but probabilities should be considered for prediction and particularly classification tasks.\n",
    "\n",
    "### 3) Dense Neural Network\n",
    "\n",
    "A dense neural network (DNN), also known as a fully connected neural network, is a machine learning model in which every neuron in one layer is fully connected to every neuron in the previous layer. DNNs are widely used for classification, regression, and other tasks that require a complex, non-linear mapping between inputs and outputs. They work well with numerical or structural data.\n",
    "\n",
    "#### a) Load and Prepare the Data\n",
    "\n",
    "DNNs can be used to perform some computer vision tasks such as classification. The __Fashion MNIST__ dataset, which is available in the [tf.keras.datasets](https://www.tensorflow.org/api_docs/python/tf/keras/datasets) API, is a collection of grayscale 28x28 pixel clothing images which is suitable for a basic classification task. The ```.load_data()``` method allows to load the data from the API and returns two tuples with data and labels. The labels are returned as a number list which maps as below:\n",
    "\n",
    "| 0 | 1 | 2 | 3 | 4 | 5 | 6 | 7 | 8 | 9 |\n",
    "| --- | --- | --- | --- | --- | --- | --- | --- | --- | --- |\n",
    "| T-shirt/top | Trouser | Pullover | Dress | Coat | Sandal | Shirt | Sneaker | Bag | Ankle boot |\n",
    "\n",
    "While working with visual data and training a neural network for image processing, it is essential to normalize the pixel values by scaling to (0, 1). Normalizing helps to reduce the effect of feature scales on the performance, avoiding a large scale feautre dominating the model's behavior and generating poor performance. It also allows for more accurate training and lowers the computational costs, while improving stability and the speed of convrgence. "
   ]
  },
  {
   "cell_type": "code",
   "execution_count": 43,
   "metadata": {},
   "outputs": [
    {
     "name": "stdout",
     "output_type": "stream",
     "text": [
      "Label: 5\n"
     ]
    },
    {
     "data": {
      "image/png": "[encoded data removed]",
      "text/plain": [
       "<Figure size 432x288 with 1 Axes>"
      ]
     },
     "metadata": {
      "needs_background": "light"
     },
     "output_type": "display_data"
    }
   ],
   "source": [
    "# load the Fashion MNIST dataset\n",
    "fmnist = tf.keras.datasets.fashion_mnist\n",
    "\n",
    "# load and split the training and test sets of the Fashion MNIST dataset\n",
    "(train_img, train_lab), (test_img, test_lab) = fmnist.load_data()\n",
    "\n",
    "# set number of characters per row when printing\n",
    "#np.set_printoptions(linewidth=320)\n",
    "\n",
    "# pick a random image from the dataset\n",
    "i = np.random.randint(train_lab.shape[0], size=1)[0]\n",
    "\n",
    "# print image and label of the randomly selected sample\n",
    "print(\"Label:\", train_lab[i])\n",
    "#print(\"Image as NumPy array: \\n\", train_img[i])\n",
    "\n",
    "# visualize the image\n",
    "plt.imshow(train_img[i])\n",
    "\n",
    "# normalize the pixel values from (0, 255) to (0, 1)\n",
    "train_img  = train_img / 255.0\n",
    "test_img = test_img / 255.0"
   ]
  },
  {
   "cell_type": "markdown",
   "metadata": {},
   "source": [
    "#### b) Define the Model and Compile the Neural Network\n",
    "\n",
    "Keras [Dense](https://keras.io/api/layers/core_layers/dense/) layers are used in a sequential order to create DNNs. The initial step for the visual data in a DNN is to flatten the matrix of normalized pixel values into a 1-dimensional array, which can be done by the [Flatten](https://keras.io/api/layers/reshaping_layers/flatten/) layer. It flattens the input without changing the batch size. The fully connected dense layers can be added by specifying the dimensionality of the output space, and the activation function to use. The __activation__ parameter is used to specify the activation function. If not specified, no activation is applied (ie. \"linear\" activation: a(x) = x). However, for neural networks to learn and represent complex relationships between inputs and outputs, activation functions are essential as they introduce non-linearity into the model. Some of them are [softmax](https://www.tensorflow.org/api_docs/python/tf/nn/softmax) (used to normalize a vector of real numbers to a probability distribution for classification tasks), [sigmoid](https://www.tensorflow.org/api_docs/python/tf/math/sigmoid) (similar to softmax as it outputs in the range 0-1), [relu](https://www.tensorflow.org/api_docs/python/tf/nn/relu) (used to map all negative values to 0 and all positive values to the same value, introducing non-linearity to the network and helping to prevent vanishing gradients) etc. More parameters to specify the layer (i.e bias, regularization) can be found in the Keras [Dense](https://keras.io/api/layers/core_layers/dense/) layer page."
   ]
  },
  {
   "cell_type": "code",
   "execution_count": null,
   "metadata": {},
   "outputs": [],
   "source": [
    "# build the classification model (try first dense layer with 1024 neurons)\n",
    "model = tf.keras.models.Sequential([tf.keras.layers.Flatten(), \n",
    "                                    tf.keras.layers.Dense(128, activation=tf.nn.relu), \n",
    "                                    tf.keras.layers.Dense(10, activation=tf.nn.softmax)])"
   ]
  },
  {
   "cell_type": "markdown",
   "metadata": {},
   "source": [
    "- __Flatten Layer:__ The first layer in the neural network should be the same shape as the data (to avoid an error about the shape of the data), and it is more feasible to flatten the matrix rather than using the matrix shape here.\n",
    "\n",
    "- __Dense Layer__ (with softmax and 10 neurons)__:__ As a rule of thumb, the number of neurons in the last layer should match the number of classes the data is being classified into. Otherwise, the model returns an error if it finds an unexpected value. Hence, the last dense layer has ```10``` neurons, mapping the input to a list of 10 probabilities for 10 classes. \n",
    "\n",
    "- __Dense Layer__ (with relu and 128 neurons)__:__ The number of neurons in the first dense layer is set intuitionally. It can be changed to any other number if it will provide better results. However, increasing the number of neurons will slow down the training process and may not always improve the accuracy! \n",
    "\n",
    "- __Number of layers:__ The number of layers is also set intiutionally. Adding more layers to this model for Fashion MNIST data set would likely result in longer training time with no significant impact, since the data is relatively simple. However, for more complex data usually extra layers are necessary.\n",
    "\n",
    "The neural network is compiled with ```.compile()``` call by spesifying a __loss__ function and an __optimizer__ as explained before. Later, the model is trained with the data by calling ```.fit()``` function to fit the training data to the training labels. The __metrics__ parameter is used to track preferred metrics during the training."
   ]
  },
  {
   "cell_type": "code",
   "execution_count": null,
   "metadata": {},
   "outputs": [
    {
     "name": "stdout",
     "output_type": "stream",
     "text": [
      "Epoch 1/20\n",
      "1875/1875 [==============================] - 11s 6ms/step - loss: 0.5022 - accuracy: 0.8225\n",
      "Epoch 2/20\n",
      "1875/1875 [==============================] - 11s 6ms/step - loss: 0.3781 - accuracy: 0.8638\n",
      "Epoch 3/20\n",
      "1875/1875 [==============================] - 11s 6ms/step - loss: 0.3383 - accuracy: 0.8773\n",
      "Epoch 4/20\n",
      "1875/1875 [==============================] - 11s 6ms/step - loss: 0.3126 - accuracy: 0.8858\n",
      "Epoch 5/20\n",
      "1875/1875 [==============================] - 11s 6ms/step - loss: 0.2942 - accuracy: 0.8910\n",
      "Epoch 6/20\n",
      "1875/1875 [==============================] - 10s 6ms/step - loss: 0.2770 - accuracy: 0.8970\n",
      "Epoch 7/20\n",
      "1875/1875 [==============================] - 11s 6ms/step - loss: 0.2653 - accuracy: 0.9016\n",
      "Epoch 8/20\n",
      "1875/1875 [==============================] - 11s 6ms/step - loss: 0.2567 - accuracy: 0.9035\n",
      "Epoch 9/20\n",
      "1875/1875 [==============================] - 11s 6ms/step - loss: 0.2437 - accuracy: 0.9090\n",
      "Epoch 10/20\n",
      "1875/1875 [==============================] - 11s 6ms/step - loss: 0.2377 - accuracy: 0.9119\n",
      "Epoch 11/20\n",
      "1875/1875 [==============================] - 11s 6ms/step - loss: 0.2265 - accuracy: 0.9146\n",
      "Epoch 12/20\n",
      "1875/1875 [==============================] - 11s 6ms/step - loss: 0.2196 - accuracy: 0.9175\n",
      "Epoch 13/20\n",
      "1875/1875 [==============================] - 11s 6ms/step - loss: 0.2116 - accuracy: 0.9204\n",
      "Epoch 14/20\n",
      "1875/1875 [==============================] - 11s 6ms/step - loss: 0.2059 - accuracy: 0.9217\n",
      "Epoch 15/20\n",
      "1875/1875 [==============================] - 11s 6ms/step - loss: 0.2009 - accuracy: 0.9254\n",
      "Epoch 16/20\n",
      "1875/1875 [==============================] - 11s 6ms/step - loss: 0.1961 - accuracy: 0.9268\n",
      "Epoch 17/20\n",
      "1875/1875 [==============================] - 11s 6ms/step - loss: 0.1897 - accuracy: 0.9298\n",
      "Epoch 18/20\n",
      "1875/1875 [==============================] - 11s 6ms/step - loss: 0.1841 - accuracy: 0.9316\n",
      "Epoch 19/20\n",
      "1875/1875 [==============================] - 11s 6ms/step - loss: 0.1785 - accuracy: 0.9329\n",
      "Epoch 20/20\n",
      "1875/1875 [==============================] - 11s 6ms/step - loss: 0.1743 - accuracy: 0.9347\n"
     ]
    },
    {
     "data": {
      "text/plain": [
       "<keras.callbacks.History at 0x1b49d2e1900>"
      ]
     },
     "execution_count": 45,
     "metadata": {},
     "output_type": "execute_result"
    }
   ],
   "source": [
    "# compile the model with Adam optimizer and sparse categorical crossentropy loss\n",
    "model.compile(optimizer = tf.optimizers.Adam(),\n",
    "              loss = 'sparse_categorical_crossentropy',\n",
    "              metrics=['accuracy'])\n",
    "\n",
    "# fit the model to data with 20 epochs\n",
    "model.fit(train_img, train_lab, epochs=20)"
   ]
  },
  {
   "cell_type": "markdown",
   "metadata": {},
   "source": [
    "- __Number of epochs:__ \n",
    "TODO\n",
    "Try 15 epochs -- you'll probably get a model with a much better loss than the one with 5\n",
    "Try 30 epochs -- you might see the loss value stops decreasing, and sometimes increases.\n",
    "This is a side effect of something called 'overfitting' which you can learn about later and it's something you need to keep an eye out for when training neural networks. There's no point in wasting your time training if you aren't improving your loss, right! :)\n",
    "\n",
    "\n",
    "The final accuracy of the model can be found on the last epoch. The accuracy on the last epoch above is __0.93__, which means the model is %93 accurate on the training set. However, it is also crucial to confirm how the model performs on the test set, which can be checked by the ```.evaluate()``` call. The accuracy of the model on the unseen data is __0.88__, which means it is 88% accurate on the unseen data. As expected, the model performs less accurate on the test set."
   ]
  },
  {
   "cell_type": "code",
   "execution_count": 46,
   "metadata": {},
   "outputs": [
    {
     "name": "stdout",
     "output_type": "stream",
     "text": [
      "313/313 [==============================] - 5s 6ms/step - loss: 0.3649 - accuracy: 0.8870\n"
     ]
    },
    {
     "data": {
      "text/plain": [
       "[0.36485448479652405, 0.8870000243186951]"
      ]
     },
     "execution_count": 46,
     "metadata": {},
     "output_type": "execute_result"
    }
   ],
   "source": [
    "# evaluate the model on the unseen test data\n",
    "model.evaluate(test_img, test_lab)"
   ]
  },
  {
   "cell_type": "markdown",
   "metadata": {},
   "source": [
    "With the softmax activation on the last layer, the model predicts the probabilities of the input image being in any of the 10 classes defined before. Hence for each prediction, the model returns a 10 item list with 10 probabilities. The highest probability is used as the prediction of the model for the input image. An example of a test data is shown below:"
   ]
  },
  {
   "cell_type": "code",
   "execution_count": 80,
   "metadata": {},
   "outputs": [
    {
     "name": "stdout",
     "output_type": "stream",
     "text": [
      "313/313 [==============================] - 1s 3ms/step\n",
      "Probabilities of each class for the item (39):\n",
      " [1.9281529e-13 4.3010161e-19 4.9714338e-16 1.1918483e-15 4.4886968e-23 1.2032177e-07 1.1423350e-15 2.7894768e-05 8.2871857e-15 9.9997199e-01]\n",
      "Predicted class of the item (39): 9\n",
      "Actual class of the item (39): 9\n"
     ]
    },
    {
     "data": {
      "text/plain": [
       "<matplotlib.image.AxesImage at 0x1b4b7e29c90>"
      ]
     },
     "execution_count": 80,
     "metadata": {},
     "output_type": "execute_result"
    },
    {
     "data": {
      "image/png": "[encoded data removed]",
      "text/plain": [
       "<Figure size 432x288 with 1 Axes>"
      ]
     },
     "metadata": {
      "needs_background": "light"
     },
     "output_type": "display_data"
    }
   ],
   "source": [
    "# predict all items in the test set\n",
    "classes = model.predict(test_img)\n",
    "\n",
    "# pick an item\n",
    "i = 39\n",
    "\n",
    "# print item classification probabilities\n",
    "print(f\"Probabilities of each class for the item ({i}):\\n\", classes[i])\n",
    "print(f\"Predicted class of the item ({i}):\", np.argmax(classes[i]))\n",
    "print(f\"Actual class of the item ({i}):\", test_lab[i])\n",
    "\n",
    "# visualize the image\n",
    "plt.imshow(test_img[i])"
   ]
  },
  {
   "cell_type": "markdown",
   "metadata": {},
   "source": [
    "#### c) Create a Callback to Control Training\n",
    "\n",
    "Rather than setting the number of epochs intuitionally and checking the loss, [Callbacks API](https://keras.io/api/callbacks/) allows to stop training when a specific metric is met. By setting callbacks while fitting the model with __callbacks__ parameter, the training stops when the desired metric is met and the remaining epochs are avoided. "
   ]
  },
  {
   "cell_type": "code",
   "execution_count": 87,
   "metadata": {},
   "outputs": [],
   "source": [
    "class myCallback(tf.keras.callbacks.Callback):\n",
    "    # check certain condition when the current epoch ends\n",
    "    def on_epoch_end(self, epoch, logs={}):\n",
    "        \n",
    "        # if loss gets smaller then 0.3 and accuracy gets higher than 0.9, stop training\n",
    "        if((logs.get('loss') < 0.3) and (logs.get('accuracy') > 0.9)):\n",
    "            print(\"\\nLoss < 0.3 and accuracy > 0.9, training is terminated.\")\n",
    "            self.model.stop_training = True\n",
    "\n",
    "# instantiate class\n",
    "callbacks = myCallback()"
   ]
  },
  {
   "cell_type": "markdown",
   "metadata": {},
   "source": [
    "Using the callback, we may use the same model to see how it stops before completing the total number of epochs. In this example, both the accuracy and the loss are checked before terminating the training."
   ]
  },
  {
   "cell_type": "code",
   "execution_count": 88,
   "metadata": {},
   "outputs": [],
   "source": [
    "# build the classification model (same as before)\n",
    "model = tf.keras.models.Sequential([tf.keras.layers.Flatten(), \n",
    "                                    tf.keras.layers.Dense(128, activation=tf.nn.relu), \n",
    "                                    tf.keras.layers.Dense(10, activation=tf.nn.softmax)])\n",
    "\n",
    "# compile the model\n",
    "model.compile(optimizer = tf.optimizers.Adam(),\n",
    "              loss = 'sparse_categorical_crossentropy',\n",
    "              metrics=['accuracy'])"
   ]
  },
  {
   "cell_type": "code",
   "execution_count": 89,
   "metadata": {},
   "outputs": [
    {
     "name": "stdout",
     "output_type": "stream",
     "text": [
      "Epoch 1/20\n",
      "1875/1875 [==============================] - 12s 6ms/step - loss: 0.4982 - accuracy: 0.8238\n",
      "Epoch 2/20\n",
      "1875/1875 [==============================] - 11s 6ms/step - loss: 0.3785 - accuracy: 0.8638\n",
      "Epoch 3/20\n",
      "1875/1875 [==============================] - 11s 6ms/step - loss: 0.3400 - accuracy: 0.8763\n",
      "Epoch 4/20\n",
      "1875/1875 [==============================] - 11s 6ms/step - loss: 0.3150 - accuracy: 0.8862\n",
      "Epoch 5/20\n",
      "1875/1875 [==============================] - 11s 6ms/step - loss: 0.2983 - accuracy: 0.8905\n",
      "Epoch 6/20\n",
      "1875/1875 [==============================] - 11s 6ms/step - loss: 0.2844 - accuracy: 0.8946\n",
      "Epoch 7/20\n",
      "1875/1875 [==============================] - 11s 6ms/step - loss: 0.2701 - accuracy: 0.8989\n",
      "Epoch 8/20\n",
      "1869/1875 [============================>.] - ETA: 0s - loss: 0.2584 - accuracy: 0.9037\n",
      "Loss < 0.3 and accuracy > 0.9, training is terminated.\n",
      "1875/1875 [==============================] - 11s 6ms/step - loss: 0.2585 - accuracy: 0.9037\n"
     ]
    },
    {
     "data": {
      "text/plain": [
       "<keras.callbacks.History at 0x1b4948b21d0>"
      ]
     },
     "execution_count": 89,
     "metadata": {},
     "output_type": "execute_result"
    }
   ],
   "source": [
    "# train the model with a callback\n",
    "model.fit(train_img, train_lab, epochs=20, callbacks=[callbacks])"
   ]
  },
  {
   "cell_type": "markdown",
   "metadata": {},
   "source": [
    "Even though the number of epochs were set to 20, training stops after the 8th epoch since the accuracy and the loss values met the specified condition.\n",
    "\n",
    "### 4) Convolutional Neural Network\n",
    "\n",
    "A convolutional neural network (CNN) is a type of deep learning neural network architecture commonly used for image and signal processing tasks. It has multiple layers, including convolutional, pooling, and fully connected layers, which allows to extract features and make predictions from input data. CNNs have been widely used in computer vision applications, such as object detection, image classification, and image segmentation.\n",
    "\n",
    "#### a) Load and Prepare the Data\n",
    "\n",
    "The same __Fashion MNIST__ dataset can be classified using the CNNs where the labels were defined as below:\n",
    "\n",
    "| 0 | 1 | 2 | 3 | 4 | 5 | 6 | 7 | 8 | 9 |\n",
    "| --- | --- | --- | --- | --- | --- | --- | --- | --- | --- |\n",
    "| T-shirt/top | Trouser | Pullover | Dress | Coat | Sandal | Shirt | Sneaker | Bag | Ankle boot |\n",
    "\n",
    "Since the data loading procedure is the same, previously downloaded data will be used directly. \n",
    "\n",
    "#### b) Define the Model and Compile the Neural Network\n",
    "\n",
    "Keras [Convolution](https://www.tensorflow.org/api_docs/python/tf/keras/layers/Conv2D) and [Max Pooling](https://www.tensorflow.org/api_docs/python/tf/keras/layers/MaxPool2D) layers are used in a sequential order followed by [Flatten](https://keras.io/api/layers/reshaping_layers/flatten/) layer to flatten the result of convolutions into a 1-dimensional array and [Dense](https://keras.io/api/layers/core_layers/dense/) layer to perform classification with activation functions in order to create CNNs. Adding convolution layers before allows to bring more focused and accurate information to the dense layers. The ```.summary()``` is called to see tghe model structure with size reductions."
   ]
  },
  {
   "cell_type": "code",
   "execution_count": 90,
   "metadata": {},
   "outputs": [
    {
     "name": "stdout",
     "output_type": "stream",
     "text": [
      "Model: \"sequential_10\"\n",
      "_________________________________________________________________\n",
      " Layer (type)                Output Shape              Param #   \n",
      "=================================================================\n",
      " conv2d (Conv2D)             (None, 26, 26, 32)        320       \n",
      "                                                                 \n",
      " max_pooling2d (MaxPooling2D  (None, 13, 13, 32)       0         \n",
      " )                                                               \n",
      "                                                                 \n",
      " conv2d_1 (Conv2D)           (None, 11, 11, 32)        9248      \n",
      "                                                                 \n",
      " max_pooling2d_1 (MaxPooling  (None, 5, 5, 32)         0         \n",
      " 2D)                                                             \n",
      "                                                                 \n",
      " flatten_7 (Flatten)         (None, 800)               0         \n",
      "                                                                 \n",
      " dense_17 (Dense)            (None, 128)               102528    \n",
      "                                                                 \n",
      " dense_18 (Dense)            (None, 10)                1290      \n",
      "                                                                 \n",
      "=================================================================\n",
      "Total params: 113,386\n",
      "Trainable params: 113,386\n",
      "Non-trainable params: 0\n",
      "_________________________________________________________________\n"
     ]
    }
   ],
   "source": [
    "# build the classification model\n",
    "model = tf.keras.models.Sequential([\n",
    "                                           \n",
    "  # add convolutions and max pooling\n",
    "  tf.keras.layers.Conv2D(32, (3,3), activation='relu', input_shape=(28, 28, 1)),\n",
    "  tf.keras.layers.MaxPooling2D(2, 2),\n",
    "  tf.keras.layers.Conv2D(32, (3,3), activation='relu'),\n",
    "  tf.keras.layers.MaxPooling2D(2,2),\n",
    "\n",
    "  # add dense layers (same as in shallow example before)\n",
    "  tf.keras.layers.Flatten(),\n",
    "  tf.keras.layers.Dense(128, activation='relu'),\n",
    "  tf.keras.layers.Dense(10, activation='softmax')\n",
    "])\n",
    "\n",
    "# print the model summary\n",
    "model.summary()"
   ]
  },
  {
   "cell_type": "markdown",
   "metadata": {},
   "source": [
    "- __Convolution Layer:__ The first layer in the neural network is a Convolution layer where the shape of the input data (28, 28, 1) is defined by the parameter __input_shape__. The first parameter __filters__ is the dimension of the output space (the number of filters in the convolution), which is the number of convolutions to be generated. In this particular convolution layer, it is set to ```32``` to apply 32 convolutions. *Usually using the powers of 2 starting from 32 is a good practice.* The second parameter __kernel_size__ specifies the size of the convolution window, and is set to ```(3,3)``` grid in this example. The __activation__ parameter is used to define the activation function which will be used, and is set to ReLU here. The output of the first convolution layer has the shape (26, 26, 32) since the boundaries are not calculated during the convolutions and the size is reduced by 2 in both dimensions. There is no need to set the __input_shape__ in the second convolution layer, and the output shape is again reduced similarly by x and y dimensions while the depth is the same.\n",
    "\n",
    "- __Max Pooling Layer:__  The Max Pooling layer is designed to compress the image, while maintaining the content of the features that were highlighted by the convlution. It gets the __pool_size__ parameter which is the downscale factor (dim1, dim2). If only one integer is specified, the same window length will be used for all dimensions. It is set to ```(2,2)``` in this example, which quarters the size of the image. It turns 4 pixels into 1 by picking the biggest one, and repeats this across the image to halve both the number of horizontal and vertical pixels.\n",
    "\n",
    "- __Flatten Layer:__ It flattens the data from the previous layer into a 1-dimensional array.\n",
    "\n",
    "- __Dense Layer:__ Similar to the shallow neural network above, dense layers are used here to reduce the data size and perform the classification.\n",
    "\n",
    "- __Number of layers:__ \n",
    "\n",
    "The neural network is compiled with ```.compile()``` call by spesifying a __loss__ function and an __optimizer__ as explained before. Later, the model is trained with the data by calling ```.fit()``` function to fit the training data to the training labels. It is also tested on the unseen test data by calling ```.evaluate()``` function."
   ]
  },
  {
   "cell_type": "code",
   "execution_count": 91,
   "metadata": {},
   "outputs": [
    {
     "name": "stdout",
     "output_type": "stream",
     "text": [
      "Epoch 1/5\n",
      "1875/1875 [==============================] - 71s 13ms/step - loss: 0.4720 - accuracy: 0.8283\n",
      "Epoch 2/5\n",
      "1875/1875 [==============================] - 18s 10ms/step - loss: 0.3204 - accuracy: 0.8829\n",
      "Epoch 3/5\n",
      "1875/1875 [==============================] - 18s 10ms/step - loss: 0.2775 - accuracy: 0.8968\n",
      "Epoch 4/5\n",
      "1875/1875 [==============================] - 18s 10ms/step - loss: 0.2455 - accuracy: 0.9080\n",
      "Epoch 5/5\n",
      "1875/1875 [==============================] - 18s 10ms/step - loss: 0.2218 - accuracy: 0.9168\n"
     ]
    },
    {
     "data": {
      "text/plain": [
       "<keras.callbacks.History at 0x1b4949869b0>"
      ]
     },
     "execution_count": 91,
     "metadata": {},
     "output_type": "execute_result"
    }
   ],
   "source": [
    "# compile the model\n",
    "model.compile(optimizer = tf.optimizers.Adam(),\n",
    "              loss = 'sparse_categorical_crossentropy',\n",
    "              metrics=['accuracy'])\n",
    "\n",
    "# train the model\n",
    "model.fit(train_img, train_lab, epochs=5)"
   ]
  },
  {
   "cell_type": "code",
   "execution_count": 92,
   "metadata": {},
   "outputs": [
    {
     "name": "stdout",
     "output_type": "stream",
     "text": [
      "313/313 [==============================] - 5s 12ms/step - loss: 0.2645 - accuracy: 0.9063\n"
     ]
    },
    {
     "data": {
      "text/plain": [
       "[0.26450875401496887, 0.9063000082969666]"
      ]
     },
     "execution_count": 92,
     "metadata": {},
     "output_type": "execute_result"
    }
   ],
   "source": [
    "# evaluate the model on the unseen test data\n",
    "model.evaluate(test_img, test_lab)"
   ]
  },
  {
   "cell_type": "markdown",
   "metadata": {},
   "source": [
    "Compared to the DNN results before, CNN performs with a much higher accuracy for both training and test sets for much less epochs. However, running the training for more epochs (i.e. 20), may reduce the validation results despite the training results getting better. It is called __*overfitting*__ and it occurs when the network learns the data from the training set really well, but it is less effective at interpreting the unseen data."
   ]
  },
  {
   "cell_type": "markdown",
   "metadata": {},
   "source": [
    "Let's take a look at the result of running the convolution on each, and you'll begin to see common features between them emerge. Now, when the dense layer is training on that data, it's working with a lot less, and it's perhaps finding a commonality between shoes based on this convolution/pooling combination."
   ]
  },
  {
   "cell_type": "code",
   "execution_count": null,
   "metadata": {},
   "outputs": [
    {
     "name": "stdout",
     "output_type": "stream",
     "text": [
      "1/1 [==============================] - 1s 951ms/step\n",
      "1/1 [==============================] - 1s 620ms/step\n",
      "1/1 [==============================] - 0s 59ms/step\n",
      "1/1 [==============================] - 0s 192ms/step\n",
      "1/1 [==============================] - 0s 64ms/step\n",
      "1/1 [==============================] - 0s 78ms/step\n",
      "1/1 [==============================] - 0s 163ms/step\n",
      "1/1 [==============================] - 0s 98ms/step\n",
      "1/1 [==============================] - 0s 22ms/step\n",
      "1/1 [==============================] - 0s 29ms/step\n",
      "1/1 [==============================] - 0s 33ms/step\n",
      "1/1 [==============================] - 0s 21ms/step\n"
     ]
    },
    {
     "data": {
      "image/png": "[encoded data removed]",
      "text/plain": [
       "<Figure size 432x288 with 12 Axes>"
      ]
     },
     "metadata": {
      "needs_background": "light"
     },
     "output_type": "display_data"
    }
   ],
   "source": [
    "f, axarr = plt.subplots(3,4)\n",
    "\n",
    "FIRST_IMAGE=0 # has label 9 shoes\n",
    "SECOND_IMAGE=23 # has label 9 shoes\n",
    "THIRD_IMAGE=28 # has label 9 shoes\n",
    "CONVOLUTION_NUMBER = 1\n",
    "\n",
    "layer_outputs = [layer.output for layer in model.layers]\n",
    "activation_model = tf.keras.models.Model(inputs = model.input, outputs = layer_outputs)\n",
    "\n",
    "for x in range(0,4):\n",
    "  f1 = activation_model.predict(test_img[FIRST_IMAGE].reshape(1, 28, 28, 1))[x]\n",
    "  axarr[0,x].imshow(f1[0, : , :, CONVOLUTION_NUMBER], cmap='inferno')\n",
    "  axarr[0,x].grid(False)\n",
    "  \n",
    "  f2 = activation_model.predict(test_img[SECOND_IMAGE].reshape(1, 28, 28, 1))[x]\n",
    "  axarr[1,x].imshow(f2[0, : , :, CONVOLUTION_NUMBER], cmap='inferno')\n",
    "  axarr[1,x].grid(False)\n",
    "  \n",
    "  f3 = activation_model.predict(test_img[THIRD_IMAGE].reshape(1, 28, 28, 1))[x]\n",
    "  axarr[2,x].imshow(f3[0, : , :, CONVOLUTION_NUMBER], cmap='inferno')\n",
    "  axarr[2,x].grid(False)"
   ]
  },
  {
   "cell_type": "markdown",
   "metadata": {},
   "source": [
    "### 5) Data Input\n",
    "\n",
    "#### a) (Deprecated) Keras Preprocessing\n",
    "A tricky part of building a model is deciding the right feature representation, which usually requires experimentation on a specific data set. Keras [Preprocessing](https://www.tensorflow.org/api_docs/python/tf/keras/preprocessing) API allows to prepare the data input to the model. Even though it is deprecated, some features are still widely used including but not limited to [ImageDataGenerator](https://www.tensorflow.org/api_docs/python/tf/keras/preprocessing/image/ImageDataGenerator). Below example shows how to use it for data preprocessing for a binary classification task.\n",
    "\n",
    "- ##### Load the Data\n",
    "\n",
    "A [human vs. horse training set](https://storage.googleapis.com/tensorflow-1-public/course2/week3/horse-or-human.zip) and a [human vs. horse validation set](https://storage.googleapis.com/tensorflow-1-public/course2/week3/validation-horse-or-human.zip) are loaded as zip files, which needs to be extracted and classified in folders."
   ]
  },
  {
   "cell_type": "code",
   "execution_count": 21,
   "metadata": {},
   "outputs": [],
   "source": [
    "# check the current directory if necessary\n",
    "#os.getcwd()\n",
    "\n",
    "# unzip the dataset horse vs human dataset\n",
    "local_zip = '../data/horse_vs_human/horse-or-human.zip'\n",
    "zip_ref = zipfile.ZipFile(local_zip, 'r')\n",
    "\n",
    "# extract the loaded zip training set to the base directory ./horse-or-human, containing horses and humans subdirectories\n",
    "zip_ref.extractall('../data/horse_vs_human/horse-or-human')\n",
    "\n",
    "# unzip validation set\n",
    "local_zip = '../data/horse_vs_human/validation-horse-or-human.zip'\n",
    "zip_ref = zipfile.ZipFile(local_zip, 'r')\n",
    "\n",
    "# extract the loaded zip validation set to the base directory\n",
    "zip_ref.extractall('../data/horse_vs_human/validation-horse-or-human')\n",
    "\n",
    "zip_ref.close()"
   ]
  },
  {
   "cell_type": "code",
   "execution_count": 22,
   "metadata": {},
   "outputs": [],
   "source": [
    "# define the directory with training horse pictures\n",
    "train_horse_dir = os.path.join('../data/horse_vs_human/horse-or-human/horses')\n",
    "\n",
    "# define the directory with training human pictures\n",
    "train_human_dir = os.path.join('../data/horse_vs_human/horse-or-human/humans')\n",
    "\n",
    "# define the directory with validation horse pictures\n",
    "val_horse_dir = os.path.join('../data/horse_vs_human/validation-horse-or-human/horses')\n",
    "\n",
    "# define the directory with validation human pictures\n",
    "val_human_dir = os.path.join('../data/horse_vs_human/validation-horse-or-human/humans')"
   ]
  },
  {
   "cell_type": "code",
   "execution_count": 23,
   "metadata": {},
   "outputs": [
    {
     "name": "stdout",
     "output_type": "stream",
     "text": [
      "Horse Training Set Sample: ['horse01-0.png', 'horse01-1.png', 'horse01-2.png', 'horse01-3.png', 'horse01-4.png']\n",
      "Human Training Set Sample: ['human01-00.png', 'human01-01.png', 'human01-02.png', 'human01-03.png', 'human01-04.png']\n",
      "Total Horse Training Images: 500\n",
      "Total Horse Validation Images: 128\n",
      "Total Human Training Images: 527\n",
      "Total Human Validation Images: 128\n"
     ]
    }
   ],
   "source": [
    "# check the filenames and total number in the defined directories when necessary\n",
    "# the actual data is larger! With a better GPU, try the whole data set\n",
    "train_horse_images = os.listdir(train_horse_dir)\n",
    "train_human_images = os.listdir(train_human_dir)\n",
    "print(\"Horse Training Set Sample:\", train_horse_images[:5])\n",
    "print(\"Human Training Set Sample:\", train_human_images[:5])\n",
    "print(\"Total Horse Training Images:\", len(train_horse_images))\n",
    "print(\"Total Horse Validation Images:\", len(os.listdir(val_horse_dir)))\n",
    "print(\"Total Human Training Images:\", len(train_human_images))\n",
    "print(\"Total Human Validation Images:\", len(os.listdir(val_human_dir)))"
   ]
  },
  {
   "cell_type": "code",
   "execution_count": 24,
   "metadata": {},
   "outputs": [
    {
     "data": {
      "image/png": "[encoded data removed]",
      "text/plain": [
       "<Figure size 576x576 with 2 Axes>"
      ]
     },
     "metadata": {
      "needs_background": "light"
     },
     "output_type": "display_data"
    }
   ],
   "source": [
    "# show a sample horse and human image from the data set\n",
    "fig = plt.gcf()\n",
    "fig.set_size_inches(8, 8)\n",
    "\n",
    "# pick the index of the picture\n",
    "horse_pic_index = 8\n",
    "human_pic_index = 8\n",
    "\n",
    "horse_pic_path = os.path.join(train_horse_dir, train_horse_images[horse_pic_index])\n",
    "human_pic_path = os.path.join(train_human_dir, train_human_images[human_pic_index])\n",
    "\n",
    "for i, img_path in enumerate([horse_pic_path, human_pic_path]):\n",
    "  \n",
    "  # set up subplot\n",
    "  sp = plt.subplot(1, 2, i + 1)\n",
    "  sp.axis('Off') # don't show axes (or gridlines)\n",
    "\n",
    "  img = mpimg.imread(img_path)\n",
    "  plt.imshow(img)\n",
    "\n",
    "plt.show()"
   ]
  },
  {
   "cell_type": "markdown",
   "metadata": {},
   "source": [
    "- ##### Define the Model and Compile the Neural Network\n",
    "\n",
    "A sequential model is created with 5 convolutional layers with a flatten layer feed into the densely connected layers. As this is a binary classification problem, the network ends with a sigmoid activation to output the value of the network as a single scalar between 0 and 1."
   ]
  },
  {
   "cell_type": "code",
   "execution_count": 25,
   "metadata": {},
   "outputs": [],
   "source": [
    "model = tf.keras.models.Sequential([\n",
    "    \n",
    "    # the input shape is the desired size of the image 150x150 with 3 bytes color for RGB (try 300x300 with better GPU)\n",
    "    # 1st convolution\n",
    "    tf.keras.layers.Conv2D(16, (3,3), activation='relu', input_shape=(150, 150, 3)),\n",
    "    tf.keras.layers.MaxPooling2D(2, 2),\n",
    "    \n",
    "    # 2nd convolution\n",
    "    tf.keras.layers.Conv2D(32, (3,3), activation='relu'),\n",
    "    tf.keras.layers.MaxPooling2D(2,2),\n",
    "    \n",
    "    # 3rd convolution\n",
    "    tf.keras.layers.Conv2D(64, (3,3), activation='relu'),\n",
    "    tf.keras.layers.MaxPooling2D(2,2),\n",
    "    \n",
    "    # 4th convolution\n",
    "    #tf.keras.layers.Conv2D(64, (3,3), activation='relu'),\n",
    "    #tf.keras.layers.MaxPooling2D(2,2),\n",
    "    \n",
    "    # 5th convolution\n",
    "    #tf.keras.layers.Conv2D(64, (3,3), activation='relu'),\n",
    "    #tf.keras.layers.MaxPooling2D(2,2),\n",
    "    \n",
    "    # flattening layer to feed into a DNN\n",
    "    tf.keras.layers.Flatten(),\n",
    "    \n",
    "    # 512 output neuron dense layer\n",
    "    tf.keras.layers.Dense(512, activation='relu'),\n",
    "    \n",
    "    # 1 output neuron\n",
    "    tf.keras.layers.Dense(1, activation='sigmoid')\n",
    "])"
   ]
  },
  {
   "cell_type": "code",
   "execution_count": 26,
   "metadata": {},
   "outputs": [
    {
     "name": "stdout",
     "output_type": "stream",
     "text": [
      "Model: \"sequential_1\"\n",
      "_________________________________________________________________\n",
      " Layer (type)                Output Shape              Param #   \n",
      "=================================================================\n",
      " conv2d_5 (Conv2D)           (None, 148, 148, 16)      448       \n",
      "                                                                 \n",
      " max_pooling2d_5 (MaxPooling  (None, 74, 74, 16)       0         \n",
      " 2D)                                                             \n",
      "                                                                 \n",
      " conv2d_6 (Conv2D)           (None, 72, 72, 32)        4640      \n",
      "                                                                 \n",
      " max_pooling2d_6 (MaxPooling  (None, 36, 36, 32)       0         \n",
      " 2D)                                                             \n",
      "                                                                 \n",
      " conv2d_7 (Conv2D)           (None, 34, 34, 64)        18496     \n",
      "                                                                 \n",
      " max_pooling2d_7 (MaxPooling  (None, 17, 17, 64)       0         \n",
      " 2D)                                                             \n",
      "                                                                 \n",
      " flatten_1 (Flatten)         (None, 18496)             0         \n",
      "                                                                 \n",
      " dense_2 (Dense)             (None, 512)               9470464   \n",
      "                                                                 \n",
      " dense_3 (Dense)             (None, 1)                 513       \n",
      "                                                                 \n",
      "=================================================================\n",
      "Total params: 9,494,561\n",
      "Trainable params: 9,494,561\n",
      "Non-trainable params: 0\n",
      "_________________________________________________________________\n"
     ]
    }
   ],
   "source": [
    "# observe the model structure\n",
    "model.summary()"
   ]
  },
  {
   "cell_type": "markdown",
   "metadata": {},
   "source": [
    "The model is trained with the [binary_crossentropy](https://www.tensorflow.org/api_docs/python/tf/keras/losses/BinaryCrossentropy) loss and the final activation is a sigmoid that outputs a value from 0-1 where 0 for 1 class ('horses') and 1 for the other ('humans') as it is a binary classification problem. RMSprop optimization algorithm is used rather than the stochastic gradient descent (SGD), since RMSprop automates learning-rate tuning. (Other optimizers, such as Adam and Adagrad, also automates learning-rate tuning, and would work equally well.)"
   ]
  },
  {
   "cell_type": "code",
   "execution_count": 27,
   "metadata": {},
   "outputs": [],
   "source": [
    "model.compile(loss='binary_crossentropy',\n",
    "              optimizer=keras.optimizers.RMSprop(learning_rate=0.001),\n",
    "              metrics=['accuracy'])"
   ]
  },
  {
   "cell_type": "markdown",
   "metadata": {},
   "source": [
    "- ##### Preprocess the Data\n",
    "\n",
    "Keras [Preprocessing](https://www.tensorflow.org/api_docs/python/tf/keras/preprocessing) API allows to prepare the data input efficiently. To feed the data into the model, the pictures are read in the source folders, converted to float32 tensors, and feeded (with their labels) to the model with a generator. These generators yield batches of images of size 300x300 and their labels (binary). \n",
    "\n",
    "The images are also normalized by the pixel values to be in the [0, 1] range. In Keras, this can be done via the [ImageDataGenerator](https://www.tensorflow.org/api_docs/python/tf/keras/preprocessing/image/ImageDataGenerator) class using the rescale parameter. This ImageDataGenerator class allows us to instantiate generators of augmented image batches (and their labels) via ```.flow(data, labels)``` or ```.flow_from_directory(directory)```."
   ]
  },
  {
   "cell_type": "code",
   "execution_count": 28,
   "metadata": {},
   "outputs": [
    {
     "name": "stdout",
     "output_type": "stream",
     "text": [
      "Found 1027 images belonging to 2 classes.\n",
      "Found 256 images belonging to 2 classes.\n"
     ]
    }
   ],
   "source": [
    "# rescale images by 1./255\n",
    "train_datagen = keras.preprocessing.image.ImageDataGenerator(rescale=1/255)\n",
    "val_datagen = keras.preprocessing.image.ImageDataGenerator(rescale=1/255)\n",
    "\n",
    "# flow training images in batches of 128 using training set generator\n",
    "train_generator = train_datagen.flow_from_directory(\n",
    "        '../data/horse_vs_human/horse-or-human/',\n",
    "        target_size=(150, 150),                          # try target_size=(300, 300) with better GPU\n",
    "        batch_size=128,\n",
    "        # binary labels needed for binary_crossentropy loss\n",
    "        class_mode='binary')\n",
    "\n",
    "# flow validation images in batches of 32 using validation set generator\n",
    "val_generator = val_datagen.flow_from_directory(\n",
    "        '../data/horse_vs_human/validation-horse-or-human/',\n",
    "        target_size=(150, 150),                          # try target_size=(300, 300) with better GPU\n",
    "        batch_size=32,\n",
    "        class_mode='binary')"
   ]
  },
  {
   "cell_type": "markdown",
   "metadata": {},
   "source": [
    "- ##### Train the Model and Predict\n",
    "The model is trained for 15 epochs by observing the loss and accuracy. Increasing the number of epochs may increase the training accuracy, but the validation accuracy will go down due overfitting (which needs to be prevented)."
   ]
  },
  {
   "cell_type": "code",
   "execution_count": 29,
   "metadata": {},
   "outputs": [
    {
     "name": "stdout",
     "output_type": "stream",
     "text": [
      "Epoch 1/15\n",
      "8/8 [==============================] - 9s 805ms/step - loss: 1.7556 - accuracy: 0.5673 - val_loss: 0.5252 - val_accuracy: 0.7109\n",
      "Epoch 2/15\n",
      "8/8 [==============================] - 6s 770ms/step - loss: 0.5896 - accuracy: 0.8053 - val_loss: 1.1523 - val_accuracy: 0.7617\n",
      "Epoch 3/15\n",
      "8/8 [==============================] - 6s 738ms/step - loss: 0.1841 - accuracy: 0.9221 - val_loss: 2.2140 - val_accuracy: 0.6836\n",
      "Epoch 4/15\n",
      "8/8 [==============================] - 6s 757ms/step - loss: 0.3581 - accuracy: 0.8487 - val_loss: 2.0738 - val_accuracy: 0.6680\n",
      "Epoch 5/15\n",
      "8/8 [==============================] - 6s 762ms/step - loss: 0.1000 - accuracy: 0.9588 - val_loss: 1.8586 - val_accuracy: 0.7812\n",
      "Epoch 6/15\n",
      "8/8 [==============================] - 6s 719ms/step - loss: 0.0678 - accuracy: 0.9766 - val_loss: 0.8722 - val_accuracy: 0.8320\n",
      "Epoch 7/15\n",
      "8/8 [==============================] - 7s 807ms/step - loss: 0.0286 - accuracy: 0.9911 - val_loss: 1.9137 - val_accuracy: 0.8047\n",
      "Epoch 8/15\n",
      "8/8 [==============================] - 7s 789ms/step - loss: 0.0073 - accuracy: 0.9978 - val_loss: 1.5764 - val_accuracy: 0.8398\n",
      "Epoch 9/15\n",
      "8/8 [==============================] - 6s 758ms/step - loss: 0.2449 - accuracy: 0.9410 - val_loss: 8.1310 - val_accuracy: 0.5547\n",
      "Epoch 10/15\n",
      "8/8 [==============================] - 6s 728ms/step - loss: 0.1943 - accuracy: 0.9388 - val_loss: 1.3845 - val_accuracy: 0.8320\n",
      "Epoch 11/15\n",
      "8/8 [==============================] - 6s 772ms/step - loss: 0.0123 - accuracy: 0.9989 - val_loss: 1.8012 - val_accuracy: 0.8281\n",
      "Epoch 12/15\n",
      "8/8 [==============================] - 7s 799ms/step - loss: 0.0057 - accuracy: 1.0000 - val_loss: 2.6261 - val_accuracy: 0.7930\n",
      "Epoch 13/15\n",
      "8/8 [==============================] - 7s 828ms/step - loss: 0.0036 - accuracy: 1.0000 - val_loss: 2.4813 - val_accuracy: 0.8125\n",
      "Epoch 14/15\n",
      "8/8 [==============================] - 7s 789ms/step - loss: 0.0012 - accuracy: 1.0000 - val_loss: 2.8124 - val_accuracy: 0.8164\n",
      "Epoch 15/15\n",
      "8/8 [==============================] - 7s 812ms/step - loss: 6.6782e-04 - accuracy: 1.0000 - val_loss: 3.7134 - val_accuracy: 0.7695\n"
     ]
    }
   ],
   "source": [
    "history = model.fit(\n",
    "      train_generator, \n",
    "      epochs=15,\n",
    "      verbose=1,\n",
    "      validation_data = val_generator,\n",
    "      steps_per_epoch=8,\n",
    "      validation_steps=8)"
   ]
  },
  {
   "cell_type": "code",
   "execution_count": 34,
   "metadata": {},
   "outputs": [
    {
     "name": "stdout",
     "output_type": "stream",
     "text": [
      "1/1 [==============================] - 0s 46ms/step\n",
      "test-0.jpg is a horse\n",
      "1/1 [==============================] - 0s 43ms/step\n",
      "test-1.jpg is a human\n",
      "1/1 [==============================] - 0s 37ms/step\n",
      "test-2.jpg is a human\n",
      "1/1 [==============================] - 0s 47ms/step\n",
      "test-3.jpg is a horse\n",
      "1/1 [==============================] - 0s 29ms/step\n",
      "test-4.jpg is a human\n"
     ]
    },
    {
     "data": {
      "image/png": "[encoded data removed]",
      "text/plain": [
       "<Figure size 432x288 with 5 Axes>"
      ]
     },
     "metadata": {
      "needs_background": "light"
     },
     "output_type": "display_data"
    }
   ],
   "source": [
    "# define the directory with test pictures\n",
    "test_dir = os.path.join('../data/horse_vs_human/test/')\n",
    "\n",
    "# get a list of the test images\n",
    "test_images = os.listdir(test_dir)\n",
    "\n",
    "for i, name in enumerate(test_images):\n",
    "  # predicting images\n",
    "  path = test_dir + name\n",
    "  img = keras.preprocessing.image.load_img(path, target_size=(150, 150)) #try target_size=(300, 300) with better GPU\n",
    "  x = keras.preprocessing.image.img_to_array(img)\n",
    "  x /= 255\n",
    "  x = np.expand_dims(x, axis=0)\n",
    "\n",
    "  images = np.vstack([x])\n",
    "  classes = model.predict(images, batch_size=10)\n",
    "  \n",
    "  # set up subplot\n",
    "  sp = plt.subplot(1, len(test_images), i + 1)\n",
    "  sp.axis('Off') # don't show axes (or gridlines)\n",
    "\n",
    "  plt.imshow(mpimg.imread(path))\n",
    "  \n",
    "  if classes[0]>0.5:\n",
    "    print(name + \" is a human\")\n",
    "  else:\n",
    "    print(name + \" is a horse\")\n",
    "\n",
    "plt.show()"
   ]
  },
  {
   "cell_type": "markdown",
   "metadata": {},
   "source": [
    "TODO:"
   ]
  },
  {
   "cell_type": "code",
   "execution_count": null,
   "metadata": {},
   "outputs": [],
   "source": [
    "import random\n",
    "\n",
    "# Define a new Model that will take an image as input, and will output\n",
    "# intermediate representations for all layers in the previous model after\n",
    "# the first.\n",
    "successive_outputs = [layer.output for layer in model.layers[1:]]\n",
    "visualization_model = tf.keras.models.Model(inputs = model.input, outputs = successive_outputs)\n",
    "\n",
    "# Prepare a random input image from the training set.\n",
    "horse_img_files = [os.path.join(train_horse_dir, f) for f in train_horse_images]\n",
    "human_img_files = [os.path.join(train_human_dir, f) for f in train_human_images]\n",
    "img_path = random.choice(horse_img_files + human_img_files)\n",
    "\n",
    "img = keras.preprocessing.image.load_img(img_path, target_size=(300, 300))  # this is a PIL image\n",
    "x = keras.preprocessing.image.img_to_array(img)  # Numpy array with shape (300, 300, 3)\n",
    "x = x.reshape((1,) + x.shape)  # Numpy array with shape (1, 300, 300, 3)\n",
    "\n",
    "# Scale by 1/255\n",
    "x /= 255\n",
    "\n",
    "# Run the image through the network, thus obtaining all\n",
    "# intermediate representations for this image.\n",
    "successive_feature_maps = visualization_model.predict(x)\n",
    "\n",
    "# These are the names of the layers, so you can have them as part of the plot\n",
    "layer_names = [layer.name for layer in model.layers[1:]]\n",
    "\n",
    "# Display the representations\n",
    "for layer_name, feature_map in zip(layer_names, successive_feature_maps):\n",
    "  if len(feature_map.shape) == 4:\n",
    "\n",
    "    # Just do this for the conv / maxpool layers, not the fully-connected layers\n",
    "    n_features = feature_map.shape[-1]  # number of features in feature map\n",
    "\n",
    "    # The feature map has shape (1, size, size, n_features)\n",
    "    size = feature_map.shape[1]\n",
    "    \n",
    "    # Tile the images in this matrix\n",
    "    display_grid = np.zeros((size, size * n_features))\n",
    "    for i in range(n_features):\n",
    "      x = feature_map[0, :, :, i]\n",
    "      x -= x.mean()\n",
    "      x /= x.std()\n",
    "      x *= 64\n",
    "      x += 128\n",
    "      x = np.clip(x, 0, 255).astype('uint8')\n",
    "    \n",
    "      # Tile each filter into this big horizontal grid\n",
    "      display_grid[:, i * size : (i + 1) * size] = x\n",
    "    \n",
    "    # Display the grid\n",
    "    scale = 20. / n_features\n",
    "    plt.figure(figsize=(scale * n_features, scale))\n",
    "    plt.title(layer_name)\n",
    "    plt.grid(False)\n",
    "    plt.imshow(display_grid, aspect='auto', cmap='viridis')"
   ]
  },
  {
   "cell_type": "code",
   "execution_count": null,
   "metadata": {},
   "outputs": [],
   "source": [
    "# use to terminate the kernel and free memory resources\n",
    "#os.kill(os.getpid(), signal.SIGKILL)\n",
    "os.kill(os.getpid(), signal.SIGTERM)"
   ]
  },
  {
   "cell_type": "markdown",
   "metadata": {},
   "source": [
    "[ImageDataGenerator](https://www.tensorflow.org/api_docs/python/tf/keras/preprocessing/image/ImageDataGenerator) is not recommended for new code and it is recommended to load images with [tf.keras.utils.image_dataset_from_directory](https://www.tensorflow.org/api_docs/python/tf/keras/preprocessing/image_dataset_from_directory) and transforming the output [tf.data.Dataset](https://www.tensorflow.org/api_docs/python/tf/data/Dataset) with [preprocessing layers](https://www.tensorflow.org/guide/keras/preprocessing_layers).\n",
    "\n",
    "#### b) Data Input Pipelines with tf.data\n",
    "The [ImageDataGenerator](https://www.tensorflow.org/api_docs/python/tf/keras/preprocessing/image/ImageDataGenerator) Class generates batches of images with different augmentations as it takes the original data and randomly transforms it, and returns the transformed data for training the model. It applies ‘on the fly’ augmentation. It is deprecated in TensorFlow version 2.10, and instead it is advised to use [tf.data](https://www.tensorflow.org/guide/data) while building the data pipeline in Keras.\n",
    "\n",
    "The [tf.data](https://www.tensorflow.org/guide/data) module allows to create complex and efficient data pipelines effortlessly. It is easy to use and faster than [ImageDataGenerator](https://www.tensorflow.org/api_docs/python/tf/keras/preprocessing/image/ImageDataGenerator) class, resulting in shorter training times. It also allows multi-threading/multi-processing implementation and the concept of autotuning.\n",
    "\n",
    "- ##### Load the Data"
   ]
  },
  {
   "cell_type": "markdown",
   "metadata": {},
   "source": []
  }
 ],
 "metadata": {
  "kernelspec": {
   "display_name": "tf-gpu-coursera",
   "language": "python",
   "name": "python3"
  },
  "language_info": {
   "codemirror_mode": {
    "name": "ipython",
    "version": 3
   },
   "file_extension": ".py",
   "mimetype": "text/x-python",
   "name": "python",
   "nbconvert_exporter": "python",
   "pygments_lexer": "ipython3",
   "version": "3.10.4"
  }
 },
 "nbformat": 4,
 "nbformat_minor": 2
}
