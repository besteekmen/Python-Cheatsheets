{
 "cells": [
  {
   "cell_type": "markdown",
   "metadata": {},
   "source": [
    "# MNIST with CNN\n",
    "\n",
    "The __MNIST__ dataset, which is available in the [tf.keras.datasets](https://www.tensorflow.org/api_docs/python/tf/keras/datasets) API, is a collection of grayscale 28x28 pixel handwritten digit images which is suitable for a basic classification task. The labels are returned as a number list mapping the related numbers:\n",
    "\n",
    "| 0 | 1 | 2 | 3 | 4 | 5 | 6 | 7 | 8 | 9 |\n",
    "\n",
    "In this project, MNIST dataset is handled with a CNN to improve the training accuracy over 99.5%."
   ]
  },
  {
   "cell_type": "code",
   "execution_count": 2,
   "metadata": {},
   "outputs": [],
   "source": [
    "import numpy as np\n",
    "import tensorflow as tf\n",
    "from tensorflow import keras\n",
    "import matplotlib.pyplot as plt"
   ]
  },
  {
   "cell_type": "code",
   "execution_count": 3,
   "metadata": {},
   "outputs": [
    {
     "name": "stdout",
     "output_type": "stream",
     "text": [
      "Label: 9\n"
     ]
    },
    {
     "data": {
      "text/plain": [
       "<matplotlib.image.AxesImage at 0x1f76a446f50>"
      ]
     },
     "execution_count": 3,
     "metadata": {},
     "output_type": "execute_result"
    },
    {
     "data": {
      "image/png": "[encoded data removed]",
      "text/plain": [
       "<Figure size 432x288 with 1 Axes>"
      ]
     },
     "metadata": {
      "needs_background": "light"
     },
     "output_type": "display_data"
    }
   ],
   "source": [
    "# load the MNIST dataset\n",
    "mnist = tf.keras.datasets.mnist\n",
    "\n",
    "# to get the data from a local directory, add related path to current directory\n",
    "#current_dir = os.getcwd() \n",
    "#data_path = os.path.join(current_dir, \"data/mnist.npz\")\n",
    "\n",
    "# load only the training set of the MNIST dataset\n",
    "(train_img, train_lab), _ = mnist.load_data()\n",
    "\n",
    "# pick a random image from the dataset\n",
    "i = np.random.randint(train_lab.shape[0], size=1)[0]\n",
    "\n",
    "# print image and label of the randomly selected sample\n",
    "print(\"Label:\", train_lab[i])\n",
    "#print(\"Image as NumPy array: \\n\", train_img[i])\n",
    "\n",
    "# visualize the image\n",
    "plt.imshow(train_img[i])"
   ]
  },
  {
   "cell_type": "code",
   "execution_count": null,
   "metadata": {},
   "outputs": [],
   "source": [
    "# prepare the data by applying transformations (reshape, normalize)\n",
    "\n",
    "# normalize the pixel values from (0, 255) to (0, 1)\n",
    "train_img  = train_img / 255.0\n",
    "\n"
   ]
  }
 ],
 "metadata": {
  "kernelspec": {
   "display_name": "tf-gpu-coursera",
   "language": "python",
   "name": "python3"
  },
  "language_info": {
   "codemirror_mode": {
    "name": "ipython",
    "version": 3
   },
   "file_extension": ".py",
   "mimetype": "text/x-python",
   "name": "python",
   "nbconvert_exporter": "python",
   "pygments_lexer": "ipython3",
   "version": "3.10.4"
  }
 },
 "nbformat": 4,
 "nbformat_minor": 2
}
