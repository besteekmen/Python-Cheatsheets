{
 "cells": [
  {
   "cell_type": "markdown",
   "metadata": {},
   "source": [
    "# MNIST with CNN\n",
    "\n",
    "The __MNIST__ dataset, which is available in the [tf.keras.datasets](https://www.tensorflow.org/api_docs/python/tf/keras/datasets) API, is a collection of grayscale 28x28 pixel handwritten digit images which is suitable for a basic classification task. The labels are returned as a number list mapping the related numbers:\n",
    "\n",
    "| 0 | 1 | 2 | 3 | 4 | 5 | 6 | 7 | 8 | 9 |\n",
    "\n",
    "In this project, MNIST dataset is handled with a CNN to improve the training accuracy over 99.5%."
   ]
  },
  {
   "cell_type": "code",
   "execution_count": 3,
   "metadata": {},
   "outputs": [],
   "source": [
    "import numpy as np\n",
    "import tensorflow as tf\n",
    "from tensorflow import keras\n",
    "import matplotlib.pyplot as plt"
   ]
  },
  {
   "cell_type": "code",
   "execution_count": 4,
   "metadata": {},
   "outputs": [
    {
     "name": "stdout",
     "output_type": "stream",
     "text": [
      "Label: 6\n"
     ]
    },
    {
     "data": {
      "text/plain": [
       "<matplotlib.image.AxesImage at 0x1e773c8b370>"
      ]
     },
     "execution_count": 4,
     "metadata": {},
     "output_type": "execute_result"
    },
    {
     "data": {
      "image/png": "[encoded data removed]",
      "text/plain": [
       "<Figure size 432x288 with 1 Axes>"
      ]
     },
     "metadata": {
      "needs_background": "light"
     },
     "output_type": "display_data"
    }
   ],
   "source": [
    "# load the MNIST dataset\n",
    "mnist = tf.keras.datasets.mnist\n",
    "\n",
    "# to get the data from a local directory, add related path to current directory\n",
    "#current_dir = os.getcwd() \n",
    "#data_path = os.path.join(current_dir, \"data/mnist.npz\")\n",
    "\n",
    "# load only the training set of the MNIST dataset\n",
    "(train_img, train_lab), _ = mnist.load_data()\n",
    "\n",
    "# pick a random image from the dataset\n",
    "i = np.random.randint(train_lab.shape[0], size=1)[0]\n",
    "\n",
    "# print image and label of the randomly selected sample\n",
    "print(\"Label:\", train_lab[i])\n",
    "#print(\"Image as NumPy array: \\n\", train_img[i])\n",
    "\n",
    "# visualize the image\n",
    "plt.imshow(train_img[i])"
   ]
  },
  {
   "cell_type": "markdown",
   "metadata": {},
   "source": [
    "Before training the model, it is essential to prepare the data to feed the neural network. Here, two transformations are applied to the data:\n",
    "\n",
    "- __Reshape:__ Commonly 3-dimensional arrays (without the batch dimension) are used to represent image data. The third dimension represents the color channels using RGB values. Hence, the data is reshaped by adding an extra dimension. Even though MNIST dataset is in black and white format, adding the third dimension is a good practice.\n",
    "\n",
    "- __Normalize:__ The pixel values are normalized between 0 and 1 by dividing every value in the array by the maximum. Normalization is essential for a speedy, more accurate and high performance training as it reduces the effects of feature scales."
   ]
  },
  {
   "cell_type": "code",
   "execution_count": 5,
   "metadata": {},
   "outputs": [
    {
     "name": "stdout",
     "output_type": "stream",
     "text": [
      "Maximum pixel value after normalization: 1.0\n",
      "Shape of training set after reshaping: (60000, 28, 28, 1)\n",
      "Shape of an image after reshaping: (28, 28, 1)\n"
     ]
    }
   ],
   "source": [
    "# prepare the data by applying transformations (reshape, normalize)\n",
    "\n",
    "# reshape the images to add an extra dimension\n",
    "train_img = np.expand_dims(train_img, axis = -1)\n",
    "    \n",
    "# normalize the pixel values from (0, 255) to (0, 1)\n",
    "train_img  = train_img / 255.0\n",
    "\n",
    "print(\"Maximum pixel value after normalization:\", np.max(train_img))\n",
    "print(\"Shape of training set after reshaping:\", train_img.shape)\n",
    "print(\"Shape of an image after reshaping:\", train_img[0].shape)"
   ]
  },
  {
   "cell_type": "code",
   "execution_count": 8,
   "metadata": {},
   "outputs": [],
   "source": [
    "# create a callback to ensure 99.5% accuracy limit\n",
    "class myCallback(tf.keras.callbacks.Callback):\n",
    "    \n",
    "    # check certain condition when the current epoch ends\n",
    "    def on_epoch_end(self, epoch, logs={}):\n",
    "        \n",
    "        # if accuracy exists and gets higher than 0.995, stop training\n",
    "        if logs.get('accuracy') is not None and logs.get('accuracy') > 0.995:\n",
    "            print(\"\\nReached 99.5% accuracy, training is terminated.\")\n",
    "            self.model.stop_training = True"
   ]
  },
  {
   "cell_type": "markdown",
   "metadata": {},
   "source": [
    "The model is created with 5 layers:\n",
    "- A Conv2D layer with 32 filters, a kernel_size of 3x3, ReLU activation function\n",
    "-  A MaxPooling2D layer with a pool_size of 2x2\n",
    "- A Flatten layer with no arguments\n",
    "- A Dense layer with 128 units and ReLU activation function\n",
    "- A Dense layer with 10 units and softmax activation function\n",
    "\n",
    "and optimized with Adam optimizer using sparse categorical crossentropy loss."
   ]
  },
  {
   "cell_type": "code",
   "execution_count": 9,
   "metadata": {},
   "outputs": [],
   "source": [
    "# define the convolutional model\n",
    "def conv_model():\n",
    "    model = tf.keras.models.Sequential([ \n",
    "        keras.layers.Conv2D(32, (3, 3), activation='relu', input_shape=(28, 28, 1)),\n",
    "        keras.layers.MaxPooling2D(2, 2),\n",
    "        keras.layers.Flatten(),\n",
    "        keras.layers.Dense(128, activation=tf.nn.relu),\n",
    "        keras.layers.Dense(10, activation=tf.nn.softmax)\n",
    "    ])\n",
    "    \n",
    "    # compile the model\n",
    "    model.compile(optimizer='adam', \n",
    "                  loss='sparse_categorical_crossentropy', \n",
    "                  metrics=['accuracy']) \n",
    "        \n",
    "    return model"
   ]
  },
  {
   "cell_type": "code",
   "execution_count": 10,
   "metadata": {},
   "outputs": [
    {
     "name": "stdout",
     "output_type": "stream",
     "text": [
      "Epoch 1/10\n",
      "1875/1875 [==============================] - 69s 13ms/step - loss: 0.1409 - accuracy: 0.9577\n",
      "Epoch 2/10\n",
      "1875/1875 [==============================] - 19s 10ms/step - loss: 0.0480 - accuracy: 0.9856\n",
      "Epoch 3/10\n",
      "1875/1875 [==============================] - 19s 10ms/step - loss: 0.0312 - accuracy: 0.9906\n",
      "Epoch 4/10\n",
      "1875/1875 [==============================] - 19s 10ms/step - loss: 0.0191 - accuracy: 0.9936\n",
      "Epoch 5/10\n",
      "1871/1875 [============================>.] - ETA: 0s - loss: 0.0124 - accuracy: 0.9962\n",
      "Reached 99.5% accuracy, training is terminated.\n",
      "1875/1875 [==============================] - 19s 10ms/step - loss: 0.0124 - accuracy: 0.9961\n"
     ]
    }
   ],
   "source": [
    "# instantiate class to add callback while training\n",
    "callbacks = myCallback()\n",
    "\n",
    "# save the untrained model\n",
    "model = conv_model()\n",
    "\n",
    "# train the model\n",
    "history = model.fit(train_img, train_lab, epochs=10, callbacks=[callbacks])"
   ]
  },
  {
   "cell_type": "code",
   "execution_count": 11,
   "metadata": {},
   "outputs": [
    {
     "name": "stdout",
     "output_type": "stream",
     "text": [
      "Model: \"sequential\"\n",
      "_________________________________________________________________\n",
      " Layer (type)                Output Shape              Param #   \n",
      "=================================================================\n",
      " conv2d (Conv2D)             (None, 26, 26, 32)        320       \n",
      "                                                                 \n",
      " max_pooling2d (MaxPooling2D  (None, 13, 13, 32)       0         \n",
      " )                                                               \n",
      "                                                                 \n",
      " flatten (Flatten)           (None, 5408)              0         \n",
      "                                                                 \n",
      " dense (Dense)               (None, 128)               692352    \n",
      "                                                                 \n",
      " dense_1 (Dense)             (None, 10)                1290      \n",
      "                                                                 \n",
      "=================================================================\n",
      "Total params: 693,962\n",
      "Trainable params: 693,962\n",
      "Non-trainable params: 0\n",
      "_________________________________________________________________\n",
      "The model was trained for 5 epochs\n"
     ]
    }
   ],
   "source": [
    "# print the model summary\n",
    "model.summary()\n",
    "\n",
    "# check the training history\n",
    "print(\"The model was trained for\", len(history.epoch), \"epochs\")"
   ]
  }
 ],
 "metadata": {
  "kernelspec": {
   "display_name": "tf-gpu-coursera",
   "language": "python",
   "name": "python3"
  },
  "language_info": {
   "codemirror_mode": {
    "name": "ipython",
    "version": 3
   },
   "file_extension": ".py",
   "mimetype": "text/x-python",
   "name": "python",
   "nbconvert_exporter": "python",
   "pygments_lexer": "ipython3",
   "version": "3.10.4"
  }
 },
 "nbformat": 4,
 "nbformat_minor": 2
}
