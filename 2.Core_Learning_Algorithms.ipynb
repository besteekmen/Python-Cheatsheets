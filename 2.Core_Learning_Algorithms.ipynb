{
 "cells": [
  {
   "cell_type": "markdown",
   "id": "8bf44e84",
   "metadata": {},
   "source": [
    "# Core Learning Algorithms\n",
    "\n",
    "### 1) Linear Regression\n",
    "\n",
    "Linear regression attempts to model the relationship between two or more variables by fitting a linear equation to observed data. Linear Regression is a supervised machine learning algorithm where the predicted output is continuous and has a constant slope. It’s used to predict values within a continuous range, (e.g. sales, price) rather than trying to classify them into categories (e.g. cat, dog). There are two main types:\n",
    "\n",
    " - __Simple regression:__ \n",
    "   Simple linear regression uses traditional slope-intercept form, where m and b are the variables. The algorithm tries to “learn” to produce the most accurate predictions. The given independent variable x represents the input data and dependent variable y represents the prediction.\n",
    "   $y=mx+b$\n",
    "\n",
    "- __Multivariable regression:__\n",
    "  The multi-variable linear regression attempts to model the relationship between two or more explanatory variables and a response variable by fitting a linear equation to observed data. The variables x,y,z represent the attributes, or distinct pieces of information about each observation. The model tries to learn coefficients w (weights).\n",
    "  $f(x,y,z)=w_1x+w_2y+w_3z$\n",
    "\n",
    "#### 1.1. Import Libraries\n",
    "`!pip install ...`: sklearn, pandas, matplotlib, tqdm"
   ]
  },
  {
   "cell_type": "code",
   "execution_count": 8,
   "id": "a7e23673",
   "metadata": {},
   "outputs": [],
   "source": [
    "import numpy as np\n",
    "import pandas as pd\n",
    "import matplotlib.pyplot as plt\n",
    "from IPython.display import clear_output\n",
    "from six.moves import urllib\n",
    "from tqdm import tqdm # to use the loading bar\n",
    "from time import sleep\n",
    "\n",
    "# tensorflow libraries\n",
    "import tensorflow as tf\n",
    "import tensorflow.compat.v2.feature_column as fc"
   ]
  },
  {
   "cell_type": "code",
   "execution_count": 9,
   "id": "e038fd90",
   "metadata": {},
   "outputs": [
    {
     "name": "stdout",
     "output_type": "stream",
     "text": [
      "TensorFlow Version: 2.8.0\n"
     ]
    }
   ],
   "source": [
    "# %tensorflow_version 2.x (to make sure v2 is being used)\n",
    "print(\"TensorFlow Version:\", tf.__version__)"
   ]
  },
  {
   "cell_type": "code",
   "execution_count": 10,
   "id": "2e0e9f7a",
   "metadata": {},
   "outputs": [
    {
     "name": "stderr",
     "output_type": "stream",
     "text": [
      "Doing important work...: 100%|█████████████████████████████████████████████████████████| 10/10 [00:10<00:00,  1.01s/it]\n"
     ]
    }
   ],
   "source": [
    "for i in tqdm(range(10), desc=\"Doing important work...\"):\n",
    "    sleep(1)"
   ]
  },
  {
   "cell_type": "markdown",
   "id": "814cdd28",
   "metadata": {},
   "source": [
    "#### 1.2. "
   ]
  },
  {
   "cell_type": "code",
   "execution_count": null,
   "id": "ab808203",
   "metadata": {},
   "outputs": [],
   "source": []
  },
  {
   "cell_type": "code",
   "execution_count": null,
   "id": "30ea9662",
   "metadata": {},
   "outputs": [],
   "source": []
  },
  {
   "cell_type": "code",
   "execution_count": null,
   "id": "b2727478",
   "metadata": {},
   "outputs": [],
   "source": []
  }
 ],
 "metadata": {
  "kernelspec": {
   "display_name": "Python 3 (ipykernel)",
   "language": "python",
   "name": "python3"
  },
  "language_info": {
   "codemirror_mode": {
    "name": "ipython",
    "version": 3
   },
   "file_extension": ".py",
   "mimetype": "text/x-python",
   "name": "python",
   "nbconvert_exporter": "python",
   "pygments_lexer": "ipython3",
   "version": "3.10.4"
  }
 },
 "nbformat": 4,
 "nbformat_minor": 5
}
