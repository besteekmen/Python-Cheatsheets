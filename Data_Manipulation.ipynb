{
 "cells": [
  {
   "cell_type": "markdown",
   "id": "0e7c0a02",
   "metadata": {},
   "source": [
    "# Python Cheatsheets - DATA ANALYSIS"
   ]
  },
  {
   "cell_type": "markdown",
   "id": "af8b011c",
   "metadata": {},
   "source": [
    "## Data Visualization \n",
    "Modules can be imported with three different options: \n",
    "- generic (`import ___`)\n",
    "- selective (`from ___ import ___`)\n",
    "- universal (`from ___ import *`)\n",
    "\n",
    "Generic import is preferred over selective (ref:DataCamp) and universal imports should be avoided for a clear namespace. These import statements can be followed by some aliases. Some common aliases are: \n",
    "\n",
    "`numpy as np`, `statsmodel as sm`, `seaborn as sns`, `pyplot as plt`, `pandas as pd`"
   ]
  },
  {
   "cell_type": "code",
   "execution_count": null,
   "id": "0adb20cd",
   "metadata": {},
   "outputs": [],
   "source": []
  }
 ],
 "metadata": {
  "kernelspec": {
   "display_name": "Python 3 (ipykernel)",
   "language": "python",
   "name": "python3"
  },
  "language_info": {
   "codemirror_mode": {
    "name": "ipython",
    "version": 3
   },
   "file_extension": ".py",
   "mimetype": "text/x-python",
   "name": "python",
   "nbconvert_exporter": "python",
   "pygments_lexer": "ipython3",
   "version": "3.9.7"
  }
 },
 "nbformat": 4,
 "nbformat_minor": 5
}
